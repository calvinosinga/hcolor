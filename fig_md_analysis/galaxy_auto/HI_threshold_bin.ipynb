{
 "cells": [
  {
   "cell_type": "code",
   "execution_count": 1,
   "metadata": {},
   "outputs": [],
   "source": [
    "import h5py as hp\n",
    "import matplotlib.pyplot as plt\n",
    "import numpy as np\n",
    "import illustris_python as il\n",
    "import matplotlib.gridspec as gspec\n",
    "import matplotlib as mpl\n",
    "import copy\n",
    "from hc_lib.plots.fig_lib import FigureLibrary"
   ]
  },
  {
   "cell_type": "code",
   "execution_count": 28,
   "metadata": {},
   "outputs": [],
   "source": [
    "import os\n",
    "\n",
    "class ResultContainer():\n",
    "    \n",
    "    def __init__(self, values, props):\n",
    "        self.values = values\n",
    "        self.props = props\n",
    "        return\n",
    "    \n",
    "class ResultLibrary():\n",
    "\n",
    "    def __init__(self, result_type):\n",
    "\n",
    "        \n",
    "        self.rt = result_type\n",
    "        self.rcs = []\n",
    "        self.paths = []\n",
    "\n",
    "        return\n",
    "    \n",
    "    def addAllOutputPaths(self, output_dir, result_type):\n",
    "        self.paths = []\n",
    "        for (root, dirs, files) in os.walk(output_dir):\n",
    "            for fl in files:\n",
    "                filepath = os.path.join(root, fl)\n",
    "                if '.hdf5' in filepath and 'results' in filepath:\n",
    "                    self.addPath(filepath)\n",
    "        return\n",
    "    def addPath(self, path):\n",
    "        self.paths.append(path)\n",
    "        return\n",
    "    \n",
    "    def loadFile(self, runname):\n",
    "        \n",
    "        for p in self.paths:\n",
    "            rt_in_file_path = p.split('_')[-1].split('.')[0]\n",
    "            if runname in p and self.rt == rt_in_file_path:\n",
    "                print(p)\n",
    "                try:\n",
    "                    f = hp.File(p, 'r')\n",
    "                    for k in list(f.keys()):\n",
    "                        self.rcs.append(ResultContainer(f[k][:], dict(f[k].attrs)))\n",
    "#                         self.datasets.append(f[k][:])\n",
    "#                         self.dprops.append(dict(f[k].attrs))\n",
    "                    f.close()\n",
    "                except BaseException:\n",
    "                    print('exception with %s'%p)\n",
    "                \n",
    "        \n",
    "        return\n",
    "    \n",
    "    def isMatch(self, dataset_props, desired_props):\n",
    "        isMatch = True\n",
    "        for k,v in desired_props.items():\n",
    "            try:\n",
    "                self_val = dataset_props[k]\n",
    "            except KeyError:\n",
    "                #print('did not find %s in dataset'%k)\n",
    "                continue\n",
    "            else:\n",
    "#                 print(isinstance(self_val,list))\n",
    "#                 print(type(self_val))\n",
    "\n",
    "                # if we don't have a list of desired values, check if the property\n",
    "                # of the result has the the desired value. Auto powers only have one\n",
    "                # property to check\n",
    "                if not isinstance(v, list) and not isinstance(self_val, np.ndarray):\n",
    "                    isMatch = (isMatch and v == self_val)\n",
    "                # if we do have a list of desired values, but the result is still an\n",
    "                # auto power spectrum, check if self_val is in v\n",
    "                elif isinstance(v, list) and not isinstance(self_val, np.ndarray):\n",
    "                    isMatch = (isMatch and self_val in v)\n",
    "\n",
    "                # if both are lists, we need to know if at least one value from self_val\n",
    "                # is in the desired properties\n",
    "                elif isinstance(v, list) and isinstance(self_val, np.ndarray):\n",
    "                    one_val = False\n",
    "                    for i in range(len(self_val)):\n",
    "                        if self_val[i] in v:\n",
    "                            one_val = True\n",
    "                    isMatch = (isMatch and one_val)\n",
    "                # the last case where v is not a list but self_val is\n",
    "                elif not isinstance(v, list) and isinstance(self_val, np.ndarray):\n",
    "                    isMatch = (isMatch and v in self_val)\n",
    "                else:\n",
    "                    print('not all cases handled')\n",
    "        return isMatch\n",
    "    \n",
    "    def loadResults(self, iprops, rmprops):\n",
    "\n",
    "        results = []\n",
    "        props = []\n",
    "        for residx in range(len(self.rcs)):\n",
    "            is_include = self.isMatch(self.rcs[residx].props, iprops)\n",
    "            is_remove = self.isMatch(self.rcs[residx].props, rmprops)\n",
    "            if is_include and not is_remove:\n",
    "                results.append(self.rcs[residx])\n",
    "        \n",
    "        self.results = results\n",
    "        return\n",
    "    \n",
    "    def getAllValuesOfProp(self, prop):\n",
    "        values = set()\n",
    "        for i in self.rcs:\n",
    "            \n",
    "            values.add(i.props[prop])\n",
    "        return values\n",
    "    \n",
    "    def getResultValuesOfProp(self, prop):\n",
    "        values = set()\n",
    "        for i in self.results:\n",
    "            \n",
    "            values.add(i.props[prop])\n",
    "        return values\n",
    "    \n",
    "    def organizeResults(self, rowp, rowvals, colp, colvals):\n",
    "        nrows = len(rowvals)\n",
    "        ncols = len(colvals)\n",
    "        figArr = np.empty((nrows,ncols), dtype=object)\n",
    "        \n",
    "        for i in range(nrows):\n",
    "            for j in range(ncols):\n",
    "                panelResults = []\n",
    "                for k in range(len(self.results)):\n",
    "                    r = self.results[k]\n",
    "                    rowval = rowvals[i]\n",
    "                    colval = colvals[j]\n",
    "                    if r.props[rowp] == rowval and r.props[colp] == colval:\n",
    "                        panelResults.append(r)\n",
    "                figArr[i,j] = panelResults\n",
    "        return figArr"
   ]
  },
  {
   "cell_type": "code",
   "execution_count": 33,
   "metadata": {},
   "outputs": [
    {
     "name": "stdout",
     "output_type": "stream",
     "text": [
      "/lustre/cosinga/hcolor/output/lowgr_tng100B_099S_0A_800R/results/hisubhalogrid_tng100B_099S_0A_800R_pks.hdf5\n"
     ]
    }
   ],
   "source": [
    "base = '/lustre/cosinga/hcolor/output/'\n",
    "path = base + 'lowgr_tng100B_099S_0A_800R/results/hisubhalogrid_tng100B_099S_0A_800R_pks.hdf5'\n",
    "#f = hp.File(path+'hisubhalogrid_tng100B_099S_0A_800R_pks.hdf5', 'r')\n",
    "rlib = ResultLibrary('pks')\n",
    "rlib.addPath(path)\n",
    "rlib.loadFile('lowgr')\n",
    "\n",
    "ip = {'fieldname':'hisubhalo'}\n",
    "rmp = {'HI_res':'diemer'}\n",
    "rlib.loadResults(ip, rmp)"
   ]
  },
  {
   "cell_type": "code",
   "execution_count": 34,
   "metadata": {},
   "outputs": [],
   "source": [
    "figarr = rlib.organizeResults('space', ['real', 'redshift'], 'snapshot', [99])"
   ]
  },
  {
   "cell_type": "code",
   "execution_count": 35,
   "metadata": {},
   "outputs": [],
   "source": [
    "# rlib.getResultValuesOfProp('HI_res')\n",
    "rcs = rlib.results\n",
    "for r in rcs:\n",
    "    print(r.props)\n"
   ]
  },
  {
   "cell_type": "code",
   "execution_count": 36,
   "metadata": {},
   "outputs": [
    {
     "data": {
      "text/plain": [
       "0"
      ]
     },
     "execution_count": 36,
     "metadata": {},
     "output_type": "execute_result"
    }
   ],
   "source": [
    "for r in rlib.rcs"
   ]
  },
  {
   "cell_type": "code",
   "execution_count": 7,
   "metadata": {},
   "outputs": [],
   "source": [
    "def get_match(pkfile, props):\n",
    "    keys = pkfile.keys()\n",
    "    matches = []\n",
    "    for k in keys:\n",
    "        is_match = True\n",
    "        \n",
    "        for p,v in props.items():\n",
    "            try:\n",
    "                lval = pkfile[k].attrs[p]\n",
    "\n",
    "                is_match = (is_match and v in lval)\n",
    "            except KeyError:\n",
    "                continue\n",
    "        if is_match:\n",
    "                matches.append(k)\n",
    "    return matches"
   ]
  },
  {
   "cell_type": "code",
   "execution_count": 8,
   "metadata": {},
   "outputs": [
    {
     "data": {
      "image/png": "[encoded data removed]",
      "text/plain": [
       "<Figure size 655.2x396 with 2 Axes>"
      ]
     },
     "metadata": {
      "needs_background": "light"
     },
     "output_type": "display_data"
    }
   ],
   "source": [
    "nrows = 1\n",
    "ncols = 2\n",
    "xborder = 1\n",
    "yborder = 1\n",
    "panel_bt = 0.1\n",
    "panel_length = 3.5\n",
    "\n",
    "# border input can be either a list or single number\n",
    "if isinstance(xborder, float) or isinstance(xborder, int):\n",
    "    xborder = [xborder, xborder]\n",
    "if isinstance(yborder, float) or isinstance(yborder, int):\n",
    "    yborder = [yborder, yborder]\n",
    "if isinstance(panel_bt, float) or isinstance(panel_bt, int):\n",
    "    panel_bt = [panel_bt, panel_bt]\n",
    "# creating Figure object\n",
    "\n",
    "figwidth = panel_length * ncols + panel_bt[0] * (ncols - 1) + \\\n",
    "        xborder[0] + xborder[1]\n",
    "figheight = panel_length * nrows + panel_bt[1] * (nrows - 1) + \\\n",
    "        yborder[0] + yborder[1]\n",
    "\n",
    "fig = plt.figure(figsize=(figwidth, figheight))\n",
    "\n",
    "# creating gridspec\n",
    "gs = gspec.GridSpec(nrows, ncols, left= xborder[0]/figwidth, right=1-xborder[1]/figwidth,\n",
    "        top=1-yborder[1]/figheight, bottom=yborder[0]/figheight,\n",
    "        wspace=panel_bt[0]*ncols/figwidth, hspace=panel_bt[1]*nrows/figheight)\n",
    "\n",
    "# making panels list\n",
    "panels = []\n",
    "for i in range(nrows):\n",
    "    col_panels = []\n",
    "    for j in range(ncols):\n",
    "        col_panels.append(fig.add_subplot(gs[i, j]))\n",
    "\n",
    "    panels.append(col_panels)\n",
    "\n",
    "flib = FigureLibrary(fig=fig, panels=panels)\n",
    "flib.panel_length = panel_length\n",
    "flib.panel_bt = panel_bt\n",
    "flib.xborder = xborder\n",
    "flib.yborder = yborder\n",
    "flib.has_cbar_col = False\n",
    "flib.figsize = [figwidth, figheight]"
   ]
  },
  {
   "cell_type": "code",
   "execution_count": 9,
   "metadata": {},
   "outputs": [],
   "source": [
    "keys_for_panels = np.empty((nrows,ncols), dtype=object)\n",
    "\n",
    "spaces = ['real', 'redshift']\n",
    "for i in range(nrows):\n",
    "    for j in range(ncols):\n",
    "        props = {'space':spaces[j]}\n",
    "        keys_for_panels[i,j] = get_match(f, props)"
   ]
  },
  {
   "cell_type": "code",
   "execution_count": 10,
   "metadata": {},
   "outputs": [],
   "source": [
    "def _get_fill(keys, propname, propval):\n",
    "    plot_pk = []\n",
    "    for k in keys:\n",
    "        if f[k].attrs[propname] == propval:\n",
    "            arr = f[k]\n",
    "            wn = arr[0,:]\n",
    "            plot_pk.append(arr[1,:])\n",
    "#             print(f[k].attrs['count'])\n",
    "    return wn, np.array(plot_pk)\n",
    "            \n",
    "        \n",
    "        \n",
    "for i in range(nrows):\n",
    "    for j in range(ncols):\n",
    "        idx = (i,j)\n",
    "        keys = keys_for_panels[idx]\n",
    "        wn, pk = _get_fill(keys, 'HI_res','low-threshold')\n",
    "        flib.plotFillPanel(idx, wn, pk, label = 'Low', color = 'lime')\n",
    "        wn, pk = _get_fill(keys, 'HI_res','mid-threshold')\n",
    "        flib.plotFillPanel(idx, wn, pk, label = 'Mid', color = 'cyan')\n",
    "        wn, pk = _get_fill(keys, 'HI_res','high-threshold')\n",
    "        flib.plotFillPanel(idx, wn, pk, label = 'High', color = 'salmon')\n",
    "        "
   ]
  },
  {
   "cell_type": "code",
   "execution_count": 11,
   "metadata": {},
   "outputs": [
    {
     "data": {
      "image/png": "[encoded data removed]",
      "text/plain": [
       "<Figure size 655.2x396 with 2 Axes>"
      ]
     },
     "execution_count": 11,
     "metadata": {},
     "output_type": "execute_result"
    }
   ],
   "source": [
    "fig"
   ]
  },
  {
   "cell_type": "code",
   "execution_count": 12,
   "metadata": {},
   "outputs": [],
   "source": [
    "box = f['0'].attrs['box']\n",
    "mink = wn[0]\n",
    "# axis\n",
    "flib.logAxis()\n",
    "flib.xLimAdjustToNyquist(gridres=800, box = box, xleft = mink)\n",
    "flib.flushYAxisToData()\n",
    "flib.matchAxisLimits()\n",
    "\n",
    "# ticks\n",
    "flib.changeTickDirection()\n",
    "flib.removeDefaultTickLabels()\n",
    "\n",
    "# labels\n",
    "flib.addLegend()\n",
    "flib.defaultAxesLabels()\n",
    "flib.addColLabels(['Real-Space', 'Redshift-Space'], in_panel=True)"
   ]
  },
  {
   "cell_type": "code",
   "execution_count": 13,
   "metadata": {},
   "outputs": [
    {
     "data": {
      "image/png": "[encoded data removed]",
      "text/plain": [
       "<Figure size 655.2x396 with 2 Axes>"
      ]
     },
     "execution_count": 13,
     "metadata": {},
     "output_type": "execute_result"
    }
   ],
   "source": [
    "fig"
   ]
  },
  {
   "cell_type": "code",
   "execution_count": 14,
   "metadata": {},
   "outputs": [
    {
     "data": {
      "image/png": "[encoded data removed]",
      "text/plain": [
       "<Figure size 655.2x396 with 2 Axes>"
      ]
     },
     "metadata": {
      "needs_background": "light"
     },
     "output_type": "display_data"
    }
   ],
   "source": [
    "nrows = 1\n",
    "ncols = 2\n",
    "xborder = 1\n",
    "yborder = 1\n",
    "panel_bt = 0.1\n",
    "panel_length = 3.5\n",
    "\n",
    "# border input can be either a list or single number\n",
    "if isinstance(xborder, float) or isinstance(xborder, int):\n",
    "    xborder = [xborder, xborder]\n",
    "if isinstance(yborder, float) or isinstance(yborder, int):\n",
    "    yborder = [yborder, yborder]\n",
    "if isinstance(panel_bt, float) or isinstance(panel_bt, int):\n",
    "    panel_bt = [panel_bt, panel_bt]\n",
    "# creating Figure object\n",
    "\n",
    "figwidth = panel_length * ncols + panel_bt[0] * (ncols - 1) + \\\n",
    "        xborder[0] + xborder[1]\n",
    "figheight = panel_length * nrows + panel_bt[1] * (nrows - 1) + \\\n",
    "        yborder[0] + yborder[1]\n",
    "\n",
    "fig = plt.figure(figsize=(figwidth, figheight))\n",
    "\n",
    "# creating gridspec\n",
    "gs = gspec.GridSpec(nrows, ncols, left= xborder[0]/figwidth, right=1-xborder[1]/figwidth,\n",
    "        top=1-yborder[1]/figheight, bottom=yborder[0]/figheight,\n",
    "        wspace=panel_bt[0]*ncols/figwidth, hspace=panel_bt[1]*nrows/figheight)\n",
    "\n",
    "# making panels list\n",
    "panels = []\n",
    "for i in range(nrows):\n",
    "    col_panels = []\n",
    "    for j in range(ncols):\n",
    "        col_panels.append(fig.add_subplot(gs[i, j]))\n",
    "\n",
    "    panels.append(col_panels)\n",
    "\n",
    "flib = FigureLibrary(fig=fig, panels=panels)\n",
    "flib.panel_length = panel_length\n",
    "flib.panel_bt = panel_bt\n",
    "flib.xborder = xborder\n",
    "flib.yborder = yborder\n",
    "flib.has_cbar_col = False\n",
    "flib.figsize = [figwidth, figheight]"
   ]
  },
  {
   "cell_type": "code",
   "execution_count": null,
   "metadata": {},
   "outputs": [],
   "source": []
  },
  {
   "cell_type": "code",
   "execution_count": null,
   "metadata": {},
   "outputs": [],
   "source": []
  },
  {
   "cell_type": "code",
   "execution_count": 15,
   "metadata": {},
   "outputs": [],
   "source": [
    "for i in range(nrows):\n",
    "    for j in range(ncols):\n",
    "        idx = (i,j)\n",
    "        keys = keys_for_panels[idx]\n",
    "        wn, pk = _get_fill(keys, 'HI_res','lowest-bin')\n",
    "        flib.plotFillPanel(idx, wn, pk, label = 'Lowest', color = 'lime')\n",
    "        wn, pk = _get_fill(keys, 'HI_res','low-bin')\n",
    "        flib.plotFillPanel(idx, wn, pk, label = 'Low', color = 'plum')\n",
    "        wn, pk = _get_fill(keys, 'HI_res','mid-bin')\n",
    "        flib.plotFillPanel(idx, wn, pk, label = 'Mid', color = 'cyan')\n",
    "        wn, pk = _get_fill(keys, 'HI_res','high-bin')\n",
    "        flib.plotFillPanel(idx, wn, pk, label = 'High', color = 'salmon')\n",
    "        "
   ]
  },
  {
   "cell_type": "code",
   "execution_count": 16,
   "metadata": {},
   "outputs": [],
   "source": [
    "box = f['0'].attrs['box']\n",
    "mink = wn[0]\n",
    "# axis\n",
    "flib.logAxis()\n",
    "flib.xLimAdjustToNyquist(gridres=800, box = box, xleft = mink)\n",
    "flib.flushYAxisToData()\n",
    "flib.matchAxisLimits()\n",
    "\n",
    "# ticks\n",
    "flib.changeTickDirection()\n",
    "flib.removeDefaultTickLabels()\n",
    "\n",
    "# labels\n",
    "flib.addLegend()\n",
    "flib.defaultAxesLabels()\n",
    "flib.addColLabels(['Real-Space', 'Redshift-Space'], in_panel=True)"
   ]
  },
  {
   "cell_type": "code",
   "execution_count": 17,
   "metadata": {},
   "outputs": [
    {
     "data": {
      "image/png": "[encoded data removed]",
      "text/plain": [
       "<Figure size 655.2x396 with 2 Axes>"
      ]
     },
     "execution_count": 17,
     "metadata": {},
     "output_type": "execute_result"
    }
   ],
   "source": [
    "fig"
   ]
  },
  {
   "cell_type": "code",
   "execution_count": null,
   "metadata": {},
   "outputs": [],
   "source": []
  }
 ],
 "metadata": {
  "kernelspec": {
   "display_name": "Python 3",
   "language": "python",
   "name": "python3"
  },
  "language_info": {
   "codemirror_mode": {
    "name": "ipython",
    "version": 3
   },
   "file_extension": ".py",
   "mimetype": "text/x-python",
   "name": "python",
   "nbconvert_exporter": "python",
   "pygments_lexer": "ipython3",
   "version": "3.7.7"
  }
 },
 "nbformat": 4,
 "nbformat_minor": 2
}
