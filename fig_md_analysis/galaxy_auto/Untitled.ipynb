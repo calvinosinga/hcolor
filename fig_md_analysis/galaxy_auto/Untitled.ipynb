{
 "cells": [
  {
   "cell_type": "code",
   "execution_count": 1,
   "metadata": {},
   "outputs": [],
   "source": [
    "import h5py as hp\n",
    "import matplotlib.pyplot as plt\n",
    "import numpy as np\n",
    "import illustris_python as il\n",
    "import matplotlib.gridspec as gspec\n",
    "import matplotlib as mpl\n",
    "import copy\n",
    "from hc_lib.plots.fig_lib import FigureLibrary"
   ]
  },
  {
   "cell_type": "code",
   "execution_count": 2,
   "metadata": {},
   "outputs": [],
   "source": [
    "base = '/lustre/cosinga/hcolor/output/'\n",
    "path = base + 'lowgr_tng100B_099S_0A_800R/results/'\n",
    "f = hp.File(path+'galaxygrid_tng100B_099S_0A_800R_pks.hdf5', 'r')\n"
   ]
  },
  {
   "cell_type": "code",
   "execution_count": 18,
   "metadata": {},
   "outputs": [
    {
     "name": "stdout",
     "output_type": "stream",
     "text": [
      "diemer\n",
      "diemer\n",
      "diemer\n",
      "diemer\n"
     ]
    }
   ],
   "source": [
    "for k in f.keys():\n",
    "    if f[k].attrs['color'] == 'resolved':\n",
    "        print(f[k].attrs['gal_res'])"
   ]
  },
  {
   "cell_type": "code",
   "execution_count": 5,
   "metadata": {},
   "outputs": [],
   "source": [
    "def get_match(pkfile, props):\n",
    "    keys = pkfile.keys()\n",
    "    matches = []\n",
    "    for k in keys:\n",
    "        is_match = True\n",
    "        \n",
    "        for p,v in props.items():\n",
    "            try:\n",
    "                lval = pkfile[k].attrs[p]\n",
    "\n",
    "                is_match = (is_match and v in lval)\n",
    "            except KeyError:\n",
    "                continue\n",
    "        if is_match:\n",
    "                matches.append(k)\n",
    "    return matches"
   ]
  },
  {
   "cell_type": "code",
   "execution_count": 6,
   "metadata": {},
   "outputs": [
    {
     "data": {
      "image/png": "[encoded data removed]",
      "text/plain": [
       "<Figure size 914.4x655.2 with 6 Axes>"
      ]
     },
     "metadata": {
      "needs_background": "light"
     },
     "output_type": "display_data"
    }
   ],
   "source": [
    "nrows = 2\n",
    "ncols = 3\n",
    "xborder = 1\n",
    "yborder = 1\n",
    "panel_bt = 0.1\n",
    "panel_length = 3.5\n",
    "\n",
    "# border input can be either a list or single number\n",
    "if isinstance(xborder, float) or isinstance(xborder, int):\n",
    "    xborder = [xborder, xborder]\n",
    "if isinstance(yborder, float) or isinstance(yborder, int):\n",
    "    yborder = [yborder, yborder]\n",
    "if isinstance(panel_bt, float) or isinstance(panel_bt, int):\n",
    "    panel_bt = [panel_bt, panel_bt]\n",
    "# creating Figure object\n",
    "\n",
    "figwidth = panel_length * ncols + panel_bt[0] * (ncols - 1) + \\\n",
    "        xborder[0] + xborder[1]\n",
    "figheight = panel_length * nrows + panel_bt[1] * (nrows - 1) + \\\n",
    "        yborder[0] + yborder[1]\n",
    "\n",
    "fig = plt.figure(figsize=(figwidth, figheight))\n",
    "\n",
    "# creating gridspec\n",
    "gs = gspec.GridSpec(nrows, ncols, left= xborder[0]/figwidth, right=1-xborder[1]/figwidth,\n",
    "        top=1-yborder[1]/figheight, bottom=yborder[0]/figheight,\n",
    "        wspace=panel_bt[0]*ncols/figwidth, hspace=panel_bt[1]*nrows/figheight)\n",
    "\n",
    "# making panels list\n",
    "panels = []\n",
    "for i in range(nrows):\n",
    "    col_panels = []\n",
    "    for j in range(ncols):\n",
    "        col_panels.append(fig.add_subplot(gs[i, j]))\n",
    "\n",
    "    panels.append(col_panels)\n",
    "\n",
    "flib = FigureLibrary(fig=fig, panels=panels)\n",
    "flib.panel_length = panel_length\n",
    "flib.panel_bt = panel_bt\n",
    "flib.xborder = xborder\n",
    "flib.yborder = yborder\n",
    "flib.has_cbar_col = False\n",
    "flib.figsize = [figwidth, figheight]"
   ]
  },
  {
   "cell_type": "code",
   "execution_count": 11,
   "metadata": {},
   "outputs": [
    {
     "name": "stdout",
     "output_type": "stream",
     "text": [
      "[[list(['22', '23', '24', '25', '26', '27', '28', '29', '30', '31', '32', '33', '34', '35', '36', '37', '38', '39', '40', '41'])\n",
      "  None None]\n",
      " [None None None]]\n",
      "[[list(['22', '23', '24', '25', '26', '27', '28', '29', '30', '31', '32', '33', '34', '35', '36', '37', '38', '39', '40', '41'])\n",
      "  list(['10', '11', '12', '13', '14', '15', '16', '17', '18', '19', '2', '20', '21', '3', '4', '5', '6', '7', '8', '9'])\n",
      "  None]\n",
      " [None None None]]\n",
      "[[list(['22', '23', '24', '25', '26', '27', '28', '29', '30', '31', '32', '33', '34', '35', '36', '37', '38', '39', '40', '41'])\n",
      "  list(['10', '11', '12', '13', '14', '15', '16', '17', '18', '19', '2', '20', '21', '3', '4', '5', '6', '7', '8', '9'])\n",
      "  list(['42', '43'])]\n",
      " [None None None]]\n",
      "[[list(['22', '23', '24', '25', '26', '27', '28', '29', '30', '31', '32', '33', '34', '35', '36', '37', '38', '39', '40', '41'])\n",
      "  list(['10', '11', '12', '13', '14', '15', '16', '17', '18', '19', '2', '20', '21', '3', '4', '5', '6', '7', '8', '9'])\n",
      "  list(['42', '43'])]\n",
      " [list(['66', '67', '68', '69', '70', '71', '72', '73', '74', '75', '76', '77', '78', '79', '80', '81', '82', '83', '84', '85'])\n",
      "  None None]]\n",
      "[[list(['22', '23', '24', '25', '26', '27', '28', '29', '30', '31', '32', '33', '34', '35', '36', '37', '38', '39', '40', '41'])\n",
      "  list(['10', '11', '12', '13', '14', '15', '16', '17', '18', '19', '2', '20', '21', '3', '4', '5', '6', '7', '8', '9'])\n",
      "  list(['42', '43'])]\n",
      " [list(['66', '67', '68', '69', '70', '71', '72', '73', '74', '75', '76', '77', '78', '79', '80', '81', '82', '83', '84', '85'])\n",
      "  list(['46', '47', '48', '49', '50', '51', '52', '53', '54', '55', '56', '57', '58', '59', '60', '61', '62', '63', '64', '65'])\n",
      "  None]]\n",
      "[[list(['22', '23', '24', '25', '26', '27', '28', '29', '30', '31', '32', '33', '34', '35', '36', '37', '38', '39', '40', '41'])\n",
      "  list(['10', '11', '12', '13', '14', '15', '16', '17', '18', '19', '2', '20', '21', '3', '4', '5', '6', '7', '8', '9'])\n",
      "  list(['42', '43'])]\n",
      " [list(['66', '67', '68', '69', '70', '71', '72', '73', '74', '75', '76', '77', '78', '79', '80', '81', '82', '83', '84', '85'])\n",
      "  list(['46', '47', '48', '49', '50', '51', '52', '53', '54', '55', '56', '57', '58', '59', '60', '61', '62', '63', '64', '65'])\n",
      "  list(['86', '87'])]]\n"
     ]
    }
   ],
   "source": [
    "keys_for_panels = np.empty((nrows,ncols), dtype=object)\n",
    "\n",
    "spaces = ['real', 'redshift']\n",
    "colors = ['red', 'blue', 'resolved']\n",
    "for i in range(nrows):\n",
    "    for j in range(ncols):\n",
    "        props = {'space':spaces[i], 'color':colors[j]}\n",
    "        keys_for_panels[i,j] = get_match(f, props)\n",
    "        if len(keys_for_panels[i,j]) > 1:\n",
    "            print(keys_for_panels)"
   ]
  },
  {
   "cell_type": "code",
   "execution_count": 17,
   "metadata": {},
   "outputs": [
    {
     "name": "stdout",
     "output_type": "stream",
     "text": [
      "diemer\n",
      "diemer\n"
     ]
    }
   ],
   "source": [
    "ks = keys_for_panels[0,2]\n",
    "for k in ks:\n",
    "    print(f[k].attrs['gal_res'])"
   ]
  },
  {
   "cell_type": "code",
   "execution_count": 16,
   "metadata": {},
   "outputs": [
    {
     "name": "stdout",
     "output_type": "stream",
     "text": [
      "found vals\n",
      "found vals\n",
      "found vals\n",
      "found vals\n",
      "found vals\n",
      "found vals\n",
      "found vals\n",
      "found vals\n"
     ]
    },
    {
     "ename": "UnboundLocalError",
     "evalue": "local variable 'wn' referenced before assignment",
     "output_type": "error",
     "traceback": [
      "\u001b[0;31m---------------------------------------------------------------------------\u001b[0m",
      "\u001b[0;31mUnboundLocalError\u001b[0m                         Traceback (most recent call last)",
      "\u001b[0;32m<ipython-input-16-557b7fb1275d>\u001b[0m in \u001b[0;36m<module>\u001b[0;34m\u001b[0m\n\u001b[1;32m     16\u001b[0m         \u001b[0midx\u001b[0m \u001b[0;34m=\u001b[0m \u001b[0;34m(\u001b[0m\u001b[0mi\u001b[0m\u001b[0;34m,\u001b[0m\u001b[0mj\u001b[0m\u001b[0;34m)\u001b[0m\u001b[0;34m\u001b[0m\u001b[0;34m\u001b[0m\u001b[0m\n\u001b[1;32m     17\u001b[0m         \u001b[0mkeys\u001b[0m \u001b[0;34m=\u001b[0m \u001b[0mkeys_for_panels\u001b[0m\u001b[0;34m[\u001b[0m\u001b[0midx\u001b[0m\u001b[0;34m]\u001b[0m\u001b[0;34m\u001b[0m\u001b[0;34m\u001b[0m\u001b[0m\n\u001b[0;32m---> 18\u001b[0;31m         \u001b[0mwn\u001b[0m\u001b[0;34m,\u001b[0m \u001b[0mpk\u001b[0m \u001b[0;34m=\u001b[0m \u001b[0m_get_line\u001b[0m\u001b[0;34m(\u001b[0m\u001b[0mkeys\u001b[0m\u001b[0;34m,\u001b[0m \u001b[0;34m'gal_res'\u001b[0m\u001b[0;34m,\u001b[0m\u001b[0;34m'low-threshold'\u001b[0m\u001b[0;34m)\u001b[0m\u001b[0;34m\u001b[0m\u001b[0;34m\u001b[0m\u001b[0m\n\u001b[0m\u001b[1;32m     19\u001b[0m         \u001b[0mflib\u001b[0m\u001b[0;34m.\u001b[0m\u001b[0mplotLinePanel\u001b[0m\u001b[0;34m(\u001b[0m\u001b[0midx\u001b[0m\u001b[0;34m,\u001b[0m \u001b[0mwn\u001b[0m\u001b[0;34m,\u001b[0m \u001b[0mpk\u001b[0m\u001b[0;34m,\u001b[0m \u001b[0mlabel\u001b[0m \u001b[0;34m=\u001b[0m \u001b[0;34m'Low'\u001b[0m\u001b[0;34m,\u001b[0m \u001b[0mcolor\u001b[0m \u001b[0;34m=\u001b[0m \u001b[0;34m'lime'\u001b[0m\u001b[0;34m)\u001b[0m\u001b[0;34m\u001b[0m\u001b[0;34m\u001b[0m\u001b[0m\n\u001b[1;32m     20\u001b[0m         \u001b[0mwn\u001b[0m\u001b[0;34m,\u001b[0m \u001b[0mpk\u001b[0m \u001b[0;34m=\u001b[0m \u001b[0m_get_line\u001b[0m\u001b[0;34m(\u001b[0m\u001b[0mkeys\u001b[0m\u001b[0;34m,\u001b[0m \u001b[0;34m'gal_res'\u001b[0m\u001b[0;34m,\u001b[0m\u001b[0;34m'mid-threshold'\u001b[0m\u001b[0;34m)\u001b[0m\u001b[0;34m\u001b[0m\u001b[0;34m\u001b[0m\u001b[0m\n",
      "\u001b[0;32m<ipython-input-16-557b7fb1275d>\u001b[0m in \u001b[0;36m_get_line\u001b[0;34m(keys, propname, propval)\u001b[0m\n\u001b[1;32m      8\u001b[0m             \u001b[0mprint\u001b[0m\u001b[0;34m(\u001b[0m\u001b[0;34m'found vals'\u001b[0m\u001b[0;34m)\u001b[0m\u001b[0;34m\u001b[0m\u001b[0;34m\u001b[0m\u001b[0m\n\u001b[1;32m      9\u001b[0m \u001b[0;31m#             print(f[k].attrs['count'])\u001b[0m\u001b[0;34m\u001b[0m\u001b[0;34m\u001b[0m\u001b[0;34m\u001b[0m\u001b[0m\n\u001b[0;32m---> 10\u001b[0;31m     \u001b[0;32mreturn\u001b[0m \u001b[0mwn\u001b[0m\u001b[0;34m,\u001b[0m \u001b[0mplot_pk\u001b[0m\u001b[0;34m[\u001b[0m\u001b[0;36m0\u001b[0m\u001b[0;34m]\u001b[0m\u001b[0;34m\u001b[0m\u001b[0;34m\u001b[0m\u001b[0m\n\u001b[0m\u001b[1;32m     11\u001b[0m \u001b[0;34m\u001b[0m\u001b[0m\n\u001b[1;32m     12\u001b[0m \u001b[0;34m\u001b[0m\u001b[0m\n",
      "\u001b[0;31mUnboundLocalError\u001b[0m: local variable 'wn' referenced before assignment"
     ]
    }
   ],
   "source": [
    "def _get_line(keys, propname, propval):\n",
    "    plot_pk = []\n",
    "    for k in keys:\n",
    "        if f[k].attrs[propname] == propval:\n",
    "            arr = f[k]\n",
    "            wn = arr[0,:]\n",
    "            plot_pk.append(arr[1,:])\n",
    "            print('found vals')\n",
    "#             print(f[k].attrs['count'])\n",
    "    return wn, plot_pk[0]\n",
    "            \n",
    "        \n",
    "        \n",
    "for i in range(nrows):\n",
    "    for j in range(ncols):\n",
    "        idx = (i,j)\n",
    "        keys = keys_for_panels[idx]\n",
    "        wn, pk = _get_line(keys, 'gal_res','low-threshold')\n",
    "        flib.plotLinePanel(idx, wn, pk, label = 'Low', color = 'lime')\n",
    "        wn, pk = _get_line(keys, 'gal_res','mid-threshold')\n",
    "        flib.plotLinePanel(idx, wn, pk, label = 'Mid', color = 'cyan')\n",
    "        wn, pk = _get_line(keys, 'gal_res','high-threshold')\n",
    "        flib.plotLinePanel(idx, wn, pk, label = 'High', color = 'salmon')\n",
    "        wn, pk = _get_line(keys, 'gal_res','higher-threshold')\n",
    "        flib.plotLinePanel(idx, wn, pk, label = 'Higher', color = 'blue')"
   ]
  },
  {
   "cell_type": "code",
   "execution_count": null,
   "metadata": {},
   "outputs": [],
   "source": []
  }
 ],
 "metadata": {
  "kernelspec": {
   "display_name": "Python 3",
   "language": "python",
   "name": "python3"
  },
  "language_info": {
   "codemirror_mode": {
    "name": "ipython",
    "version": 3
   },
   "file_extension": ".py",
   "mimetype": "text/x-python",
   "name": "python",
   "nbconvert_exporter": "python",
   "pygments_lexer": "ipython3",
   "version": "3.7.7"
  }
 },
 "nbformat": 4,
 "nbformat_minor": 2
}
