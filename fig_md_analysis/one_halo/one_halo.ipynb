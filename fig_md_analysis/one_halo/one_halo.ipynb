{
 "cells": [
  {
   "cell_type": "code",
   "execution_count": null,
   "metadata": {},
   "outputs": [],
   "source": [
    "import hc_lib.plots.figlib as flib\n",
    "flib.siteFG()\n",
    "from figrid.figrid import DataList\n",
    "from figrid.figrid import Figrid\n",
    "import numpy as np\n",
    "import matplotlib as mpl"
   ]
  },
  {
   "cell_type": "code",
   "execution_count": null,
   "metadata": {},
   "outputs": [],
   "source": [
    "box = 'tng100'\n",
    "snap = [99, 67]\n",
    "axis = 0\n",
    "res = 800\n",
    "files = ['hiptlXgalaxy', 'vnXgalaxy', 'hisubhaloXgalaxy', 'ptlgrid', 'galaxygrid']\n",
    "master = DataList()\n",
    "smfont = 10\n",
    "larfont = 12\n",
    "for f in files:\n",
    "    for s in snap:\n",
    "        rlib = flib.load(box, s, axis, res, f)\n",
    "        kmin = rlib.results['pk'][0].xvalues[0]\n",
    "        master.loadResults(rlib.results['pk'])\n"
   ]
  },
  {
   "cell_type": "code",
   "execution_count": null,
   "metadata": {},
   "outputs": [],
   "source": [
    "autodl = DataList(master.getMatching({'is_auto':True})"
   ]
  }
 ],
 "metadata": {
  "language_info": {
   "name": "python"
  },
  "orig_nbformat": 4
 },
 "nbformat": 4,
 "nbformat_minor": 2
}
