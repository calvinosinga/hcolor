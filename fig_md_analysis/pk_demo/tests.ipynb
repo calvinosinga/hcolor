{
 "cells": [
  {
   "cell_type": "code",
   "execution_count": 1,
   "metadata": {},
   "outputs": [
    {
     "name": "stderr",
     "output_type": "stream",
     "text": [
      "\n",
      "Bad key text.latex.preview in file C:\\Python\\lib\\site-packages\\matplotlib\\mpl-data\\stylelib\\_classic_test.mplstyle, line 123 ('text.latex.preview : False')\n",
      "You probably need to get an updated matplotlibrc file from\n",
      "https://github.com/matplotlib/matplotlib/blob/v3.5.1/matplotlibrc.template\n",
      "or from the matplotlib source distribution\n",
      "\n",
      "Bad key mathtext.fallback_to_cm in file C:\\Python\\lib\\site-packages\\matplotlib\\mpl-data\\stylelib\\_classic_test.mplstyle, line 155 ('mathtext.fallback_to_cm : True  # When True, use symbols from the Computer Modern')\n",
      "You probably need to get an updated matplotlibrc file from\n",
      "https://github.com/matplotlib/matplotlib/blob/v3.5.1/matplotlibrc.template\n",
      "or from the matplotlib source distribution\n",
      "\n",
      "Bad key savefig.jpeg_quality in file C:\\Python\\lib\\site-packages\\matplotlib\\mpl-data\\stylelib\\_classic_test.mplstyle, line 418 ('savefig.jpeg_quality: 95       # when a jpeg is saved, the default quality parameter.')\n",
      "You probably need to get an updated matplotlibrc file from\n",
      "https://github.com/matplotlib/matplotlib/blob/v3.5.1/matplotlibrc.template\n",
      "or from the matplotlib source distribution\n",
      "\n",
      "Bad key keymap.all_axes in file C:\\Python\\lib\\site-packages\\matplotlib\\mpl-data\\stylelib\\_classic_test.mplstyle, line 466 ('keymap.all_axes : a                 # enable all axes')\n",
      "You probably need to get an updated matplotlibrc file from\n",
      "https://github.com/matplotlib/matplotlib/blob/v3.5.1/matplotlibrc.template\n",
      "or from the matplotlib source distribution\n",
      "\n",
      "Bad key animation.avconv_path in file C:\\Python\\lib\\site-packages\\matplotlib\\mpl-data\\stylelib\\_classic_test.mplstyle, line 477 ('animation.avconv_path: avconv     # Path to avconv binary. Without full path')\n",
      "You probably need to get an updated matplotlibrc file from\n",
      "https://github.com/matplotlib/matplotlib/blob/v3.5.1/matplotlibrc.template\n",
      "or from the matplotlib source distribution\n",
      "\n",
      "Bad key animation.avconv_args in file C:\\Python\\lib\\site-packages\\matplotlib\\mpl-data\\stylelib\\_classic_test.mplstyle, line 479 ('animation.avconv_args:            # Additional arguments to pass to avconv')\n",
      "You probably need to get an updated matplotlibrc file from\n",
      "https://github.com/matplotlib/matplotlib/blob/v3.5.1/matplotlibrc.template\n",
      "or from the matplotlib source distribution\n"
     ]
    }
   ],
   "source": [
    "from pk import Overdensity;\n",
    "import matplotlib.pyplot as plt\n",
    "import matplotlib as mpl\n",
    "import copy\n",
    "import matplotlib.gridspec as gspec\n",
    "import h5py as hp"
   ]
  },
  {
   "cell_type": "code",
   "execution_count": 2,
   "metadata": {},
   "outputs": [],
   "source": [
    "grid = Overdensity(100)\n",
    "grid.setGaussian(1, 0.5, 100)\n"
   ]
  },
  {
   "cell_type": "code",
   "execution_count": 3,
   "metadata": {},
   "outputs": [
    {
     "name": "stdout",
     "output_type": "stream",
     "text": [
      "(50, 50, 50)\n",
      "(50, 50, 50)\n"
     ]
    },
    {
     "ename": "ValueError",
     "evalue": "non-broadcastable output operand with shape (50,) doesn't match the broadcast shape (50,50,50)",
     "output_type": "error",
     "traceback": [
      "\u001b[1;31m---------------------------------------------------------------------------\u001b[0m",
      "\u001b[1;31mValueError\u001b[0m                                Traceback (most recent call last)",
      "\u001b[1;32m<ipython-input-3-761cda598c07>\u001b[0m in \u001b[0;36m<module>\u001b[1;34m\u001b[0m\n\u001b[0;32m      1\u001b[0m \u001b[0mgrid\u001b[0m\u001b[1;33m.\u001b[0m\u001b[0muniform\u001b[0m\u001b[1;33m(\u001b[0m\u001b[1;36m50\u001b[0m\u001b[1;33m)\u001b[0m\u001b[1;33m\u001b[0m\u001b[1;33m\u001b[0m\u001b[0m\n\u001b[1;32m----> 2\u001b[1;33m \u001b[0mgrid\u001b[0m\u001b[1;33m.\u001b[0m\u001b[0maddPower\u001b[0m\u001b[1;33m(\u001b[0m\u001b[1;36m1\u001b[0m\u001b[1;33m,\u001b[0m \u001b[1;36m2\u001b[0m\u001b[1;33m)\u001b[0m\u001b[1;33m\u001b[0m\u001b[1;33m\u001b[0m\u001b[0m\n\u001b[0m\u001b[0;32m      3\u001b[0m \u001b[0mgrid\u001b[0m\u001b[1;33m.\u001b[0m\u001b[0mpk\u001b[0m\u001b[1;33m(\u001b[0m\u001b[1;33m)\u001b[0m\u001b[1;33m\u001b[0m\u001b[1;33m\u001b[0m\u001b[0m\n\u001b[0;32m      4\u001b[0m \u001b[0mgrid\u001b[0m\u001b[1;33m.\u001b[0m\u001b[0mplot\u001b[0m\u001b[1;33m(\u001b[0m\u001b[1;33m)\u001b[0m\u001b[1;33m\u001b[0m\u001b[1;33m\u001b[0m\u001b[0m\n",
      "\u001b[1;32mc:\\Users\\calvi\\AppData\\Local\\Packages\\CanonicalGroupLimited.UbuntuonWindows_79rhkp1fndgsc\\LocalState\\rootfs\\home\\cosinga\\hcolor\\fig_md_analysis\\pk_demo\\pk.py\u001b[0m in \u001b[0;36maddPower\u001b[1;34m(self, k, amp)\u001b[0m\n\u001b[0;32m     85\u001b[0m         \u001b[0mR\u001b[0m \u001b[1;33m=\u001b[0m \u001b[0mnp\u001b[0m\u001b[1;33m.\u001b[0m\u001b[0msqrt\u001b[0m\u001b[1;33m(\u001b[0m\u001b[0mX\u001b[0m\u001b[1;33m**\u001b[0m\u001b[1;36m2\u001b[0m \u001b[1;33m+\u001b[0m \u001b[0mY\u001b[0m\u001b[1;33m**\u001b[0m\u001b[1;36m2\u001b[0m \u001b[1;33m+\u001b[0m \u001b[0mZ\u001b[0m\u001b[1;33m**\u001b[0m\u001b[1;36m2\u001b[0m\u001b[1;33m)\u001b[0m\u001b[1;33m\u001b[0m\u001b[1;33m\u001b[0m\u001b[0m\n\u001b[0;32m     86\u001b[0m         \u001b[0mprint\u001b[0m\u001b[1;33m(\u001b[0m\u001b[0mR\u001b[0m\u001b[1;33m.\u001b[0m\u001b[0mshape\u001b[0m\u001b[1;33m)\u001b[0m\u001b[1;33m\u001b[0m\u001b[1;33m\u001b[0m\u001b[0m\n\u001b[1;32m---> 87\u001b[1;33m         \u001b[0mself\u001b[0m\u001b[1;33m.\u001b[0m\u001b[0mdelta\u001b[0m \u001b[1;33m+=\u001b[0m \u001b[0mamp\u001b[0m \u001b[1;33m*\u001b[0m \u001b[0mnp\u001b[0m\u001b[1;33m.\u001b[0m\u001b[0msin\u001b[0m\u001b[1;33m(\u001b[0m\u001b[0mk\u001b[0m \u001b[1;33m*\u001b[0m \u001b[0mR\u001b[0m\u001b[1;33m)\u001b[0m\u001b[1;33m\u001b[0m\u001b[1;33m\u001b[0m\u001b[0m\n\u001b[0m\u001b[0;32m     88\u001b[0m         \u001b[1;32mreturn\u001b[0m\u001b[1;33m\u001b[0m\u001b[1;33m\u001b[0m\u001b[0m\n\u001b[0;32m     89\u001b[0m     \u001b[1;31m##### PLOTTING ROUTINES ############\u001b[0m\u001b[1;33m\u001b[0m\u001b[1;33m\u001b[0m\u001b[1;33m\u001b[0m\u001b[0m\n",
      "\u001b[1;31mValueError\u001b[0m: non-broadcastable output operand with shape (50,) doesn't match the broadcast shape (50,50,50)"
     ]
    }
   ],
   "source": [
    "grid.uniform(50)\n",
    "grid.addPower(1, 2)\n",
    "grid.pk()\n",
    "grid.plot()"
   ]
  },
  {
   "cell_type": "code",
   "execution_count": 3,
   "metadata": {},
   "outputs": [
    {
     "name": "stdout",
     "output_type": "stream",
     "text": [
      "\n",
      "Computing power spectrum of the field...\n"
     ]
    },
    {
     "ename": "KeyboardInterrupt",
     "evalue": "",
     "output_type": "error",
     "traceback": [
      "\u001b[1;31m---------------------------------------------------------------------------\u001b[0m",
      "\u001b[1;31mKeyboardInterrupt\u001b[0m                         Traceback (most recent call last)",
      "\u001b[1;32m<ipython-input-3-a30108e55266>\u001b[0m in \u001b[0;36m<module>\u001b[1;34m\u001b[0m\n\u001b[0;32m      3\u001b[0m \u001b[1;32mfor\u001b[0m \u001b[0ms\u001b[0m \u001b[1;32min\u001b[0m \u001b[0msigmas\u001b[0m\u001b[1;33m:\u001b[0m\u001b[1;33m\u001b[0m\u001b[1;33m\u001b[0m\u001b[0m\n\u001b[0;32m      4\u001b[0m     \u001b[0mgrid\u001b[0m\u001b[1;33m.\u001b[0m\u001b[0msetGaussian\u001b[0m\u001b[1;33m(\u001b[0m\u001b[1;36m1\u001b[0m\u001b[1;33m,\u001b[0m \u001b[0ms\u001b[0m\u001b[1;33m,\u001b[0m \u001b[1;36m100\u001b[0m\u001b[1;33m)\u001b[0m\u001b[1;33m\u001b[0m\u001b[1;33m\u001b[0m\u001b[0m\n\u001b[1;32m----> 5\u001b[1;33m     \u001b[0mgrid\u001b[0m\u001b[1;33m.\u001b[0m\u001b[0mpk\u001b[0m\u001b[1;33m(\u001b[0m\u001b[1;33m)\u001b[0m\u001b[1;33m\u001b[0m\u001b[1;33m\u001b[0m\u001b[0m\n\u001b[0m\u001b[0;32m      6\u001b[0m     \u001b[0mplt\u001b[0m\u001b[1;33m.\u001b[0m\u001b[0mplot\u001b[0m\u001b[1;33m(\u001b[0m\u001b[0mgrid\u001b[0m\u001b[1;33m.\u001b[0m\u001b[0mk3D\u001b[0m\u001b[1;33m,\u001b[0m \u001b[0mgrid\u001b[0m\u001b[1;33m.\u001b[0m\u001b[0mPk\u001b[0m\u001b[1;33m[\u001b[0m\u001b[1;33m:\u001b[0m\u001b[1;33m,\u001b[0m\u001b[1;36m0\u001b[0m\u001b[1;33m]\u001b[0m\u001b[1;33m,\u001b[0m \u001b[0mlabel\u001b[0m \u001b[1;33m=\u001b[0m \u001b[1;34m'sigma = %.1f'\u001b[0m\u001b[1;33m%\u001b[0m\u001b[0ms\u001b[0m\u001b[1;33m)\u001b[0m\u001b[1;33m\u001b[0m\u001b[1;33m\u001b[0m\u001b[0m\n\u001b[0;32m      7\u001b[0m \u001b[1;33m\u001b[0m\u001b[0m\n",
      "\u001b[1;32mc:\\Users\\calvi\\AppData\\Local\\Packages\\CanonicalGroupLimited.UbuntuonWindows_79rhkp1fndgsc\\LocalState\\rootfs\\home\\cosinga\\hcolor\\fig_md_analysis\\pk_demo\\pk.py\u001b[0m in \u001b[0;36mpk\u001b[1;34m(self, axis, MAS)\u001b[0m\n\u001b[0;32m    255\u001b[0m                     \u001b[1;31m# correct modes amplitude for MAS\u001b[0m\u001b[1;33m\u001b[0m\u001b[1;33m\u001b[0m\u001b[1;33m\u001b[0m\u001b[0m\n\u001b[0;32m    256\u001b[0m                     \u001b[0mMAS_factor\u001b[0m \u001b[1;33m=\u001b[0m \u001b[0mMAS_corr\u001b[0m\u001b[1;33m[\u001b[0m\u001b[1;36m0\u001b[0m\u001b[1;33m]\u001b[0m\u001b[1;33m*\u001b[0m\u001b[0mMAS_corr\u001b[0m\u001b[1;33m[\u001b[0m\u001b[1;36m1\u001b[0m\u001b[1;33m]\u001b[0m\u001b[1;33m*\u001b[0m\u001b[0mMAS_corr\u001b[0m\u001b[1;33m[\u001b[0m\u001b[1;36m2\u001b[0m\u001b[1;33m]\u001b[0m\u001b[1;33m\u001b[0m\u001b[1;33m\u001b[0m\u001b[0m\n\u001b[1;32m--> 257\u001b[1;33m                     \u001b[0mdelta_k\u001b[0m\u001b[1;33m[\u001b[0m\u001b[0mkxx\u001b[0m\u001b[1;33m,\u001b[0m\u001b[0mkyy\u001b[0m\u001b[1;33m,\u001b[0m\u001b[0mkzz\u001b[0m\u001b[1;33m]\u001b[0m \u001b[1;33m=\u001b[0m \u001b[0mdelta_k\u001b[0m\u001b[1;33m[\u001b[0m\u001b[0mkxx\u001b[0m\u001b[1;33m,\u001b[0m\u001b[0mkyy\u001b[0m\u001b[1;33m,\u001b[0m\u001b[0mkzz\u001b[0m\u001b[1;33m]\u001b[0m\u001b[1;33m*\u001b[0m\u001b[0mMAS_factor\u001b[0m\u001b[1;33m\u001b[0m\u001b[1;33m\u001b[0m\u001b[0m\n\u001b[0m\u001b[0;32m    258\u001b[0m \u001b[1;33m\u001b[0m\u001b[0m\n\u001b[0;32m    259\u001b[0m                     \u001b[1;31m# compute |delta_k|^2 of the mode\u001b[0m\u001b[1;33m\u001b[0m\u001b[1;33m\u001b[0m\u001b[1;33m\u001b[0m\u001b[0m\n",
      "\u001b[1;31mKeyboardInterrupt\u001b[0m: "
     ]
    }
   ],
   "source": [
    "sigmas = [0.5, 1, 2]\n",
    "pks = []\n",
    "for s in sigmas:\n",
    "    grid.setGaussian(1, s, 100)\n",
    "    grid.pk()\n",
    "    plt.plot(grid.k3D, grid.Pk[:,0], label = 'sigma = %.1f'%s)\n",
    "\n",
    "plt.loglog()\n",
    "plt.legend()\n",
    "plt.show()\n",
    "\n",
    "\n"
   ]
  },
  {
   "cell_type": "code",
   "execution_count": null,
   "metadata": {},
   "outputs": [
    {
     "name": "stdout",
     "output_type": "stream",
     "text": [
      "(86, 3)\n"
     ]
    }
   ],
   "source": []
  },
  {
   "cell_type": "code",
   "execution_count": null,
   "metadata": {},
   "outputs": [
    {
     "name": "stdout",
     "output_type": "stream",
     "text": [
      "[[ 3.56808537e-01 -3.01799572e-01  2.69701816e-01]\n",
      " [ 2.35106692e-01 -6.94621441e-02  4.50711245e-02]\n",
      " [ 2.31215480e-01 -8.08853974e-03 -1.06811806e-01]\n",
      " [ 3.02575061e-01  2.32667421e-02  9.94424452e-03]\n",
      " [ 2.97873413e-01  7.37178226e-02 -8.39770478e-02]\n",
      " [ 2.70927727e-01  1.71295228e-03  3.82461978e-03]\n",
      " [ 2.31387600e-01 -3.19046475e-02  1.57997448e-02]\n",
      " [ 2.58242193e-01  1.24101360e-02 -2.84677331e-02]\n",
      " [ 2.63341053e-01  3.70804587e-02  8.37994567e-03]\n",
      " [ 2.77944589e-01 -2.97664328e-02  3.26505507e-02]\n",
      " [ 2.74877594e-01 -1.15475465e-02 -3.26373625e-02]\n",
      " [ 2.89238173e-01  5.48058058e-03 -6.97172363e-02]\n",
      " [ 2.83582464e-01  8.78827020e-03  7.18691143e-02]\n",
      " [ 2.86699746e-01  1.53994519e-02 -3.44565428e-02]\n",
      " [ 2.93217413e-01 -2.74647820e-02  6.25270052e-03]\n",
      " [ 2.90087475e-01 -2.24156075e-02 -2.86004075e-02]\n",
      " [ 2.99865711e-01  1.95751525e-02 -2.89546143e-02]\n",
      " [ 3.10160823e-01  2.69483443e-02  1.51543469e-02]\n",
      " [ 3.26441357e-01 -8.74884959e-03 -1.86948724e-02]\n",
      " [ 3.29481138e-01 -1.95503071e-02 -3.00803481e-02]\n",
      " [ 3.39427057e-01 -3.66685020e-02  4.09740326e-02]\n",
      " [ 3.53742574e-01 -4.48879387e-03  1.13122397e-03]\n",
      " [ 3.59223355e-01  4.15895596e-05 -1.73700215e-03]\n",
      " [ 3.74197819e-01  1.46236297e-02  1.44677562e-02]\n",
      " [ 3.87133571e-01  1.33235729e-02  6.32027627e-03]\n",
      " [ 4.02044285e-01 -6.64201037e-03 -2.81391042e-02]\n",
      " [ 4.19979874e-01  2.84390937e-02 -2.11276322e-02]\n",
      " [ 4.21321149e-01  2.26494052e-02  2.66631161e-02]\n",
      " [ 4.41016340e-01  1.63358471e-02 -5.32976256e-03]\n",
      " [ 4.79953224e-01  2.23441908e-02  8.10938462e-03]\n",
      " [ 4.80665831e-01  5.46863149e-03 -4.17127969e-02]\n",
      " [ 5.03225763e-01 -2.20832849e-02  3.46518232e-02]\n",
      " [ 5.27522819e-01  1.42870049e-03  1.29717449e-04]\n",
      " [ 5.63864112e-01  1.01899691e-03 -4.88489243e-03]\n",
      " [ 5.93002728e-01 -4.58737923e-03  4.45118882e-02]\n",
      " [ 6.05540082e-01  2.07157043e-02  1.24002826e-02]\n",
      " [ 6.48295197e-01 -1.77605084e-02  6.55930121e-02]\n",
      " [ 6.83500714e-01  5.34467911e-03  2.72163759e-02]\n",
      " [ 7.22533313e-01 -4.99027381e-03  5.92172555e-04]\n",
      " [ 7.63928169e-01  1.64813132e-02  5.03608355e-02]\n",
      " [ 7.98677569e-01 -2.10972425e-02 -2.53515979e-02]\n",
      " [ 8.50115597e-01  2.56661634e-02 -2.27548236e-02]\n",
      " [ 9.15948507e-01 -2.14143798e-02  7.07279512e-02]\n",
      " [ 9.73726732e-01  1.71776974e-02  5.22057065e-02]\n",
      " [ 1.03614524e+00  3.68216684e-02  1.26141171e-02]\n",
      " [ 1.11329130e+00 -8.28336093e-04  5.86945348e-02]\n",
      " [ 1.18031388e+00  3.38046302e-05  7.47967342e-02]\n",
      " [ 1.29009433e+00 -3.54461586e-02 -3.85204427e-02]\n",
      " [ 1.38432166e+00  2.75196473e-03  6.55951664e-02]\n",
      " [ 1.46516644e+00  1.60349806e-03 -6.75664645e-02]\n",
      " [ 1.60822179e+00 -2.08042434e-02 -5.83695889e-01]\n",
      " [ 1.70571009e+00  3.48690281e-02 -1.10096639e+00]\n",
      " [ 1.81783945e+00  1.55276475e-02 -1.57369087e+00]\n",
      " [ 1.99068172e+00  5.91478069e-03 -2.15781281e+00]\n",
      " [ 2.13663735e+00  3.51256330e-03 -2.62182147e+00]\n",
      " [ 2.31162976e+00  3.05786182e-02 -3.28441625e+00]\n",
      " [ 2.48346777e+00 -4.14586280e-02 -3.87687462e+00]\n",
      " [ 2.69680199e+00  4.55284240e-02 -4.55631606e+00]\n",
      " [ 2.94537880e+00  1.27437981e-02 -5.31248657e+00]\n",
      " [ 3.24639176e+00 -6.47644847e-02 -6.04001513e+00]\n",
      " [ 3.56817004e+00 -3.17563789e-02 -7.05596137e+00]\n",
      " [ 3.88139392e+00  1.61024107e-03 -8.11494868e+00]\n",
      " [ 4.20916581e+00 -1.98492927e-02 -9.10409430e+00]\n",
      " [ 4.62161275e+00 -1.89353871e-03 -1.04897041e+01]\n",
      " [ 5.08625549e+00  7.28471538e-02 -1.16836998e+01]\n",
      " [ 5.68372655e+00  5.52389210e-02 -1.36663881e+01]\n",
      " [ 6.04654154e+00 -4.40128800e-02 -1.49381282e+01]\n",
      " [ 6.61863280e+00 -5.11156164e-02 -1.67427556e+01]\n",
      " [ 7.46111787e+00 -2.67458635e-02 -1.99586794e+01]\n",
      " [ 8.38150524e+00 -1.19462074e-02 -2.32736195e+01]\n",
      " [ 9.04794751e+00  6.50798468e-04 -2.66883604e+01]\n",
      " [ 1.02281192e+01 -1.78497649e-01 -3.09907671e+01]\n",
      " [ 1.11502855e+01 -8.63826357e-02 -3.48127014e+01]\n",
      " [ 1.28235807e+01 -3.49081731e-01 -4.05760805e+01]\n",
      " [ 1.42948316e+01 -2.35117759e-01 -4.63387079e+01]\n",
      " [ 1.55876784e+01  3.17944650e-01 -5.21793079e+01]\n",
      " [ 1.70957468e+01 -4.55832489e-02 -5.71777610e+01]\n",
      " [ 1.91177312e+01 -1.66990641e-01 -6.45504694e+01]\n",
      " [ 2.39263744e+01  2.13738806e-01 -8.22224435e+01]\n",
      " [ 2.63507068e+01 -2.12365355e-01 -9.04919158e+01]\n",
      " [ 2.85992185e+01 -2.53537539e-01 -9.85885259e+01]\n",
      " [ 3.43353377e+01  6.53563007e-01 -1.19926251e+02]\n",
      " [ 3.72039362e+01  1.11589770e+00 -1.30789365e+02]\n",
      " [ 4.45527263e+01  3.05438669e-01 -1.55859818e+02]\n",
      " [ 3.64561086e+01  2.74843055e-01 -1.27780086e+02]\n",
      " [ 6.50477919e+01 -3.70039721e-01 -2.27187538e+02]]\n"
     ]
    }
   ],
   "source": [
    "print(grid.Pk)"
   ]
  },
  {
   "cell_type": "code",
   "execution_count": null,
   "metadata": {},
   "outputs": [],
   "source": []
  }
 ],
 "metadata": {
  "interpreter": {
   "hash": "38740d3277777e2cd7c6c2cc9d8addf5118fdf3f82b1b39231fd12aeac8aee8b"
  },
  "kernelspec": {
   "display_name": "Python 3.7.3 64-bit",
   "language": "python",
   "name": "python3"
  },
  "language_info": {
   "codemirror_mode": {
    "name": "ipython",
    "version": 3
   },
   "file_extension": ".py",
   "mimetype": "text/x-python",
   "name": "python",
   "nbconvert_exporter": "python",
   "pygments_lexer": "ipython3",
   "version": "3.7.3"
  },
  "orig_nbformat": 4
 },
 "nbformat": 4,
 "nbformat_minor": 2
}
