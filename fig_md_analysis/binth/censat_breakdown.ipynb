{
 "cells": [
  {
   "cell_type": "code",
   "execution_count": 1,
   "id": "f3981c86",
   "metadata": {},
   "outputs": [],
   "source": [
    "import pickle as pkl\n",
    "import pk_plot_library as pplib\n",
    "import numpy as np\n",
    "\n",
    "pplib.imports()\n",
    "\n",
    "DRAFTPATH = '/Users/cosinga/code/hicolor_draft_two/figures/'\n",
    "SAVEPATH = '/Users/cosinga/code/hcolor/fig_md_analysis/binth/'"
   ]
  },
  {
   "cell_type": "code",
   "execution_count": 2,
   "id": "5fbd3e8d",
   "metadata": {},
   "outputs": [
    {
     "data": {
      "text/plain": [
       "['fiducial',\n",
       " 'allgals',\n",
       " 'HIbt',\n",
       " 'species',\n",
       " 'galbt',\n",
       " 'MAS',\n",
       " 'low-2',\n",
       " 'colordef',\n",
       " 'axistest1',\n",
       " 'convtest',\n",
       " 'low-3',\n",
       " 'midgr',\n",
       " 'axistest2']"
      ]
     },
     "execution_count": 2,
     "metadata": {},
     "output_type": "execute_result"
    }
   ],
   "source": [
    "ds = pkl.load(open('/Users/cosinga/code/hcolor/fig_md_analysis/11-1_pkdatasort.pkl', 'rb'))\n",
    "ds.getAttrVals('path')"
   ]
  },
  {
   "cell_type": "code",
   "execution_count": null,
   "id": "206a81af",
   "metadata": {},
   "outputs": [],
   "source": []
  }
 ],
 "metadata": {
  "kernelspec": {
   "display_name": "Python 3 (ipykernel)",
   "language": "python",
   "name": "python3"
  },
  "language_info": {
   "codemirror_mode": {
    "name": "ipython",
    "version": 3
   },
   "file_extension": ".py",
   "mimetype": "text/x-python",
   "name": "python",
   "nbconvert_exporter": "python",
   "pygments_lexer": "ipython3",
   "version": "3.9.13"
  }
 },
 "nbformat": 4,
 "nbformat_minor": 5
}
