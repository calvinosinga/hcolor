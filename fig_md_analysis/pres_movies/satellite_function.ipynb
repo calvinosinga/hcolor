{
 "cells": [
  {
   "cell_type": "code",
   "execution_count": 3,
   "id": "a5ad66b8",
   "metadata": {},
   "outputs": [],
   "source": [
    "from pkfire.pkfire import Pkfire\n",
    "import pkfire.dist_lib.dist as dlib\n",
    "from pkfire.grid_lib.grid import Grid\n",
    "\n",
    "from PIL import Image\n",
    "import illustris_python as il\n",
    "TNGPATH = '/Users/cosinga/illustris/L75n1820TNG/output/'"
   ]
  },
  {
   "cell_type": "code",
   "execution_count": 4,
   "id": "9cdc9091",
   "metadata": {},
   "outputs": [],
   "source": [
    "fields = ['SubhaloGrNr', 'SubhaloPos', 'SubhaloMassType',\n",
    "        'SubhaloStellarPhotometrics', 'SubhaloParent']\n",
    "data = il.groupcat.loadSubhalos(TNGPATH, 99, fields = fields)"
   ]
  },
  {
   "cell_type": "code",
   "execution_count": null,
   "id": "2a1732bb",
   "metadata": {},
   "outputs": [],
   "source": []
  }
 ],
 "metadata": {
  "kernelspec": {
   "display_name": "Python 3 (ipykernel)",
   "language": "python",
   "name": "python3"
  }
 },
 "nbformat": 4,
 "nbformat_minor": 5
}
