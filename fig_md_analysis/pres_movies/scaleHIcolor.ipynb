{
 "cells": [
  {
   "cell_type": "code",
   "execution_count": 6,
   "id": "00607ec8",
   "metadata": {},
   "outputs": [],
   "source": [
    "from pkfire.pkfire import Pkfire\n",
    "import pkfire.dist_lib.dist as dlib\n",
    "from pkfire.grid_lib.grid import Grid\n",
    "from pkfire.movie_lib.r_flipbook import RFlipbook\n",
    "import matplotlib.pyplot as plt\n",
    "import numpy as np\n",
    "\n",
    "plt.rcParams['figure.max_open_warning'] = False\n",
    "plt.rcParams['mathtext.fontset'] = 'dejavuserif'\n",
    "plt.rcParams['font.family'] = 'serif'\n",
    "\n",
    "TNGPATH = '/Users/cosinga/illustris/L75n1820TNG/output/'\n"
   ]
  },
  {
   "cell_type": "code",
   "execution_count": 2,
   "id": "c18f1269",
   "metadata": {},
   "outputs": [],
   "source": [
    "# testing using random distribution\n",
    "grid = Grid((100, 100, 100), 75)\n",
    "ptllist = dlib.random(grid, 100, z_range = [32.5 - 7.5, 32.5 + 7.5])\n",
    "pkf = Pkfire(grid, ptllist)\n"
   ]
  },
  {
   "cell_type": "code",
   "execution_count": 3,
   "id": "d0d0c281",
   "metadata": {},
   "outputs": [
    {
     "name": "stdout",
     "output_type": "stream",
     "text": [
      "\n",
      "Computing power spectrum of the field...\n",
      "Time to complete loop = 7.94\n",
      "Time taken = 7.96 seconds\n",
      "\n",
      "Computing correlation function of the field...\n",
      "Time to complete loop = 5.89\n",
      "Time taken = 10.05 seconds\n",
      "11.1 percent done\n",
      "22.2 percent done\n",
      "33.3 percent done\n",
      "44.4 percent done\n",
      "55.6 percent done\n",
      "66.7 percent done\n",
      "77.8 percent done\n",
      "88.9 percent done\n"
     ]
    },
    {
     "data": {
      "text/plain": [
       "<Figure size 1216.8x288 with 0 Axes>"
      ]
     },
     "metadata": {},
     "output_type": "display_data"
    },
    {
     "data": {
      "text/plain": [
       "<Figure size 1216.8x288 with 0 Axes>"
      ]
     },
     "metadata": {},
     "output_type": "display_data"
    },
    {
     "data": {
      "text/plain": [
       "<Figure size 1216.8x288 with 0 Axes>"
      ]
     },
     "metadata": {},
     "output_type": "display_data"
    },
    {
     "data": {
      "text/plain": [
       "<Figure size 1216.8x288 with 0 Axes>"
      ]
     },
     "metadata": {},
     "output_type": "display_data"
    },
    {
     "data": {
      "text/plain": [
       "<Figure size 1216.8x288 with 0 Axes>"
      ]
     },
     "metadata": {},
     "output_type": "display_data"
    },
    {
     "data": {
      "text/plain": [
       "<Figure size 1216.8x288 with 0 Axes>"
      ]
     },
     "metadata": {},
     "output_type": "display_data"
    },
    {
     "data": {
      "text/plain": [
       "<Figure size 1216.8x288 with 0 Axes>"
      ]
     },
     "metadata": {},
     "output_type": "display_data"
    },
    {
     "data": {
      "text/plain": [
       "<Figure size 1216.8x288 with 0 Axes>"
      ]
     },
     "metadata": {},
     "output_type": "display_data"
    },
    {
     "data": {
      "text/plain": [
       "<Figure size 1216.8x288 with 0 Axes>"
      ]
     },
     "metadata": {},
     "output_type": "display_data"
    }
   ],
   "source": [
    "rbins = np.geomspace(grid.box / grid.getShape()[0], grid.box, 10)\n",
    "rflip = RFlipbook(pkf, 1, outpath='/Users/cosinga/code/hcolor/fig_md_analysis/pres_movies/')\n",
    "rflip.run(rbins = list(rbins))\n"
   ]
  },
  {
   "cell_type": "code",
   "execution_count": 11,
   "id": "a7f11a00",
   "metadata": {},
   "outputs": [],
   "source": [
    "# tests using illustris distribution\n",
    "ptllist = dlib.illustris(TNGPATH, 99, haloid = 1e2)"
   ]
  },
  {
   "cell_type": "code",
   "execution_count": 15,
   "id": "69ce98d9",
   "metadata": {},
   "outputs": [
    {
     "name": "stdout",
     "output_type": "stream",
     "text": [
      "\n",
      "Computing power spectrum of the field...\n",
      "Time to complete loop = 64.42\n",
      "Time taken = 64.59 seconds\n",
      "\n",
      "Computing correlation function of the field...\n",
      "Time to complete loop = 48.11\n",
      "Time taken = 82.26 seconds\n",
      "11.1 percent done\n",
      "22.2 percent done\n",
      "33.3 percent done\n",
      "44.4 percent done\n",
      "55.6 percent done\n",
      "66.7 percent done\n",
      "77.8 percent done\n",
      "88.9 percent done\n"
     ]
    },
    {
     "data": {
      "text/plain": [
       "<Figure size 1216.8x288 with 0 Axes>"
      ]
     },
     "metadata": {},
     "output_type": "display_data"
    },
    {
     "data": {
      "text/plain": [
       "<Figure size 1216.8x288 with 0 Axes>"
      ]
     },
     "metadata": {},
     "output_type": "display_data"
    },
    {
     "data": {
      "text/plain": [
       "<Figure size 1216.8x288 with 0 Axes>"
      ]
     },
     "metadata": {},
     "output_type": "display_data"
    },
    {
     "data": {
      "text/plain": [
       "<Figure size 1216.8x288 with 0 Axes>"
      ]
     },
     "metadata": {},
     "output_type": "display_data"
    },
    {
     "data": {
      "text/plain": [
       "<Figure size 1216.8x288 with 0 Axes>"
      ]
     },
     "metadata": {},
     "output_type": "display_data"
    },
    {
     "data": {
      "text/plain": [
       "<Figure size 1216.8x288 with 0 Axes>"
      ]
     },
     "metadata": {},
     "output_type": "display_data"
    },
    {
     "data": {
      "text/plain": [
       "<Figure size 1216.8x288 with 0 Axes>"
      ]
     },
     "metadata": {},
     "output_type": "display_data"
    },
    {
     "data": {
      "text/plain": [
       "<Figure size 1216.8x288 with 0 Axes>"
      ]
     },
     "metadata": {},
     "output_type": "display_data"
    },
    {
     "data": {
      "text/plain": [
       "<Figure size 1216.8x288 with 0 Axes>"
      ]
     },
     "metadata": {},
     "output_type": "display_data"
    }
   ],
   "source": [
    "grid = Grid((200, 200, 200), 75)\n",
    "pkf = Pkfire(grid, ptllist)\n",
    "rbins = np.geomspace(grid.box / grid.getShape()[0], grid.box, 10)\n",
    "rflip = RFlipbook(pkf, 1, outpath='/Users/cosinga/code/hcolor/fig_md_analysis/pres_movies/')\n",
    "rflip.run(rbins = list(rbins))"
   ]
  },
  {
   "cell_type": "code",
   "execution_count": null,
   "id": "90e6c2c5",
   "metadata": {},
   "outputs": [],
   "source": []
  }
 ],
 "metadata": {
  "kernelspec": {
   "display_name": "Python 3 (ipykernel)",
   "language": "python",
   "name": "python3"
  }
 },
 "nbformat": 4,
 "nbformat_minor": 5
}
