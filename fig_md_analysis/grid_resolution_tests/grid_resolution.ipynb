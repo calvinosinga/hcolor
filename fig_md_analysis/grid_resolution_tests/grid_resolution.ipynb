{
 "cells": [
  {
   "cell_type": "code",
   "execution_count": 1,
   "metadata": {},
   "outputs": [
    {
     "name": "stderr",
     "output_type": "stream",
     "text": [
      "/software/spack-software/2020.05.14/linux-rhel8-ivybridge/gcc-8.4.0/python-3.7.7-zgcjuclie3fiis4ljkrfp4c4j6fkoa62/lib/python3.7/site-packages/statsmodels/tools/_testing.py:19: FutureWarning: pandas.util.testing is deprecated. Use the functions in the public API at pandas.testing instead.\n",
      "  import pandas.util.testing as tm\n"
     ]
    }
   ],
   "source": [
    "import pickle as pkl\n",
    "from hc_lib.plots.figlib import FigureLibrary\n",
    "import numpy as np\n",
    "import seaborn as sbn\n",
    "import copy\n",
    "import matplotlib as mpl\n",
    "import matplotlib.pyplot as plt\n",
    "from hc_lib.plots.container import PostResult"
   ]
  },
  {
   "cell_type": "code",
   "execution_count": 3,
   "metadata": {},
   "outputs": [
    {
     "ename": "AttributeError",
     "evalue": "__enter__",
     "output_type": "error",
     "traceback": [
      "\u001b[0;31m---------------------------------------------------------------------------\u001b[0m",
      "\u001b[0;31mAttributeError\u001b[0m                            Traceback (most recent call last)",
      "\u001b[0;32m<ipython-input-3-ab931e90224f>\u001b[0m in \u001b[0;36m<module>\u001b[0;34m\u001b[0m\n\u001b[1;32m     14\u001b[0m         filename = '%s_%sB_%03dS_%dA_%dR.pkl_rlib.pkl'%(rlib, \n\u001b[1;32m     15\u001b[0m                         box, snapshot, line_of_sight, resolutions[i])\n\u001b[0;32m---> 16\u001b[0;31m         \u001b[0;32mwith\u001b[0m \u001b[0mpkl\u001b[0m\u001b[0;34m.\u001b[0m\u001b[0mload\u001b[0m\u001b[0;34m(\u001b[0m\u001b[0mopen\u001b[0m\u001b[0;34m(\u001b[0m\u001b[0mpath\u001b[0m \u001b[0;34m+\u001b[0m \u001b[0mfilename\u001b[0m\u001b[0;34m,\u001b[0m \u001b[0;34m'rb'\u001b[0m\u001b[0;34m)\u001b[0m\u001b[0;34m)\u001b[0m \u001b[0;32mas\u001b[0m \u001b[0mf\u001b[0m\u001b[0;34m:\u001b[0m\u001b[0;34m\u001b[0m\u001b[0;34m\u001b[0m\u001b[0m\n\u001b[0m\u001b[1;32m     17\u001b[0m             \u001b[0mflib_og\u001b[0m\u001b[0;34m.\u001b[0m\u001b[0maddResults\u001b[0m\u001b[0;34m(\u001b[0m\u001b[0mf\u001b[0m\u001b[0;34m)\u001b[0m\u001b[0;34m\u001b[0m\u001b[0;34m\u001b[0m\u001b[0m\n",
      "\u001b[0;31mAttributeError\u001b[0m: __enter__"
     ]
    }
   ],
   "source": [
    "base = '/lustre/cosinga/hcolor/output/'\n",
    "dirs = ['lowgr', 'convtest', 'midgr']\n",
    "snapshot = 99\n",
    "line_of_sight = 0\n",
    "box = 'tng100'\n",
    "resolutions = [800, 1000, 1200]\n",
    "rlibs = ['vnXgalaxy', 'hisubhaloXgalaxy', 'hiptlXgalaxy']\n",
    "flib_og = FigureLibrary()\n",
    "for i in range(len(resolutions)):\n",
    "    path = base + '%s_%sB_%03dS_%dA_%dR/results/'%(dirs[i], \n",
    "                        box, snapshot, line_of_sight, resolutions[i])\n",
    "    \n",
    "    for rlib in rlibs:\n",
    "        filename = '%s_%sB_%03dS_%dA_%dR.pkl_rlib.pkl'%(rlib, \n",
    "                        box, snapshot, line_of_sight, resolutions[i])\n",
    "        f = pkl.load(open(path + filename, 'rb'))\n",
    "        flib_og.addResults(f)"
   ]
  },
  {
   "cell_type": "code",
   "execution_count": null,
   "metadata": {},
   "outputs": [],
   "source": []
  }
 ],
 "metadata": {
  "kernelspec": {
   "display_name": "Python 3",
   "language": "python",
   "name": "python3"
  },
  "language_info": {
   "codemirror_mode": {
    "name": "ipython",
    "version": 3
   },
   "file_extension": ".py",
   "mimetype": "text/x-python",
   "name": "python",
   "nbconvert_exporter": "python",
   "pygments_lexer": "ipython3",
   "version": "3.7.7"
  }
 },
 "nbformat": 4,
 "nbformat_minor": 2
}
