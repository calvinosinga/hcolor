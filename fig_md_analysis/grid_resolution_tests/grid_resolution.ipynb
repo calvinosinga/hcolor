{
 "cells": [
  {
   "cell_type": "code",
   "execution_count": 1,
   "metadata": {},
   "outputs": [
    {
     "name": "stderr",
     "output_type": "stream",
     "text": [
      "/software/spack-software/2020.05.14/linux-rhel8-ivybridge/gcc-8.4.0/python-3.7.7-zgcjuclie3fiis4ljkrfp4c4j6fkoa62/lib/python3.7/site-packages/statsmodels/tools/_testing.py:19: FutureWarning: pandas.util.testing is deprecated. Use the functions in the public API at pandas.testing instead.\n",
      "  import pandas.util.testing as tm\n"
     ]
    }
   ],
   "source": [
    "import pickle as pkl\n",
    "from hc_lib.plots.figlib import FigureLibrary\n",
    "import numpy as np\n",
    "import seaborn as sbn\n",
    "import copy\n",
    "import matplotlib as mpl\n",
    "import matplotlib.pyplot as plt\n",
    "from hc_lib.plots.container import PostResult"
   ]
  },
  {
   "cell_type": "code",
   "execution_count": 2,
   "metadata": {},
   "outputs": [],
   "source": [
    "base = '/lustre/cosinga/hcolor/output/'\n",
    "dirs = ['lowgr', 'convtest', 'midgr']\n",
    "snapshot = 99\n",
    "line_of_sight = 0\n",
    "box = 'tng100'\n",
    "resolutions = [800, 1000, 1200]\n",
    "rlibs = ['vnXgalaxy', 'hisubhaloXgalaxy', 'hiptlXgalaxy']\n",
    "flib_og = FigureLibrary()\n",
    "for i in range(len(resolutions)):\n",
    "    path = base + '%s_%sB_%03dS_%dA_%dR/results/'%(dirs[i], \n",
    "                        box, snapshot, line_of_sight, resolutions[i])\n",
    "    \n",
    "    for rlib in rlibs:\n",
    "        filename = '%s_%sB_%03dS_%dA_%dR.pkl_rlib.pkl'%(rlib, \n",
    "                        box, snapshot, line_of_sight, resolutions[i])\n",
    "        f = pkl.load(open(path + filename, 'rb'))\n",
    "        flib_og.addResults(f)\n",
    "\n",
    "del f"
   ]
  },
  {
   "cell_type": "code",
   "execution_count": 3,
   "metadata": {},
   "outputs": [
    {
     "data": {
      "image/png": "[encoded data removed]",
      "text/plain": [
       "<Figure size 806.4x806.4 with 9 Axes>"
      ]
     },
     "metadata": {
      "needs_background": "light"
     },
     "output_type": "display_data"
    }
   ],
   "source": [
    "flib = copy.copy(flib_og)\n",
    "flib.createFigGrid(3, 3)\n",
    "fig, panels = flib.getFig()"
   ]
  },
  {
   "cell_type": "code",
   "execution_count": 4,
   "metadata": {},
   "outputs": [],
   "source": [
    "ip = {}\n",
    "ip['space'] = 'real'\n",
    "ip['HI_res'] = 'diemer'\n",
    "ip['gal_res'] = 'diemer'\n",
    "ip['color_cut'] = ['0.60', 'None']\n",
    "rowp = 'fieldname'\n",
    "colp = 'color'\n",
    "ip['species'] = 'stmass'\n",
    "rowvals = ['hisubhalo', 'hiptl', 'vn']\n",
    "colvals = ['resolved', 'blue', 'red']\n",
    "figarr = flib.arrangeResults(ip, rowp, rowvals, colp, colvals, 'grid_resolution')"
   ]
  },
  {
   "cell_type": "code",
   "execution_count": 5,
   "metadata": {},
   "outputs": [],
   "source": [
    "resolved_colors = sbn.color_palette('Greys', 3)\n",
    "blue_colors = sbn.color_palette('Blues', 3)\n",
    "red_colors = sbn.color_palette('Reds', 3)\n",
    "colors = [resolved_colors, blue_colors, red_colors]\n",
    "low_colors = [i[0] for i in colors]\n",
    "mid_colors = [i[1] for i in colors]\n",
    "hi_colors = [i[2] for i in colors]\n",
    "dim = flib.getDim()\n",
    "for i in range(dim[0]):\n",
    "    for j in range(dim[1]):\n",
    "        idx = (i, j)\n",
    "        if i == 0 or i == 1:\n",
    "            flib.plotFill(idx, {'grid_resolution':800},\n",
    "                         fill_kwargs = {'color':low_colors[j], 'label':'800$^3$'})\n",
    "            flib.plotFill(idx, {'grid_resolution':1000},\n",
    "                         fill_kwargs = {'color':mid_colors[j], 'label':'1000$^3$'})\n",
    "            flib.plotFill(idx, {'grid_resolution':1200},\n",
    "                         fill_kwargs = {'color':hi_colors[j], 'label':'1200$^3$'})\n",
    "        else:\n",
    "            flib.plotLine(idx, 800,\n",
    "                         line_kwargs = {'color':low_colors[j], 'label':'800$^3$'})\n",
    "            flib.plotLine(idx, 1000,\n",
    "                         line_kwargs = {'color':mid_colors[j], 'label':'1000$^3$'})\n",
    "            flib.plotLine(idx, 1200,\n",
    "                         line_kwargs = {'color':hi_colors[j], 'label':'1200$^3$'})"
   ]
  },
  {
   "cell_type": "code",
   "execution_count": 6,
   "metadata": {},
   "outputs": [
    {
     "ename": "ValueError",
     "evalue": "Axis limits cannot be NaN or Inf",
     "output_type": "error",
     "traceback": [
      "\u001b[0;31m---------------------------------------------------------------------------\u001b[0m",
      "\u001b[0;31mValueError\u001b[0m                                Traceback (most recent call last)",
      "\u001b[0;32m<ipython-input-6-182a06327154>\u001b[0m in \u001b[0;36m<module>\u001b[0;34m\u001b[0m\n\u001b[1;32m      1\u001b[0m \u001b[0;31m# axes\u001b[0m\u001b[0;34m\u001b[0m\u001b[0;34m\u001b[0m\u001b[0;34m\u001b[0m\u001b[0m\n\u001b[1;32m      2\u001b[0m \u001b[0mflib\u001b[0m\u001b[0;34m.\u001b[0m\u001b[0mxLimAdjustToNyquist\u001b[0m\u001b[0;34m(\u001b[0m\u001b[0;34m)\u001b[0m\u001b[0;34m\u001b[0m\u001b[0;34m\u001b[0m\u001b[0m\n\u001b[0;32m----> 3\u001b[0;31m \u001b[0mflib\u001b[0m\u001b[0;34m.\u001b[0m\u001b[0mflushYAxisToData\u001b[0m\u001b[0;34m(\u001b[0m\u001b[0;34m)\u001b[0m\u001b[0;34m\u001b[0m\u001b[0;34m\u001b[0m\u001b[0m\n\u001b[0m\u001b[1;32m      4\u001b[0m \u001b[0mflib\u001b[0m\u001b[0;34m.\u001b[0m\u001b[0mmatchAxisLimits\u001b[0m\u001b[0;34m(\u001b[0m\u001b[0;34m)\u001b[0m\u001b[0;34m\u001b[0m\u001b[0;34m\u001b[0m\u001b[0m\n\u001b[1;32m      5\u001b[0m \u001b[0mflib\u001b[0m\u001b[0;34m.\u001b[0m\u001b[0mlogAxis\u001b[0m\u001b[0;34m(\u001b[0m\u001b[0;34m)\u001b[0m\u001b[0;34m\u001b[0m\u001b[0;34m\u001b[0m\u001b[0m\n",
      "\u001b[0;32m/lustre/cosinga/hcolor/hc_lib/plots/figlib.py\u001b[0m in \u001b[0;36mflushYAxisToData\u001b[0;34m(self, result_type, panel_exceptions)\u001b[0m\n\u001b[1;32m    791\u001b[0m \u001b[0;34m\u001b[0m\u001b[0m\n\u001b[1;32m    792\u001b[0m                         \u001b[0;31m# after the loop, we have the new ylims for the panel. Set them\u001b[0m\u001b[0;34m\u001b[0m\u001b[0;34m\u001b[0m\u001b[0;34m\u001b[0m\u001b[0m\n\u001b[0;32m--> 793\u001b[0;31m                         \u001b[0mp\u001b[0m\u001b[0;34m.\u001b[0m\u001b[0mset_ylim\u001b[0m\u001b[0;34m(\u001b[0m\u001b[0mylim\u001b[0m\u001b[0;34m[\u001b[0m\u001b[0;36m0\u001b[0m\u001b[0;34m]\u001b[0m\u001b[0;34m,\u001b[0m \u001b[0mylim\u001b[0m\u001b[0;34m[\u001b[0m\u001b[0;36m1\u001b[0m\u001b[0;34m]\u001b[0m\u001b[0;34m)\u001b[0m\u001b[0;34m\u001b[0m\u001b[0;34m\u001b[0m\u001b[0m\n\u001b[0m\u001b[1;32m    794\u001b[0m \u001b[0;34m\u001b[0m\u001b[0m\n\u001b[1;32m    795\u001b[0m \u001b[0;34m\u001b[0m\u001b[0m\n",
      "\u001b[0;32m/software/spack-software/2020.05.14/linux-rhel8-ivybridge/gcc-8.4.0/py-matplotlib-3.2.1-7nlj5xaillyxgtlitzmkwd4mrusj2654/lib/python3.7/site-packages/matplotlib/axes/_base.py\u001b[0m in \u001b[0;36mset_ylim\u001b[0;34m(self, bottom, top, emit, auto, ymin, ymax)\u001b[0m\n\u001b[1;32m   3572\u001b[0m \u001b[0;34m\u001b[0m\u001b[0m\n\u001b[1;32m   3573\u001b[0m         \u001b[0mself\u001b[0m\u001b[0;34m.\u001b[0m\u001b[0m_process_unit_info\u001b[0m\u001b[0;34m(\u001b[0m\u001b[0mydata\u001b[0m\u001b[0;34m=\u001b[0m\u001b[0;34m(\u001b[0m\u001b[0mbottom\u001b[0m\u001b[0;34m,\u001b[0m \u001b[0mtop\u001b[0m\u001b[0;34m)\u001b[0m\u001b[0;34m)\u001b[0m\u001b[0;34m\u001b[0m\u001b[0;34m\u001b[0m\u001b[0m\n\u001b[0;32m-> 3574\u001b[0;31m         \u001b[0mbottom\u001b[0m \u001b[0;34m=\u001b[0m \u001b[0mself\u001b[0m\u001b[0;34m.\u001b[0m\u001b[0m_validate_converted_limits\u001b[0m\u001b[0;34m(\u001b[0m\u001b[0mbottom\u001b[0m\u001b[0;34m,\u001b[0m \u001b[0mself\u001b[0m\u001b[0;34m.\u001b[0m\u001b[0mconvert_yunits\u001b[0m\u001b[0;34m)\u001b[0m\u001b[0;34m\u001b[0m\u001b[0;34m\u001b[0m\u001b[0m\n\u001b[0m\u001b[1;32m   3575\u001b[0m         \u001b[0mtop\u001b[0m \u001b[0;34m=\u001b[0m \u001b[0mself\u001b[0m\u001b[0;34m.\u001b[0m\u001b[0m_validate_converted_limits\u001b[0m\u001b[0;34m(\u001b[0m\u001b[0mtop\u001b[0m\u001b[0;34m,\u001b[0m \u001b[0mself\u001b[0m\u001b[0;34m.\u001b[0m\u001b[0mconvert_yunits\u001b[0m\u001b[0;34m)\u001b[0m\u001b[0;34m\u001b[0m\u001b[0;34m\u001b[0m\u001b[0m\n\u001b[1;32m   3576\u001b[0m \u001b[0;34m\u001b[0m\u001b[0m\n",
      "\u001b[0;32m/software/spack-software/2020.05.14/linux-rhel8-ivybridge/gcc-8.4.0/py-matplotlib-3.2.1-7nlj5xaillyxgtlitzmkwd4mrusj2654/lib/python3.7/site-packages/matplotlib/axes/_base.py\u001b[0m in \u001b[0;36m_validate_converted_limits\u001b[0;34m(self, limit, convert)\u001b[0m\n\u001b[1;32m   3099\u001b[0m             if (isinstance(converted_limit, Real)\n\u001b[1;32m   3100\u001b[0m                     and not np.isfinite(converted_limit)):\n\u001b[0;32m-> 3101\u001b[0;31m                 \u001b[0;32mraise\u001b[0m \u001b[0mValueError\u001b[0m\u001b[0;34m(\u001b[0m\u001b[0;34m\"Axis limits cannot be NaN or Inf\"\u001b[0m\u001b[0;34m)\u001b[0m\u001b[0;34m\u001b[0m\u001b[0;34m\u001b[0m\u001b[0m\n\u001b[0m\u001b[1;32m   3102\u001b[0m             \u001b[0;32mreturn\u001b[0m \u001b[0mconverted_limit\u001b[0m\u001b[0;34m\u001b[0m\u001b[0;34m\u001b[0m\u001b[0m\n\u001b[1;32m   3103\u001b[0m \u001b[0;34m\u001b[0m\u001b[0m\n",
      "\u001b[0;31mValueError\u001b[0m: Axis limits cannot be NaN or Inf"
     ]
    }
   ],
   "source": [
    "# axes\n",
    "flib.xLimAdjustToNyquist()\n",
    "flib.flushYAxisToData()\n",
    "flib.matchAxisLimits()\n",
    "flib.logAxis()\n",
    "\n",
    "# ticks\n",
    "flib.removeDefaultTickLabels()\n",
    "flib.changeTickParams({'labelsize':12})\n",
    "\n",
    "# labels\n",
    "colkw = {'fontsize':14}\n",
    "legkw = {'fontsize':12, 'loc':'lower left'}\n",
    "# flib.colLabels(['Real Space', 'Redshift Space'])\n",
    "axiskw = {'fontsize':14}\n",
    "xpos = [0.5, flib.yborder[0]/2/flib.figsize[1]]\n",
    "ypos = [flib.xborder[0]/3/flib.figsize[0], 0.5]\n",
    "flib.colLabels(['Real Space', 'Redshift Space'], txt_kwargs = colkw)\n",
    "flib.addLegend(kwargs = legkw)\n",
    "flib.axisLabel('x', pos = xpos, txt_kwargs = axiskw)\n",
    "axiskw['rotation'] = 'vertical'\n",
    "flib.axisLabel('y', pos = ypos, subscript = '\\\\rm{HI-gal}', txt_kwargs = axiskw)"
   ]
  },
  {
   "cell_type": "code",
   "execution_count": null,
   "metadata": {},
   "outputs": [],
   "source": []
  }
 ],
 "metadata": {
  "kernelspec": {
   "display_name": "Python 3",
   "language": "python",
   "name": "python3"
  }
 },
 "nbformat": 4,
 "nbformat_minor": 2
}
