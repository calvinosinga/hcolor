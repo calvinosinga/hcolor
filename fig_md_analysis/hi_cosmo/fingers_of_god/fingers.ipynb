{
 "cells": [
  {
   "cell_type": "code",
   "execution_count": 6,
   "metadata": {},
   "outputs": [],
   "source": [
    "import pickle as pkl\n",
    "import sys\n",
    "sys.path.append('/Users/cosinga/code/hcolor/fig_md_analysis/')\n",
    "sys.path.append('/Users/cosinga/code/figrid/')\n",
    "import pk_plot_library as pplib\n",
    "import numpy as np\n",
    "import matplotlib.pyplot as plt\n",
    "\n",
    "DRAFTPATH = '/Users/cosinga/overleaf/hicolor_draft_two/figures/'\n",
    "SAVEPATH = '/Users/cosinga/code/hcolor/fig_md_analysis/rvb/'\n",
    "WEBPATH = '/Users/cosinga/code/calvinosinga.github.io/hicolor/sup_analysis/'\n",
    "pplib.imports()\n",
    "\n",
    "def fill_mean(ax, data, kwargs):\n",
    "    x = data[0]\n",
    "    y = np.mean(np.array([data[1], data[2]]), axis = 0)\n",
    "    kwargs['alpha'] = 1\n",
    "    ax.plot(x, y, **kwargs)\n",
    "    return\n",
    "def renorm(dc):\n",
    "    data = dc.getData()\n",
    "    data[1] = data[0]**2 * data[1]\n",
    "    dc.setData(data)\n",
    "    return dc\n",
    "from colossus.cosmology import cosmology\n",
    "cosmo = cosmology.setCosmology('planck15')\n",
    "def kaiser(z, bias):\n",
    "    D = cosmo.growthFactor(z, derivative = 0)\n",
    "    dDdz = cosmo.growthFactor(z, derivative = 1)\n",
    "    f = -dDdz * (z + 1) / D\n",
    "    beta = f / bias\n",
    "    return (1 + 2/3 * beta + 1/5 * beta**2)\n",
    "def Plin(k, z):\n",
    "    return cosmo.matterPowerSpectrum(k, z)\n",
    "\n",
    "\n",
    "ds = pkl.load(open('/Users/cosinga/code/hcolor/fig_md_analysis/11-17_pkdatasort.pkl', 'rb'))\n"
   ]
  },
  {
   "cell_type": "code",
   "execution_count": 8,
   "metadata": {},
   "outputs": [
    {
     "data": {
      "text/plain": [
       "['no key found', 'delta_delta']"
      ]
     },
     "execution_count": 8,
     "metadata": {},
     "output_type": "execute_result"
    }
   ],
   "source": [
    "ds.getAttrVals('subtype')"
   ]
  },
  {
   "cell_type": "code",
   "execution_count": null,
   "metadata": {},
   "outputs": [],
   "source": []
  }
 ],
 "metadata": {
  "kernelspec": {
   "display_name": "Python 3",
   "language": "python",
   "name": "python3"
  },
  "language_info": {
   "codemirror_mode": {
    "name": "ipython",
    "version": 3
   },
   "file_extension": ".py",
   "mimetype": "text/x-python",
   "name": "python",
   "nbconvert_exporter": "python",
   "pygments_lexer": "ipython3",
   "version": "3.8.9"
  }
 },
 "nbformat": 4,
 "nbformat_minor": 2
}
