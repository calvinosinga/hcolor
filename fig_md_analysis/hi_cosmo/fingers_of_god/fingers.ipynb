{
 "cells": [
  {
   "cell_type": "code",
   "execution_count": 1,
   "metadata": {},
   "outputs": [],
   "source": [
    "import pickle as pkl\n",
    "import sys\n",
    "sys.path.append('/Users/cosinga/code/hcolor/fig_md_analysis/')\n",
    "sys.path.append('/Users/cosinga/code/figrid/')\n",
    "import pk_plot_library as pplib\n",
    "import numpy as np\n",
    "import matplotlib.pyplot as plt\n",
    "\n",
    "DRAFTPATH = '/Users/cosinga/overleaf/hicolor_draft_two/figures/'\n",
    "SAVEPATH = '/Users/cosinga/code/hcolor/fig_md_analysis/rvb/'\n",
    "WEBPATH = '/Users/cosinga/code/calvinosinga.github.io/hicolor/sup_analysis/'\n",
    "pplib.imports()\n",
    "\n",
    "def fill_mean(ax, data, kwargs):\n",
    "    x = data[0]\n",
    "    y = np.mean(np.array([data[1], data[2]]), axis = 0)\n",
    "    kwargs['alpha'] = 1\n",
    "    ax.plot(x, y, **kwargs)\n",
    "    return\n",
    "def renorm(dc):\n",
    "    data = dc.getData()\n",
    "    data[1] = data[0]**2 * data[1]\n",
    "    dc.setData(data)\n",
    "    return dc\n",
    "from colossus.cosmology import cosmology\n",
    "cosmo = cosmology.setCosmology('planck15')\n",
    "def kaiser(z, bias):\n",
    "    D = cosmo.growthFactor(z, derivative = 0)\n",
    "    dDdz = cosmo.growthFactor(z, derivative = 1)\n",
    "    f = -dDdz * (z + 1) / D\n",
    "    beta = f / bias\n",
    "    return (1 + 2/3 * beta + 1/5 * beta**2)\n",
    "def Plin(k, z):\n",
    "    return cosmo.matterPowerSpectrum(k, z)\n",
    "\n",
    "\n",
    "ds = pkl.load(open('/Users/cosinga/code/hcolor/fig_md_analysis/12-29_pkdatasort.pkl', 'rb'))\n"
   ]
  },
  {
   "cell_type": "code",
   "execution_count": 2,
   "metadata": {},
   "outputs": [],
   "source": [
    "def get_pk(fn, **others):\n",
    "    def sub_get(ip, subtype):\n",
    "        ip['subtype'] = subtype\n",
    "        dclist = ds.getMatching(ip)\n",
    "        if len(dclist) > 1:\n",
    "            print(\"too many DCs found\")\n",
    "            for dc in dclist:\n",
    "                print(dc.attrs)\n",
    "        print(dclist[0].get('empty_cells'))\n",
    "        return dclist[0].getData()\n",
    "    ip = {\n",
    "        'path':'vel',\n",
    "        'fieldname':fn,\n",
    "        'space':'real',\n",
    "        'grid_resolution':200\n",
    "    }\n",
    "    ip.update(others)\n",
    "    dd = sub_get(ip, 'delta_delta')\n",
    "    tt = sub_get(ip, 'theta_theta')\n",
    "    td = sub_get(ip, 'theta_delta')\n",
    "    ip['space'] = 'redshift'\n",
    "    dd_s = sub_get(ip, 'delta_delta')\n",
    "    return dd, td, tt, dd_s\n"
   ]
  },
  {
   "cell_type": "code",
   "execution_count": 3,
   "metadata": {},
   "outputs": [
    {
     "name": "stdout",
     "output_type": "stream",
     "text": [
      "no key found\n",
      "0\n",
      "0\n",
      "no key found\n"
     ]
    }
   ],
   "source": [
    "pdd, ptd, ptt, prss = get_pk('ptl', ptl_species = 'ptl')"
   ]
  },
  {
   "cell_type": "markdown",
   "metadata": {},
   "source": [
    "# Confirming Expression for Redshift-Space Monopole\n",
    "\n",
    "<a href=\"https://wwwmpa.mpa-garching.mpg.de/~komatsu/lecturenotes/Shun_Saito_on_RSD.pdf\">Link to Reference</a>\n",
    "\n",
    "Equation 21: Expanding the anisotropic power spectrum with Legendre Polynomials\n",
    "\n",
    "$P^s(k, \\mu) = \\sum_{\\ell} P_{\\ell}^s(k) \\mathcal{L}_{\\ell}(\\mu)$\n",
    "\n",
    "I believe that $P_{\\ell}$ is in redshift space, although it is not explicitly notated in the reference.\n",
    "\n",
    "Legendre Polynomials are orthogonal, giving\n",
    "\n",
    "$\\int_{-1}^{1} \\mathcal{L}_{\\ell}(\\mu) \\mathcal{L}_{\\ell'}(\\mu) \\, d\\mu = \\frac{2}{2\\ell + 1} \\delta_{\\ell\\ell'}$\n",
    "\n",
    "$\\int_{-1}^{1} P^s(k, \\mu) \\mathcal{L}_{\\ell'}(\\mu) \\, d\\mu = \\sum_{\\ell} P_{\\ell}(k) \\int_{-1}^{1} \\mathcal{L}_{\\ell}(\\mu) \\mathcal{L}_{\\ell'}(\\mu) \\, d\\mu$\n",
    "\n",
    "$\\int_{-1}^{1} P^s(k, \\mu) \\mathcal{L}_{\\ell'}(\\mu) \\, d\\mu = P_{\\ell'}(k)$\n",
    "\n",
    "We then arrive at the following expression, which tells us how to get from the anisotropic power spectrum to P(k):\n",
    "\n",
    "$P_{\\ell'}^s(k) = \\frac{2\\ell' + 1}{2} \\int_{-1}^{1} P^s(k, \\mu) \\mathcal{L}_{\\ell'}(\\mu) \\, d\\mu$\n",
    "\n",
    "Only $l = 0, 2, 4$ have non-vanishing terms in the Kaiser formula. Here are are these terms: $\\mathcal{L}_0 (x)= 1$, $\\mathcal{L}_2 (x)= 1/2 (3x^2-1)$, $\\mathcal{L}_4 (x) = 1/8(35x^4 - 30x^2 + 3)$. For my purposes, I have only used the monopole.\n",
    "\n",
    "$P_0^s (k) = 1/2 \\int_{-1}^1 d\\mu P^s (k, \\mu)$\n",
    "\n",
    "Equation 30: expressing the kaiser effect, including the linear and non-linear terms.\n",
    "\n",
    "$P^s_{\\rm{L}} (k, \\mu) = (1 + f \\mu^2)^2 P^r_{\\delta \\delta}(k)$\n",
    "\n",
    "$P^s_{\\rm{NL}} (k, \\mu) = P^r_{\\delta \\delta}(k) + 2f\\mu^2 P_{\\delta \\theta} (k) + f^2 \\mu^4 P_{\\theta \\theta} (k)$\n",
    "\n",
    "Combining the expression that gives $P(k)$ from $P(k, \\mu)$ and the above equation, we can get the general equation for redshift-space distortions for the monopole.\n",
    "\n",
    "$P_0^s (k) = P^r_{\\delta \\delta}(k) + 2/3 f P_{\\delta \\theta} (k) + 1/5 f^2 P_{\\theta \\theta} (k)$\n",
    "\n",
    "In other words, the anisotropic power spectrum has the same expression as the monopole of the isotropic power spectrum.\n",
    "\n",
    "Check out papers describing velocity bias assumptions...\n",
    "\n"
   ]
  },
  {
   "cell_type": "code",
   "execution_count": 4,
   "metadata": {},
   "outputs": [],
   "source": [
    "from colossus.cosmology import cosmology\n",
    "cosmo = cosmology.setCosmology('planck15')\n",
    "def growth_rate(z):\n",
    "    D = cosmo.growthFactor(z, derivative = 0)\n",
    "    dDdz = cosmo.growthFactor(z, derivative = 1)\n",
    "    f = -dDdz * (z + 1) / D\n",
    "    return f"
   ]
  },
  {
   "cell_type": "code",
   "execution_count": 5,
   "metadata": {},
   "outputs": [
    {
     "data": {
      "text/plain": [
       "Text(0.5, 0, 'k (cMpc/h)')"
      ]
     },
     "execution_count": 5,
     "metadata": {},
     "output_type": "execute_result"
    },
    {
     "data": {
      "image/png": "[encoded data removed]",
      "text/plain": [
       "<Figure size 432x288 with 1 Axes>"
      ]
     },
     "metadata": {
      "needs_background": "light"
     },
     "output_type": "display_data"
    }
   ],
   "source": [
    "f = growth_rate(1)\n",
    "pred = (1 + 2/3 * f + f**2 / 5) * pdd[1]\n",
    "plt.plot(pdd[0], pred / prss[1], label = 'real space + linear kaiser effect')\n",
    "plt.xscale('log')\n",
    "plt.legend()\n",
    "plt.xlim(0.03, 2)\n",
    "plt.ylim(0, 4)\n",
    "plt.xlabel('k (cMpc/h)')"
   ]
  },
  {
   "cell_type": "markdown",
   "metadata": {},
   "source": []
  },
  {
   "cell_type": "code",
   "execution_count": 6,
   "metadata": {},
   "outputs": [
    {
     "data": {
      "text/plain": [
       "Text(0.5, 1.0, '200$^3$ Grid, TNG 300, z = 1')"
      ]
     },
     "execution_count": 6,
     "metadata": {},
     "output_type": "execute_result"
    },
    {
     "data": {
      "image/png": "[encoded data removed]",
      "text/plain": [
       "<Figure size 432x288 with 1 Axes>"
      ]
     },
     "metadata": {
      "needs_background": "light"
     },
     "output_type": "display_data"
    }
   ],
   "source": [
    "plt.plot(ptt[0], ptt[1])\n",
    "plt.ylabel(r\"$P_{\\theta \\theta} (k)$\", fontsize = 14)\n",
    "plt.xlabel(r\"k (h / cMpc)\", fontsize = 14)\n",
    "plt.loglog()\n",
    "plt.title(\"200$^3$ Grid, TNG 300, z = 1\")"
   ]
  },
  {
   "cell_type": "code",
   "execution_count": 7,
   "metadata": {},
   "outputs": [
    {
     "data": {
      "text/plain": [
       "Text(0.5, 1.0, '200$^3$ Grid, TNG 300, z = 1')"
      ]
     },
     "execution_count": 7,
     "metadata": {},
     "output_type": "execute_result"
    },
    {
     "data": {
      "image/png": "[encoded data removed]",
      "text/plain": [
       "<Figure size 432x288 with 1 Axes>"
      ]
     },
     "metadata": {
      "needs_background": "light"
     },
     "output_type": "display_data"
    }
   ],
   "source": [
    "plt.plot(prss[0], prss[1])\n",
    "plt.ylabel(r\"$P_{\\delta \\delta} (k)$\", fontsize = 14)\n",
    "plt.xlabel(r\"k (h / cMpc)\", fontsize = 14)\n",
    "plt.loglog()\n",
    "plt.title(\"200$^3$ Grid, TNG 300, z = 1\")"
   ]
  },
  {
   "cell_type": "code",
   "execution_count": null,
   "metadata": {},
   "outputs": [],
   "source": []
  }
 ],
 "metadata": {
  "kernelspec": {
   "display_name": "Python 3",
   "language": "python",
   "name": "python3"
  },
  "language_info": {
   "codemirror_mode": {
    "name": "ipython",
    "version": 3
   },
   "file_extension": ".py",
   "mimetype": "text/x-python",
   "name": "python",
   "nbconvert_exporter": "python",
   "pygments_lexer": "ipython3",
   "version": "3.8.9"
  }
 },
 "nbformat": 4,
 "nbformat_minor": 2
}
