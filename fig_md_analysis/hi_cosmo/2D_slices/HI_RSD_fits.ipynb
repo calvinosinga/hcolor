{
 "cells": [
  {
   "cell_type": "code",
   "execution_count": 1,
   "id": "588655e8",
   "metadata": {},
   "outputs": [],
   "source": [
    "import h5py as hp\n",
    "import numpy as np\n",
    "import matplotlib.pyplot as plt\n",
    "import matplotlib as mpl\n",
    "import matplotlib.gridspec as gspec\n",
    "import pickle as pkl\n",
    "import copy\n",
    "from scipy.integrate import quad\n",
    "from scipy.optimize import curve_fit\n"
   ]
  },
  {
   "cell_type": "code",
   "execution_count": 2,
   "id": "521508d5",
   "metadata": {},
   "outputs": [],
   "source": [
    "SIM = 'tng100'\n",
    "SNAP = 50\n",
    "hisubf = pkl.load(open('/home/cosinga/scratch/hcolor/output/alt_%sB_%03dS_0A_800R/results/hisubhalogrid_%sB_%03dS_0A_800R.pkl_rlib.pkl'%(SIM, SNAP, SIM, SNAP), 'rb'))\n",
    "hiptlf = pkl.load(open('/home/cosinga/scratch/hcolor/output/alt_%sB_%03dS_0A_800R/results/hiptlgrid_%sB_%03dS_0A_800R.pkl_rlib.pkl'%(SIM, SNAP, SIM, SNAP), 'rb'))\n",
    "vnf = pkl.load(open('/home/cosinga/scratch/hcolor/output/alt_%sB_%03dS_0A_800R/results/vngrid_%sB_%03dS_0A_800R.pkl_rlib.pkl'%(SIM, SNAP, SIM, SNAP), 'rb'))\n",
    "ptlf = pkl.load(open('/home/cosinga/scratch/hcolor/output/alt_%sB_%03dS_0A_800R/results/ptlgrid_%sB_%03dS_0A_800R.pkl_rlib.pkl'%(SIM, SNAP, SIM, SNAP), 'rb'))\n"
   ]
  },
  {
   "cell_type": "code",
   "execution_count": 3,
   "id": "ddbb9be9",
   "metadata": {},
   "outputs": [
    {
     "name": "stdout",
     "output_type": "stream",
     "text": [
      "model found\n",
      "model found\n",
      "model found\n",
      "model found\n",
      "real found\n",
      "redshift found\n"
     ]
    }
   ],
   "source": [
    "# get desired 2Dpk for GD14 model\n",
    "for d in hisubf.results['2Dpk']:\n",
    "    if 'm_hi_GD14_vol' == d.getProp('model'):\n",
    "        print('model found')\n",
    "        if d.getProp('space') == 'real':\n",
    "            gal_real = d.getValues()\n",
    "        else:\n",
    "            gal_red = d.getValues()\n",
    "for d in hiptlf.results['2Dpk']:\n",
    "    if 'GD14' == d.getProp('model'):\n",
    "        print('model found')\n",
    "        if d.getProp('space') == 'real':\n",
    "            ptl_real = d.getValues()\n",
    "        else:\n",
    "            ptl_red = d.getValues()\n",
    "for d in vnf.results['2Dpk']:\n",
    "    if d.getProp('space') == 'real':\n",
    "        print('real found')\n",
    "        vn_real = d.getValues()\n",
    "    else:\n",
    "        print('redshift found')\n",
    "        vn_red = d.getValues()"
   ]
  },
  {
   "cell_type": "code",
   "execution_count": 20,
   "id": "5d503632",
   "metadata": {},
   "outputs": [
    {
     "name": "stdout",
     "output_type": "stream",
     "text": [
      "ptl found\n",
      "model found\n",
      "model found\n",
      "model found\n",
      "model found\n",
      "real found\n"
     ]
    }
   ],
   "source": [
    "# get the auto powers and biases\n",
    "for d in ptlf.results['pk']:\n",
    "    \n",
    "    if d.getProp('space') == 'real' and d.getProp('ptl_species') == 'ptl':\n",
    "        print('ptl found')\n",
    "        matter_auto = d.getValues()[1]\n",
    "\n",
    "for d in hisubf.results['pk']:\n",
    "    if 'm_hi_GD14_vol' == d.getProp('model'):\n",
    "        print('model found')\n",
    "        if d.getProp('space') == 'real':\n",
    "            gal_auto = d.getValues()\n",
    "            gal_bias = np.sqrt(gal_auto[1] / matter_auto)\n",
    "#         else:\n",
    "#             gal_bias = d.getValues()\n",
    "#             gal_bias = np.sqrt(gal_bias[1] / matter_zspace)\n",
    "\n",
    "for d in hiptlf.results['pk']:\n",
    "    if 'GD14' == d.getProp('model'):\n",
    "        print('model found')\n",
    "        if d.getProp('space') == 'real':\n",
    "            ptl_auto = d.getValues()\n",
    "            ptl_bias = np.sqrt(ptl_auto[1] / matter_auto)\n",
    "#         else:\n",
    "#             ptl_bias = d.getValues()\n",
    "#             ptl_bias = np.sqrt(ptl_bias[1] / matter_zspace)\n",
    "\n",
    "\n",
    "for d in vnf.results['pk']:\n",
    "    if d.getProp('space') == 'real':\n",
    "        print('real found')\n",
    "        vn_auto = d.getValues()\n",
    "        vn_bias = np.sqrt(vn_auto[1] / matter_auto)\n",
    "        \n",
    "#     else:\n",
    "#         print('redshift found')\n",
    "#         vn_bias = d.getValues()\n",
    "        \n",
    "#         vn_bias = np.sqrt(vn_bias[1] / matter_zspace)\n",
    "\n",
    "\n",
    "\n",
    "\n",
    "\n",
    "if SNAP == 67:\n",
    "    omega_m = 0.6037\n",
    "elif SNAP == 50:\n",
    "    omega_m = 0.7829\n",
    "f = omega_m ** 0.545\n",
    "   "
   ]
  },
  {
   "cell_type": "code",
   "execution_count": 21,
   "id": "05ec5b8a",
   "metadata": {},
   "outputs": [],
   "source": [
    "def gal_fit(ks, sigma):\n",
    "    kpar = ks[0]\n",
    "    kper = ks[1]\n",
    "    k = np.sqrt(kper**2 + kpar**2)\n",
    "    mu = kpar / k\n",
    "    bias_interp = np.interp(np.log10(k), np.log10(gal_auto[0]), np.log10(gal_bias))\n",
    "    bias = 10**bias_interp\n",
    "    kaiser = (1 + f/bias * mu**2)**2\n",
    "    auto_interp = np.interp(np.log10(k), np.log10(gal_auto[0]), np.log10(gal_auto[1]))\n",
    "    auto = 10**auto_interp\n",
    "    fog = (1 + 0.5 * k ** 2 * mu ** 2 * sigma**2)**(-2)\n",
    "    return kaiser * auto * fog\n",
    "\n",
    "def ptl_fit(ks, sigma):\n",
    "    kpar = ks[0]\n",
    "    kper = ks[1]\n",
    "    k = np.sqrt(kper**2 + kpar**2)\n",
    "    mu = kpar / k\n",
    "    bias_interp = np.interp(np.log10(k), np.log10(ptl_auto[0]), np.log10(ptl_bias))\n",
    "    bias = 10**bias_interp\n",
    "    kaiser = (1 + f/bias * mu**2)**2\n",
    "    auto_interp = np.interp(np.log10(k), np.log10(ptl_auto[0]), np.log10(ptl_auto[1]))\n",
    "    auto = 10**auto_interp\n",
    "    fog = (1 + 0.5 * k ** 2 * mu ** 2 * sigma**2)**(-2)\n",
    "    return kaiser * auto * fog\n",
    "\n",
    "def vn_fit(ks, sigma):\n",
    "    kpar = ks[0]\n",
    "    kper = ks[1]\n",
    "    k = np.sqrt(kper**2 + kpar**2)\n",
    "    mu = kpar / k\n",
    "    bias_interp = np.interp(np.log10(k), np.log10(vn_auto[0]), np.log10(vn_bias))\n",
    "    bias = 10**bias_interp\n",
    "    kaiser = (1 + f/bias * mu**2)**2\n",
    "    auto_interp = np.interp(np.log10(k), np.log10(vn_auto[0]), np.log10(vn_auto[1]))\n",
    "    auto = 10**auto_interp\n",
    "    fog = (1 + 0.5 * k ** 2 * mu ** 2 * sigma**2)**(-2)\n",
    "    return kaiser * auto * fog\n",
    "\n",
    "def plot_pk(ax, cax, pk2d, cmap = 'viridis', vlim = [0, 4.5], nlevels = 100, cont_spacing = 0.5, smooth_sigma = 0.6):\n",
    "    plt.sca(ax)\n",
    "    vmin, vmax = vlim\n",
    "    norm = mpl.colors.Normalize(vmin, vmax)\n",
    "    nlevels = 100\n",
    "    kpar = np.unique(pk2d[0])\n",
    "    kper = np.unique(pk2d[1])\n",
    "    KPAR, KPER = np.meshgrid(kpar, kper)\n",
    "    pk = np.reshape(pk2d[2], KPAR.shape)\n",
    "    levels = np.linspace(vmin, vmax, nlevels)\n",
    "    lo_mask = pk <= 10**vmin\n",
    "    hi_mask = pk > 10**vmax\n",
    "    pk[lo_mask] = 10**vmin\n",
    "    pk[hi_mask] = 10**vmax\n",
    "    plt.contourf(KPAR, KPER, np.log10(pk), levels = levels, cmap = cmap, vmin = vmin, vmax = vmax)\n",
    "    smap = mpl.cm.ScalarMappable(norm = norm, cmap = cmap)\n",
    "    plt.colorbar(smap, cax = cax)\n",
    "#     data = gaussian_filter(np.log10(pk), sigma = smooth_sigma)\n",
    "#     plt.contour(KPAR, KPER, data, levels = np.arange(vmin, vmax+cont_spacing, cont_spacing), colors = 'black')\n",
    "#     circles = np.sqrt(np.log10(KPAR) ** 2 + np.log10(KPER) **2)\n",
    "#     plt.contour(KPAR, KPER, circles, levels = 100, colors = 'black', linestyles = ':')\n",
    "    plt.xlim(.1, 5)\n",
    "    plt.ylim(.1, 5)\n",
    "    plt.xscale('log')\n",
    "    plt.yscale('log')\n",
    "    return"
   ]
  },
  {
   "cell_type": "code",
   "execution_count": 22,
   "id": "12333d7e",
   "metadata": {},
   "outputs": [],
   "source": [
    "def calc_monopole(auto, hi_bias, sigma_p):\n",
    "    def monopole(mu, k, auto_power, bias, sigma):\n",
    "        bias_interp = np.interp(np.log10(k), np.log10(auto_power[0]), np.log10(bias))\n",
    "        bhi = 10**bias_interp\n",
    "        kaiser = (1 + f/bhi * mu **2)**2\n",
    "        auto_interp = np.interp(np.log10(k), np.log10(auto_power[0]), np.log10(auto_power[1]))\n",
    "        auto = 10**auto_interp\n",
    "        fog = (1 + 0.5 * k ** 2 * mu ** 2 * sigma**2)**(-2)\n",
    "        return 0.5 * kaiser * auto * fog\n",
    "\n",
    "    # for each k value in the auto power, integrate mu from -1 to 1\n",
    "    int_res = np.zeros_like(auto[0])\n",
    "    for i in range(len(auto[0])):\n",
    "        res = quad(monopole, -1, 1, args = (auto[0][i], auto, hi_bias, sigma_p))\n",
    "        int_res[i] = res[0]\n",
    "    return int_res"
   ]
  },
  {
   "cell_type": "code",
   "execution_count": 39,
   "id": "2fc94b5c",
   "metadata": {},
   "outputs": [
    {
     "name": "stdout",
     "output_type": "stream",
     "text": [
      "112\n",
      "vn [[0.68845697]]\n",
      "112\n",
      "hisub [[0.8179174]]\n",
      "112\n",
      "hiptl [[0.77486345]]\n"
     ]
    }
   ],
   "source": [
    "func_dict = {'vn':vn_fit, 'hisub':gal_fit, 'hiptl':ptl_fit}\n",
    "auto_dict = {'vn':vn_auto, 'hisub':gal_auto, 'hiptl':ptl_auto}\n",
    "red_dict = {'vn':vn_red, 'hisub':gal_red, 'hiptl':ptl_red}\n",
    "bias_dict = {'vn':vn_bias, 'hisub':gal_bias, 'hiptl':ptl_bias}\n",
    "sigma_dict = {}\n",
    "int_dict = {}\n",
    "mask_type = 'k_all'\n",
    "\n",
    "def mask_ks(mask_type, kpar, kper):\n",
    "    if mask_type == 'k_sep_and':\n",
    "        return (kpar < 1) & (kper < 1)\n",
    "    elif mask_type == 'k_sep_or':\n",
    "        return (kpar < 1) | (kper < 1)\n",
    "    elif mask_type == 'k_all':\n",
    "        return np.sqrt(kpar ** 2 + kper ** 2) < 1\n",
    "\n",
    "for i in ['vn', 'hisub', 'hiptl']:\n",
    "    red2D = red_dict[i]\n",
    "    mask = mask_ks(mask_type, red2D[0], red2D[1])\n",
    "    print(np.sum(mask))\n",
    "    xdata = np.zeros((2, np.sum(mask)))\n",
    "    xdata[0, :] = red2D[0][mask]\n",
    "    xdata[1, :] = red2D[1][mask]\n",
    "    sigma, cov = curve_fit(func_dict[i], xdata, red2D[2][mask], p0 = 1.5, bounds = [0, 5])\n",
    "    print(i, cov)\n",
    "    sigma_dict[i] = sigma\n",
    "    \n",
    "    int_dict[i] = calc_monopole(auto_dict[i], bias_dict[i], sigma)\n"
   ]
  },
  {
   "cell_type": "code",
   "execution_count": 40,
   "id": "71d6721c",
   "metadata": {},
   "outputs": [
    {
     "data": {
      "image/png": "[encoded data removed]",
      "text/plain": [
       "<Figure size 288x720 with 3 Axes>"
      ]
     },
     "metadata": {
      "needs_background": "light"
     },
     "output_type": "display_data"
    }
   ],
   "source": [
    "\n",
    "fig, axes = plt.subplots(3, 1, figsize = (4, 10))\n",
    "for i, fname in enumerate(['vn', 'hisub', 'hiptl']):\n",
    "    auto = auto_dict[fname]\n",
    "    plt.sca(axes[i])\n",
    "    plt.plot(auto[0], auto[1], label = 'true monopole', color = 'maroon')\n",
    "    plt.plot(auto[0], int_dict[fname], label = 'inferred monopole', color = 'blue')\n",
    "    plt.loglog()\n",
    "    plt.xlim(0.086, 1)\n",
    "    plt.ylim(1e2, 1e4)\n",
    "    plt.ylabel('P (k)')\n",
    "    if i == 0:\n",
    "        plt.title(mask_type)\n",
    "        plt.legend()\n",
    "    elif i == 2:\n",
    "        plt.xlabel('k')\n",
    "    plt.text(0.05, 0.05, '%s\\n$\\\\sigma_p = %.2f$'%(fname, sigma_dict[fname]), transform = axes[i].transAxes, va = 'bottom',\n",
    "            ha = 'left', fontsize = 12)\n",
    "#     plt.sca(axes[i, 1])\n",
    "#     plt.xlim(0.086, 1)\n",
    "\n",
    "#     plt.plot(auto[0], (int_dict[fname] - auto[1]) / auto[1] * 100)\n",
    "#     plt.ylim(-50, 50)\n"
   ]
  },
  {
   "cell_type": "code",
   "execution_count": 28,
   "id": "a51073d1",
   "metadata": {},
   "outputs": [
    {
     "data": {
      "text/plain": [
       "(50, 200)"
      ]
     },
     "execution_count": 28,
     "metadata": {},
     "output_type": "execute_result"
    },
    {
     "data": {
      "image/png": "[encoded data removed]",
      "text/plain": [
       "<Figure size 432x288 with 1 Axes>"
      ]
     },
     "metadata": {
      "needs_background": "light"
     },
     "output_type": "display_data"
    }
   ],
   "source": [
    "for i, fname in enumerate(['vn', 'hisub', 'hiptl']):\n",
    "    auto = auto_dict[fname]\n",
    "    plt.plot(auto[0], int_dict[fname] * auto[0]**2, label = fname)\n",
    "plt.legend()\n",
    "plt.loglog()\n",
    "plt.xlim(0.086, 1)\n",
    "plt.ylim(50, 200)"
   ]
  },
  {
   "cell_type": "code",
   "execution_count": null,
   "id": "edf50298",
   "metadata": {},
   "outputs": [],
   "source": [
    "def new_fit()"
   ]
  }
 ],
 "metadata": {
  "kernelspec": {
   "display_name": "Python 3 (ipykernel)",
   "language": "python",
   "name": "python3"
  },
  "language_info": {
   "codemirror_mode": {
    "name": "ipython",
    "version": 3
   },
   "file_extension": ".py",
   "mimetype": "text/x-python",
   "name": "python",
   "nbconvert_exporter": "python",
   "pygments_lexer": "ipython3",
   "version": "3.8.12"
  }
 },
 "nbformat": 4,
 "nbformat_minor": 5
}
