{
 "cells": [
  {
   "cell_type": "code",
   "execution_count": 1,
   "id": "477deb09",
   "metadata": {},
   "outputs": [],
   "source": [
    "import h5py as hp\n",
    "import numpy as np\n",
    "import matplotlib.pyplot as plt\n",
    "import illustris_python as il\n",
    "import astro_utils.plots as auplt\n",
    "from figrid.data_sort import DataSort\n",
    "from figrid.data_container import DataContainer\n",
    "from figrid.figrid import Figrid\n",
    "\n",
    "from Corrfunc.theory import xi as cf\n",
    "\n",
    "SIMPATH = '/Users/cosinga/sims/illustris/L75n1820TNG/'\n",
    "auplt.RC()"
   ]
  },
  {
   "cell_type": "code",
   "execution_count": 2,
   "id": "d42fd0f8",
   "metadata": {},
   "outputs": [],
   "source": [
    "h = 0.6774\n",
    "box = 75.0\n",
    "def get_halo_data(ss):\n",
    "    data = {}\n",
    "    f = il.groupcat.loadHalos(SIMPATH + 'output', ss, ['Group_M_Crit200', 'GroupPos', 'GroupFirstSub'])\n",
    "    data['m200c'] = f['Group_M_Crit200'] * 1e10 / h\n",
    "    data['x'] = f['GroupPos'] / 1e3\n",
    "    out_mask = data['x'] >= 75\n",
    "    data['x'][out_mask] = data['x'][out_mask] - 75\n",
    "    data['cent_idx'] = f['GroupFirstSub']\n",
    "    f = hp.File(SIMPATH + 'postprocessing/halo_structure_%03d.hdf5'%ss, 'r')\n",
    "#     data['form'] = f['a_form'][:]\n",
    "    data['c200c'] = f['c200c'][:]\n",
    "    return data\n",
    "\n",
    "def get_gal_data(ss):\n",
    "    data = {}\n",
    "    f = il.groupcat.loadSubhalos(SIMPATH + 'output', ss, ['SubhaloPos', 'SubhaloGrNr', 'SubhaloMassType', 'SubhaloStellarPhotometrics'])\n",
    "    data['x'] = f['SubhaloPos'] / 1e3\n",
    "    data['halo_idx'] = f['SubhaloGrNr']\n",
    "    data['stmass'] = f['SubhaloMassType'][:, 4] * 1e10 / h\n",
    "    data['gr'] = f['SubhaloStellarPhotometrics'][:, 4] - f['SubhaloStellarPhotometrics'][:, 5]\n",
    "    return data\n",
    "\n",
    "def get_hi_data(ss):\n",
    "    \n",
    "    return"
   ]
  },
  {
   "cell_type": "code",
   "execution_count": 3,
   "id": "41b0fe44",
   "metadata": {},
   "outputs": [],
   "source": [
    "def get_blue_mask(gr, ss):\n",
    "    if ss == 99:\n",
    "        return (gr <= 0.6)\n",
    "    elif ss == 67:\n",
    "        return gr <= 0.55\n",
    "    elif ss == 50:\n",
    "        return gr <= 0.5\n",
    "    else:\n",
    "        raise ValueError()\n",
    "    \n",
    "def get_res_mask(stmass):\n",
    "    return stmass >= 2e8"
   ]
  },
  {
   "cell_type": "code",
   "execution_count": 4,
   "id": "e5c34a81",
   "metadata": {},
   "outputs": [
    {
     "name": "stdout",
     "output_type": "stream",
     "text": [
      "99\n",
      "67\n",
      "50\n"
     ]
    }
   ],
   "source": [
    "hdatas = []; gdatas = []\n",
    "for ss in [99, 67, 50]:\n",
    "    print(ss)\n",
    "    hdatas.append(get_halo_data(ss))\n",
    "    gdatas.append(get_gal_data(ss))"
   ]
  },
  {
   "cell_type": "code",
   "execution_count": 5,
   "id": "03e81ca4",
   "metadata": {},
   "outputs": [
    {
     "name": "stdout",
     "output_type": "stream",
     "text": [
      "[ 0.5         0.679965    0.92470479  1.25753378  1.7101579   2.32569501\n",
      "  3.1627824   4.30116263  5.84928006  7.95461138 10.81771458 14.71133448\n",
      " 20.00638496 27.20728292 37.        ]\n",
      "0.001 164984629489\n",
      "0.014138936996459961\n",
      "0.01 164984629489\n",
      "0.0332338809967041\n",
      "0.1 164984629489\n",
      "1.7934379577636719\n",
      "1 164984629489\n"
     ]
    },
    {
     "name": "stderr",
     "output_type": "stream",
     "text": [
      "Received signal = `Interrupt: 2' (signo = 2). Aborting \n"
     ]
    },
    {
     "ename": "RuntimeError",
     "evalue": "RuntimeError occurred",
     "output_type": "error",
     "traceback": [
      "\u001b[0;31m---------------------------------------------------------------------------\u001b[0m",
      "\u001b[0;31mRuntimeError\u001b[0m                              Traceback (most recent call last)",
      "Input \u001b[0;32mIn [5]\u001b[0m, in \u001b[0;36m<cell line: 6>\u001b[0;34m()\u001b[0m\n\u001b[1;32m     14\u001b[0m \u001b[38;5;28mprint\u001b[39m(samples[i], \u001b[38;5;28mint\u001b[39m(nhalos \u001b[38;5;241m*\u001b[39m nhalos))\n\u001b[1;32m     15\u001b[0m start \u001b[38;5;241m=\u001b[39m time\u001b[38;5;241m.\u001b[39mtime()\n\u001b[0;32m---> 16\u001b[0m res \u001b[38;5;241m=\u001b[39m \u001b[43mcf\u001b[49m\u001b[43m(\u001b[49m\u001b[43mbox\u001b[49m\u001b[43m,\u001b[49m\u001b[43m \u001b[49m\u001b[38;5;241;43m4\u001b[39;49m\u001b[43m,\u001b[49m\u001b[43m \u001b[49m\u001b[43mrbins\u001b[49m\u001b[43m,\u001b[49m\u001b[43m \u001b[49m\u001b[43mpos\u001b[49m\u001b[43m[\u001b[49m\u001b[43midxs\u001b[49m\u001b[43m,\u001b[49m\u001b[43m \u001b[49m\u001b[38;5;241;43m0\u001b[39;49m\u001b[43m]\u001b[49m\u001b[43m,\u001b[49m\u001b[43m \u001b[49m\u001b[43mpos\u001b[49m\u001b[43m[\u001b[49m\u001b[43midxs\u001b[49m\u001b[43m,\u001b[49m\u001b[43m \u001b[49m\u001b[38;5;241;43m1\u001b[39;49m\u001b[43m]\u001b[49m\u001b[43m,\u001b[49m\u001b[43m \u001b[49m\u001b[43mpos\u001b[49m\u001b[43m[\u001b[49m\u001b[43midxs\u001b[49m\u001b[43m,\u001b[49m\u001b[43m \u001b[49m\u001b[38;5;241;43m2\u001b[39;49m\u001b[43m]\u001b[49m\u001b[43m)\u001b[49m\n\u001b[1;32m     17\u001b[0m end \u001b[38;5;241m=\u001b[39m time\u001b[38;5;241m.\u001b[39mtime() \u001b[38;5;241m-\u001b[39m start\n\u001b[1;32m     18\u001b[0m \u001b[38;5;28mprint\u001b[39m(end)\n",
      "File \u001b[0;32m~/Library/Python/3.8/lib/python/site-packages/Corrfunc/theory/xi.py:229\u001b[0m, in \u001b[0;36mxi\u001b[0;34m(boxsize, nthreads, binfile, X, Y, Z, weights, weight_type, verbose, output_ravg, xbin_refine_factor, ybin_refine_factor, zbin_refine_factor, max_cells_per_dim, copy_particles, enable_min_sep_opt, c_api_timer, isa)\u001b[0m\n\u001b[1;32m    227\u001b[0m \u001b[38;5;28;01mif\u001b[39;00m extn_results \u001b[38;5;129;01mis\u001b[39;00m \u001b[38;5;28;01mNone\u001b[39;00m:\n\u001b[1;32m    228\u001b[0m     msg \u001b[38;5;241m=\u001b[39m \u001b[38;5;124m\"\u001b[39m\u001b[38;5;124mRuntimeError occurred\u001b[39m\u001b[38;5;124m\"\u001b[39m\n\u001b[0;32m--> 229\u001b[0m     \u001b[38;5;28;01mraise\u001b[39;00m \u001b[38;5;167;01mRuntimeError\u001b[39;00m(msg)\n\u001b[1;32m    230\u001b[0m \u001b[38;5;28;01melse\u001b[39;00m:\n\u001b[1;32m    231\u001b[0m     extn_results, api_time \u001b[38;5;241m=\u001b[39m extn_results\n",
      "\u001b[0;31mRuntimeError\u001b[0m: RuntimeError occurred"
     ]
    }
   ],
   "source": [
    "# halo correlation function\n",
    "import time\n",
    "rbins = np.geomspace(0.5, (box - 1) / 2, 15, dtype = np.float64)\n",
    "print(rbins)\n",
    "samples = [0.001, 0.01, 0.1, 1]\n",
    "for i in range(len(samples)):\n",
    "    mass = hdatas[0]['m200c']\n",
    "    mask = mass >= 2e9\n",
    "    pos = hdatas[0]['x'][mask, :]\n",
    "    out_mask = np.any((pos <= 0) | (pos >= box), axis = 1)\n",
    "    pos = pos[~out_mask, :].astype(np.float64)\n",
    "    nhalos = pos.shape[0]\n",
    "    idxs = np.random.randint(0, nhalos, size = int(nhalos * samples[i]))\n",
    "    print(samples[i], int(nhalos * samples[i]))\n",
    "    start = time.time()\n",
    "    res = cf(box, 4, rbins, pos[idxs, 0], pos[idxs, 1], pos[idxs, 2])\n",
    "    end = time.time() - start\n",
    "    print(end)"
   ]
  },
  {
   "cell_type": "code",
   "execution_count": 57,
   "id": "fe63e562",
   "metadata": {},
   "outputs": [
    {
     "name": "stdout",
     "output_type": "stream",
     "text": [
      "[]\n",
      "[0.]\n"
     ]
    }
   ],
   "source": [
    "mask = pos >= box\n",
    "print(pos[mask])\n",
    "zmask = pos <= 0\n",
    "print(pos[zmask])"
   ]
  },
  {
   "cell_type": "code",
   "execution_count": 64,
   "id": "5ad0bae7",
   "metadata": {},
   "outputs": [
    {
     "ename": "RuntimeError",
     "evalue": "RuntimeError occurred",
     "output_type": "error",
     "traceback": [
      "\u001b[0;31m---------------------------------------------------------------------------\u001b[0m",
      "\u001b[0;31mRuntimeError\u001b[0m                              Traceback (most recent call last)",
      "Input \u001b[0;32mIn [64]\u001b[0m, in \u001b[0;36m<cell line: 21>\u001b[0;34m()\u001b[0m\n\u001b[1;32m     16\u001b[0m weights \u001b[38;5;241m=\u001b[39m np\u001b[38;5;241m.\u001b[39mones_like(X)\n\u001b[1;32m     18\u001b[0m \u001b[38;5;66;03m# X = pos[:, 0].copy()\u001b[39;00m\n\u001b[1;32m     19\u001b[0m \u001b[38;5;66;03m# Y = pos[:, 1].copy()\u001b[39;00m\n\u001b[1;32m     20\u001b[0m \u001b[38;5;66;03m# Z = pos[:, 2].copy()\u001b[39;00m\n\u001b[0;32m---> 21\u001b[0m results \u001b[38;5;241m=\u001b[39m \u001b[43mcf\u001b[49m\u001b[38;5;241;43m.\u001b[39;49m\u001b[43mxi\u001b[49m\u001b[43m(\u001b[49m\u001b[43mbox\u001b[49m\u001b[43m,\u001b[49m\u001b[43m \u001b[49m\u001b[43mnthreads\u001b[49m\u001b[43m,\u001b[49m\u001b[43m \u001b[49m\u001b[43mrbins\u001b[49m\u001b[43m,\u001b[49m\u001b[43m \u001b[49m\u001b[43mX\u001b[49m\u001b[43m,\u001b[49m\u001b[43m \u001b[49m\u001b[43mY\u001b[49m\u001b[43m,\u001b[49m\u001b[43m \u001b[49m\u001b[43mZ\u001b[49m\u001b[43m,\u001b[49m\u001b[43m \u001b[49m\u001b[43moutput_ravg\u001b[49m\u001b[38;5;241;43m=\u001b[39;49m\u001b[38;5;28;43;01mTrue\u001b[39;49;00m\u001b[43m)\u001b[49m\n",
      "File \u001b[0;32m~/Library/Python/3.8/lib/python/site-packages/Corrfunc/theory/xi.py:229\u001b[0m, in \u001b[0;36mxi\u001b[0;34m(boxsize, nthreads, binfile, X, Y, Z, weights, weight_type, verbose, output_ravg, xbin_refine_factor, ybin_refine_factor, zbin_refine_factor, max_cells_per_dim, copy_particles, enable_min_sep_opt, c_api_timer, isa)\u001b[0m\n\u001b[1;32m    227\u001b[0m \u001b[38;5;28;01mif\u001b[39;00m extn_results \u001b[38;5;129;01mis\u001b[39;00m \u001b[38;5;28;01mNone\u001b[39;00m:\n\u001b[1;32m    228\u001b[0m     msg \u001b[38;5;241m=\u001b[39m \u001b[38;5;124m\"\u001b[39m\u001b[38;5;124mRuntimeError occurred\u001b[39m\u001b[38;5;124m\"\u001b[39m\n\u001b[0;32m--> 229\u001b[0m     \u001b[38;5;28;01mraise\u001b[39;00m \u001b[38;5;167;01mRuntimeError\u001b[39;00m(msg)\n\u001b[1;32m    230\u001b[0m \u001b[38;5;28;01melse\u001b[39;00m:\n\u001b[1;32m    231\u001b[0m     extn_results, api_time \u001b[38;5;241m=\u001b[39m extn_results\n",
      "\u001b[0;31mRuntimeError\u001b[0m: RuntimeError occurred"
     ]
    }
   ],
   "source": [
    "N = 10000\n",
    "\n",
    "nthreads = 4\n",
    "\n",
    "seed = 42\n",
    "\n",
    "np.random.seed(seed)\n",
    "\n",
    "X = np.random.uniform(0, box, N)\n",
    "X = X.astype(np.float32)\n",
    "Y = np.random.uniform(0, box, N)\n",
    "Y = Y.astype(np.float32)\n",
    "Z = np.random.uniform(0, box, N)\n",
    "Z = Z.astype(np.float32)\n",
    "\n",
    "weights = np.ones_like(X)\n",
    "\n",
    "# X = pos[:, 0].copy()\n",
    "# Y = pos[:, 1].copy()\n",
    "# Z = pos[:, 2].copy()\n",
    "results = cf.xi(box, nthreads, rbins, X, Y, Z, output_ravg=True)"
   ]
  },
  {
   "cell_type": "code",
   "execution_count": null,
   "id": "a7995dc5",
   "metadata": {},
   "outputs": [],
   "source": []
  }
 ],
 "metadata": {
  "kernelspec": {
   "display_name": "Python 3 (ipykernel)",
   "language": "python",
   "name": "python3"
  },
  "language_info": {
   "codemirror_mode": {
    "name": "ipython",
    "version": 3
   },
   "file_extension": ".py",
   "mimetype": "text/x-python",
   "name": "python",
   "nbconvert_exporter": "python",
   "pygments_lexer": "ipython3",
   "version": "3.8.9"
  }
 },
 "nbformat": 4,
 "nbformat_minor": 5
}
