{
 "cells": [
  {
   "cell_type": "code",
   "execution_count": 1,
   "metadata": {},
   "outputs": [],
   "source": [
    "import site\n",
    "import pickle as pkl\n",
    "import h5py as hp\n",
    "import numpy as np\n",
    "import matplotlib.pyplot as plt\n",
    "import matplotlib as mpl\n",
    "import glob\n",
    "import copy\n",
    "\n",
    "SPECS = {}\n",
    "SPECS['all'] = ['box', 'simname', 'grid_resolution', 'snapshot', 'axis', 'path', 'mas', 'space']\n",
    "SPECS['hisubhalo'] = ['model', 'HI_res', 'censat']\n",
    "SPECS['galaxy'] = ['color', 'gal_species', 'gal_res', 'color_cut', 'censat']\n",
    "SPECS['ptl'] = ['ptl_species']\n",
    "SPECS['hiptl'] = ['model']\n",
    "SPECS['vn'] = []\n",
    "\n",
    "def siteFG():\n",
    "    FGPATH = '/Users/cosinga/code/figrid/'\n",
    "    site.addsitedir(FGPATH)\n",
    "    return\n",
    "\n",
    "def loadpks(dl):\n",
    "    path = '/lustre/cosinga/hcolor/output/*/results/*.pkl_rlib.pkl'\n",
    "    filenames = glob.glob(path)\n",
    "    total = 0\n",
    "    for f in range(len(filenames)):\n",
    "        fl = pkl.load(open(filenames[f], 'rb'))\n",
    "        newprops = {'path':filenames[f].split('/')[5].split('_')[0]}\n",
    "        if 'pk' in fl.results:\n",
    "            total += len(fl.results['pk'])\n",
    "            dl.loadResults(fl.results['pk'], newprops)\n",
    "        print(\"%.2f\"%(f/len(filenames)*100) + r\"% loaded\")\n",
    "    \n",
    "    return dl\n",
    "\n",
    "def makeRSD(datalist):\n",
    "    from figrid.data_container import DataContainer\n",
    "    ip = {'space':'real', 'path':'fiducial', 'post_process':'no key found'}\n",
    "    real = datalist.getMatching(ip)\n",
    "    rsdlist = []\n",
    "    for dc in real:\n",
    "        mattr = copy.deepcopy(dc.attrs)\n",
    "        rmattr = []\n",
    "        for k in mattr:\n",
    "            if 'runtime' in k or 'space' in k:\n",
    "                rmattr.append(k)\n",
    "        for rm in rmattr:\n",
    "            del mattr[rm]\n",
    "        mattr['space'] = 'redshift'\n",
    "        redshift = datalist.getMatching(mattr)\n",
    "        if len(redshift) > 1:\n",
    "            print('%d corresponding redshift-space for a real-space:'%len(redshift))\n",
    "            print(\"real ATTRS:\")\n",
    "            print(dc.attrs)\n",
    "            print(\"redshift ATTRS:\")\n",
    "            for r in redshift:\n",
    "                print(r.attrs)\n",
    "            \n",
    "        elif len(redshift) == 0:\n",
    "            print('no redshift space counterparts found')\n",
    "            print(dc.attrs)\n",
    "            continue\n",
    "        else:\n",
    "            redshift = redshift[0]\n",
    "            data = [dc.data[0], redshift.data[1]/dc.data[1]]\n",
    "            rsd = DataContainer(data)\n",
    "            mattr['space'] = 'rsd' \n",
    "            rsd.update(mattr)\n",
    "            rsdlist.append(rsd)\n",
    "    return rsdlist\n",
    "\n",
    "def makeBlueRedRatio(datalist):\n",
    "    from figrid.data_container import DataContainer\n",
    "    ip = {'color':'blue', 'color_cut':'0.60', 'path':['fiducial'], 'post_process':'no key found'}\n",
    "    blues = datalist.getMatching(ip)\n",
    "    ratiolist = []\n",
    "    for dc in blues:\n",
    "        mattr = copy.deepcopy(dc.attrs)\n",
    "        rmattr = []\n",
    "        for k in mattr:\n",
    "            if 'runtime' in k or 'color' == k:\n",
    "                rmattr.append(k)\n",
    "        for rm in rmattr:\n",
    "            del mattr[rm]\n",
    "        mattr['color'] = 'red'\n",
    "        reds = datalist.getMatching(mattr)\n",
    "        if len(reds) > 1:\n",
    "            print('%d corresponding reds for a blue:'%len(reds))\n",
    "            print(\"BLUE ATTRS:\")\n",
    "            print(dc.attrs)\n",
    "            print(\"RED ATTRS:\")\n",
    "            for r in reds:\n",
    "                print(r.attrs)\n",
    "        if len(reds) == 0:\n",
    "            print('no reds found')\n",
    "            print(dc.attrs)\n",
    "        else:\n",
    "            reds = reds[0]\n",
    "            data = [dc.data[0], reds.data[1]/dc.data[1]]\n",
    "            ratio = DataContainer(data)\n",
    "            mattr['color'] = 'ratio' \n",
    "            ratio.update(mattr)\n",
    "            ratiolist.append(ratio)\n",
    "    return ratiolist\n",
    "\n",
    "def makeBias(datalist):\n",
    "    from figrid.data_container import DataContainer\n",
    "    biaslist = []\n",
    "    \n",
    "    crosses = datalist.getMatching({'is_auto' : False, 'path':['fiducial']})\n",
    "    for cx in crosses:\n",
    "        fns = cx.get('fieldname').split('_')\n",
    "        if 'dust' in fns:\n",
    "            continue\n",
    "        autos = []\n",
    "        for f in fns:\n",
    "            attrlist = copy.deepcopy(SPECS['all'])\n",
    "            attrlist.extend(SPECS[f])\n",
    "            attr = {'is_auto':True, 'fieldname':f}\n",
    "            for at in attrlist:\n",
    "                attr[at] = cx.get(at)\n",
    "            matches = datalist.getMatching(attr)\n",
    "            if len(matches)>1:\n",
    "                print('too many matches %d'%len(matches))\n",
    "                for m in matches:\n",
    "                    print(m.attrs)\n",
    "            elif len(matches) == 0:\n",
    "                print('no matches found')\n",
    "                print(attr)\n",
    "                print(cx.attrs)\n",
    "            else:\n",
    "                auto = matches[0]\n",
    "                data = [cx.data[0], cx.data[1] / auto.data[1]]\n",
    "                dc = DataContainer(data)\n",
    "                dc.update(copy.deepcopy(cx.attrs))\n",
    "                dc.add('post_process', 'theory_bias')\n",
    "                dc.add('numerator', cx.get('fieldname'))\n",
    "                dc.add('denominator', auto.get('fieldname'))\n",
    "                biaslist.append(dc)\n",
    "                autos.append(auto)\n",
    "        if len(autos) == 2:\n",
    "            for a in range(len(autos)):\n",
    "                data = [autos[a].data[0], np.sqrt(autos[a].data[1] / autos[(a+1)%2].data[1])]\n",
    "                dc = DataContainer(data)\n",
    "                dc.update(copy.deepcopy(cx.attrs))\n",
    "                dc.add('post_process', 'obs_bias')\n",
    "                dc.add('numerator', autos[a].get('fieldname'))\n",
    "                dc.add('denominator', autos[(a+1)%2].get('fieldname'))\n",
    "                biaslist.append(dc)\n",
    "\n",
    "            data = [autos[0].data[0], cx.data[1] / np.sqrt(autos[0].data[1] * autos[1].data[1])]\n",
    "            dc = DataContainer(data)\n",
    "            dc.update(copy.deepcopy(cx.attrs))\n",
    "            dc.add('post_process', 'corr_coef')\n",
    "            biaslist.append(dc)\n",
    "            \n",
    "        del attr\n",
    "    return biaslist\n",
    "\n",
    "siteFG()\n",
    "from figrid.data_sort import DataSort\n",
    "plt.rcParams['mathtext.fontset'] = 'dejavuserif'\n",
    "plt.rcParams['font.family'] = 'serif'"
   ]
  },
  {
   "cell_type": "code",
   "execution_count": 3,
   "metadata": {},
   "outputs": [
    {
     "data": {
      "text/plain": [
       "['output']"
      ]
     },
     "execution_count": 3,
     "metadata": {},
     "output_type": "execute_result"
    }
   ],
   "source": [
    "ds = pkl.load(open('/Users/cosinga/code/hcolor/fig_md_analysis/9-14_datasort.pkl', 'rb'))\n",
    "ds.getAttrVals('path')"
   ]
  },
  {
   "cell_type": "code",
   "execution_count": 3,
   "metadata": {
    "scrolled": true
   },
   "outputs": [],
   "source": [
    "blist = makeBias(ds)"
   ]
  },
  {
   "cell_type": "code",
   "execution_count": 4,
   "metadata": {},
   "outputs": [],
   "source": [
    "# ds.extend(makeBlueRedRatio(ds))\n",
    "# ds.extend(makeRSD(ds))"
   ]
  },
  {
   "cell_type": "code",
   "execution_count": 5,
   "metadata": {},
   "outputs": [],
   "source": [
    "ds.extend(blist)\n",
    "pkl.dump(ds, open('bias_results.pkl', 'wb'), pkl.HIGHEST_PROTOCOL)"
   ]
  },
  {
   "cell_type": "code",
   "execution_count": 6,
   "metadata": {},
   "outputs": [
    {
     "data": {
      "text/plain": [
       "[]"
      ]
     },
     "execution_count": 6,
     "metadata": {},
     "output_type": "execute_result"
    }
   ],
   "source": [
    "blist"
   ]
  },
  {
   "cell_type": "code",
   "execution_count": 22,
   "metadata": {},
   "outputs": [],
   "source": [
    "XLAB = 'k (cMpc/h)$^{-1}$'\n",
    "YLAB = 'P$_{%s}$ (k) (cMpc/h)$^{-3}$'\n",
    "ds.tickArgs({'direction':'in', 'labelsize':12})\n",
    "ds.legendArgs({'frameon':False, 'loc':'upper right', 'fontsize':12}, slc = (0,0))\n",
    "ds.rowLabelArgs(pos = [0.05, 0.05], txtkw = {'fontsize':14, 'ha':'left', 'va':'bottom'})\n",
    "ds.colLabelArgs(pos = [0.5, 0.95], txtkw = {'fontsize':14, 'ha':'center', 'va':'top'})\n",
    "ds.axisArgs({'xscale':'log', 'yscale':'log', 'xlim':[0.11866199299595938, 20]})"
   ]
  },
  {
   "cell_type": "code",
   "execution_count": 6,
   "metadata": {},
   "outputs": [],
   "source": [
    "ds.setOrder('space', ['real', 'redshift', 'rsd'])\n",
    "ds.displayAs('space', ['real', 'redshift', 'rsd'], ['Real Space', 'Redshift Space', 'Redshift Space\\nDistortions'])\n",
    "ds.displayAs('snapshot', [99, 67], ['z = 0.0', 'z = 0.5'])\n",
    "ds.displayAs('color', ['red', 'blue', 'resolved', 'ratio'],\n",
    "            [r'Red $\\times$ HI'+'\\nCross-Power', r'Blue $\\times$ HI'+'\\nCross-Power',\n",
    "            r'All $\\times$ HI' + '\\nCross-Power', r'Color Ratio'])\n",
    "\n",
    "ds.plotArgs('color', 'red', {'color':'red'})\n",
    "ds.plotArgs('color', 'blue', {'color':'blue'})\n",
    "ds.plotArgs('space', 'real', {'color':'green'})\n",
    "ds.plotArgs('space', 'redshift', {'color':'orange'})\n",
    "\n",
    "ds.plotArgs('fieldname', 'hiptl', {'color':'saddlebrown'})\n",
    "ds.plotArgs('fieldname', 'hisubhalo', {'color':'sandybrown'})"
   ]
  }
 ],
 "metadata": {
  "kernelspec": {
   "display_name": "Python 3 (ipykernel)",
   "language": "python",
   "name": "python3"
  },
  "language_info": {
   "codemirror_mode": {
    "name": "ipython",
    "version": 3
   },
   "file_extension": ".py",
   "mimetype": "text/x-python",
   "name": "python",
   "nbconvert_exporter": "python",
   "pygments_lexer": "ipython3",
   "version": "3.9.13"
  },
  "vscode": {
   "interpreter": {
    "hash": "7a792fcb311f9eb9f3c1b942a8c87ada8484712b89b670347c16a1088e0a1f69"
   }
  }
 },
 "nbformat": 4,
 "nbformat_minor": 2
}
