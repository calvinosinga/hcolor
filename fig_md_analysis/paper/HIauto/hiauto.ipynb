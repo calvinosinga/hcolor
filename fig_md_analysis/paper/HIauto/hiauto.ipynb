{
 "cells": [
  {
   "cell_type": "code",
   "execution_count": null,
   "metadata": {},
   "outputs": [],
   "source": [
    "%%capture\n",
    "import hc_lib.plots.figlib as flib\n",
    "flib.siteFG()\n",
    "from figrid.figrid import DataList\n",
    "from figrid.figrid import Figrid\n",
    "import numpy as np\n",
    "import copy\n",
    "import matplotlib as mpl"
   ]
  },
  {
   "cell_type": "code",
   "execution_count": null,
   "metadata": {},
   "outputs": [],
   "source": [
    "box = 'tng100'\n",
    "snap = [99]\n",
    "axis = 0\n",
    "res = 800\n",
    "files = ['hiptlgrid', 'vngrid', 'hisubhalogrid']\n",
    "master = DataList()\n",
    "for f in files:\n",
    "    for s in snap:\n",
    "        rlib = flib.load(box, s, axis, res, f)\n",
    "        kmin = (np.abs(rlib.results['pk'][0].xvalues - 2)).argmin()\n",
    "        master.loadResults(rlib.results['pk'])\n",
    "print(kmin)"
   ]
  },
  {
   "cell_type": "code",
   "execution_count": null,
   "metadata": {},
   "outputs": [],
   "source": [
    "smfont = 10\n",
    "larfont = 12\n",
    "BOX = rlib.results['pk'][0].props['box']\n",
    "RES = rlib.results['pk'][0].props['grid_resolution']\n",
    "cdict = flib.getCdict()\n",
    "XBORDER, YBORDER = flib.getBorders()\n",
    "XLIM = flib.getXlim()"
   ]
  },
  {
   "cell_type": "code",
   "execution_count": null,
   "metadata": {},
   "outputs": [],
   "source": [
    "\n",
    "fg = Figrid(master)\n",
    "\n",
    "fg.arrange('space', '', panel_length = 2, hspace = 0.05, xborder = XBORDER, yborder = YBORDER)\n",
    "fg.makeFills({'fieldname':'hisubhalo'}, {'color':cdict['hisubhalo'], 'label':'HI Galaxies as Points',\n",
    "        'alpha':0.55})\n",
    "fg.makeFills({'fieldname':'hiptl'},  {'color':cdict['hisubhalo'], 'label':'HI Particles only in Galaxies',\n",
    "        'alpha':0.55})\n",
    "fg.setPlotArgs({'fieldname':'vn'}, {'color':cdict['vn'], 'label':'HI for All Particles'})\n",
    "fg.plot()\n",
    "\n",
    "axkw = {}\n",
    "axkw['xscale'] = 'log'\n",
    "axkw['yscale'] = 'log'\n",
    "axkw['xlim'] = XLIM\n",
    "axkw['ylim'] = [13, 1300]\n",
    "fg.setAxisParams(axkw, (0,0))\n",
    "axkw['ylim'] = [.1, 1300]\n",
    "fg.setAxisParams(axkw, (1,0))\n",
    "\n",
    "txtkw = {'fontsize':larfont}\n",
    "flib.pklabels(fg, ysub = r'\\rm{HI}', xtxtkw=txtkw, ytxtkw=txtkw)\n",
    "fg.setRowLabels(['Real Space', 'Redshift Space'])\n",
    "\n",
    "lkw = {'frameon':False, 'fontsize':smfont - 1, 'loc':'lower left'}\n",
    "fg.drawLegend(lkw, (0,0))\n",
    "\n",
    "fg.setDefaultTicksParams()\n",
    "fg.setTicks({'labelsize':smfont, 'direction':'in'})\n",
    "fg.fig"
   ]
  }
 ],
 "metadata": {
  "language_info": {
   "name": "python"
  },
  "orig_nbformat": 4
 },
 "nbformat": 4,
 "nbformat_minor": 2
}
