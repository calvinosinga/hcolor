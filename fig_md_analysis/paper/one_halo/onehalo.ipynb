{
 "cells": [
  {
   "cell_type": "code",
   "execution_count": null,
   "metadata": {},
   "outputs": [],
   "source": [
    "import hc_lib.plots.figlib as flib\n",
    "flib.siteFG()\n",
    "from figrid.figrid import DataList\n",
    "from figrid.figrid import Figrid\n",
    "import numpy as np\n",
    "import matplotlib as mpl\n",
    "import matplotlib.pyplot as plt\n",
    "import copy\n",
    "import seaborn as sb"
   ]
  },
  {
   "cell_type": "code",
   "execution_count": null,
   "metadata": {},
   "outputs": [],
   "source": [
    "box = 'tng100'\n",
    "snap = [99, 67]\n",
    "axis = 0\n",
    "res = 800\n",
    "files = ['hiptlXgalaxy', 'vnXgalaxy', 'ptlgrid', 'galaxygrid', 'hisubhaloXgalaxy']\n",
    "master = DataList()\n",
    "for f in files:\n",
    "    for s in snap:\n",
    "        rlib = flib.load(box, s, axis, res, f)\n",
    "        master.loadResults(rlib.results['pk'])\n",
    "rlib = flib.load(box, 99, 0, 800, 'galaxygrid', 'all_gals')\n",
    "master.loadResults(rlib.results['pk'])\n",
    "\n",
    "rlib = flib.load(box, 99, 0, 800, 'galaxygrid', 'species')\n",
    "master.loadResults(rlib.results['pk'])\n"
   ]
  },
  {
   "cell_type": "code",
   "execution_count": null,
   "metadata": {},
   "outputs": [],
   "source": [
    "smfont = 10\n",
    "larfont = 12\n",
    "BOX = rlib.results['pk'][0].props['box']\n",
    "RES = rlib.results['pk'][0].props['grid_resolution']\n",
    "cdict = flib.getCdict()\n",
    "XBORDER, YBORDER = flib.getBorders()\n",
    "XLIM = flib.getXlim()"
   ]
  },
  {
   "cell_type": "code",
   "execution_count": null,
   "metadata": {},
   "outputs": [],
   "source": [
    "def matterAuto(ip, name):\n",
    "    print('MAKING MATTER AUTO POWER SPECTRUM')\n",
    "\n",
    "    return"
   ]
  },
  {
   "cell_type": "code",
   "execution_count": null,
   "metadata": {},
   "outputs": [],
   "source": [
    "ip = {}\n",
    "ip['is_auto'] = True\n",
    "ip['color'] = ['resolved', 'all']\n",
    "ip['gal_species'] = ['total', 'stmass']\n",
    "ip['fieldname'] = ['galaxy', 'ptl']\n",
    "ip['ptl_species'] = ['ptl', 'stmass']\n",
    "dclist = DataList(master.getMatching(ip))\n",
    "fg = Figrid(dclist)\n",
    "fg.setRowOrder(['real', 'redshift'])\n",
    "fg.arrange('space', 'species', panel_length = 2, \n",
    "    xborder = XBORDER, yborder = YBORDER)\n"
   ]
  }
 ],
 "metadata": {
  "kernelspec": {
   "display_name": "Python 3",
   "language": "python",
   "name": "python3"
  },
  "language_info": {
   "codemirror_mode": {
    "name": "ipython",
    "version": 3
   },
   "file_extension": ".py",
   "mimetype": "text/x-python",
   "name": "python",
   "nbconvert_exporter": "python",
   "pygments_lexer": "ipython3",
   "version": "3.7.7"
  }
 },
 "nbformat": 4,
 "nbformat_minor": 2
}
