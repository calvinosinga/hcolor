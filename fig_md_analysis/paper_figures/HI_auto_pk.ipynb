{
 "cells": [
  {
   "cell_type": "code",
   "execution_count": 13,
   "metadata": {},
   "outputs": [],
   "source": [
    "import h5py as hp\n",
    "%matplotlib inline\n",
    "import matplotlib.pyplot as plt\n",
    "import numpy as np\n",
    "import illustris_python as il\n",
    "import matplotlib.gridspec as gspec\n",
    "import matplotlib as mpl\n",
    "import copy\n",
    "from hc_lib.plots.fig_lib import FigureLibrary\n",
    "tngpath = '/lustre/cosinga/L75n1820TNG/'\n",
    "basepath = '/lustre/cosinga/hcolor/fig_md_analysis/'"
   ]
  },
  {
   "cell_type": "code",
   "execution_count": 14,
   "metadata": {},
   "outputs": [],
   "source": [
    "def get_match(props):\n",
    "    keys = pkfile.keys()\n",
    "    matches = []\n",
    "    for k in keys:\n",
    "        is_match = True\n",
    "        if 'x' in k:\n",
    "            for p,v in props.items():\n",
    "                try:\n",
    "                    lval = pkfile[k].attrs[p]\n",
    "                    \n",
    "                    is_match = (is_match and v in lval)\n",
    "                except KeyError:\n",
    "                    continue\n",
    "            if is_match:\n",
    "                matches.append(k)\n",
    "    return matches"
   ]
  },
  {
   "cell_type": "code",
   "execution_count": 15,
   "metadata": {},
   "outputs": [],
   "source": [
    "pkfile = hp.File(basepath+'all_auto/HIautopk.hdf5', 'r')\n",
    "head = il.groupcat.loadHeader(tngpath+'output/', 99)\n"
   ]
  },
  {
   "cell_type": "code",
   "execution_count": 16,
   "metadata": {},
   "outputs": [
    {
     "name": "stdout",
     "output_type": "stream",
     "text": [
      "<KeysViewHDF5 ['0 0 0 x', '0 0 0 y', '0 0 1 x', '0 0 1 y', '0 0 10 x', '0 0 10 y', '0 0 11 x', '0 0 11 y', '0 0 12 x', '0 0 12 y', '0 0 13 x', '0 0 13 y', '0 0 2 x', '0 0 2 y', '0 0 3 x', '0 0 3 y', '0 0 4 x', '0 0 4 y', '0 0 5 x', '0 0 5 y', '0 0 6 x', '0 0 6 y', '0 0 7 x', '0 0 7 y', '0 0 8 x', '0 0 8 y', '0 0 9 x', '0 0 9 y', '0 1 0 x', '0 1 0 y', '0 1 1 x', '0 1 1 y', '0 1 10 x', '0 1 10 y', '0 1 11 x', '0 1 11 y', '0 1 12 x', '0 1 12 y', '0 1 13 x', '0 1 13 y', '0 1 2 x', '0 1 2 y', '0 1 3 x', '0 1 3 y', '0 1 4 x', '0 1 4 y', '0 1 5 x', '0 1 5 y', '0 1 6 x', '0 1 6 y', '0 1 7 x', '0 1 7 y', '0 1 8 x', '0 1 8 y', '0 1 9 x', '0 1 9 y']>\n",
      "dict_keys(['fieldname', 'redshift', 'snapshot', 'space'])\n"
     ]
    }
   ],
   "source": [
    "print(pkfile.keys())\n",
    "print(dict(pkfile['0 0 0 x'].attrs).keys())\n"
   ]
  },
  {
   "cell_type": "code",
   "execution_count": 38,
   "metadata": {},
   "outputs": [
    {
     "data": {
      "image/png": "[encoded data removed]",
      "text/plain": [
       "<Figure size 583.2x360 with 2 Axes>"
      ]
     },
     "metadata": {
      "needs_background": "light"
     },
     "output_type": "display_data"
    }
   ],
   "source": [
    "nrows = 1\n",
    "ncols = 2\n",
    "xborder = 1\n",
    "yborder = 1\n",
    "panel_bt = 0.1\n",
    "panel_length = 3\n",
    "\n",
    "# border input can be either a list or single number\n",
    "if isinstance(xborder, float) or isinstance(xborder, int):\n",
    "    xborder = [xborder, xborder]\n",
    "if isinstance(yborder, float) or isinstance(yborder, int):\n",
    "    yborder = [yborder, yborder]\n",
    "if isinstance(panel_bt, float) or isinstance(panel_bt, int):\n",
    "    panel_bt = [panel_bt, panel_bt]\n",
    "# creating Figure object\n",
    "\n",
    "figwidth = panel_length * ncols + panel_bt[0] * (ncols - 1) + \\\n",
    "        xborder[0] + xborder[1]\n",
    "figheight = panel_length * nrows + panel_bt[1] * (nrows - 1) + \\\n",
    "        yborder[0] + yborder[1]\n",
    "\n",
    "fig = plt.figure(figsize=(figwidth, figheight))\n",
    "\n",
    "# creating gridspec\n",
    "gs = gspec.GridSpec(nrows, ncols, left= xborder[0]/figwidth, right=1-xborder[1]/figwidth,\n",
    "        top=1-yborder[1]/figheight, bottom=yborder[0]/figheight,\n",
    "        wspace=panel_bt[0]*ncols/figwidth, hspace=panel_bt[1]*nrows/figheight)\n",
    "\n",
    "# making panels list\n",
    "panels = []\n",
    "for i in range(nrows):\n",
    "    col_panels = []\n",
    "    for j in range(ncols):\n",
    "        col_panels.append(fig.add_subplot(gs[i, j]))\n",
    "\n",
    "    panels.append(col_panels)\n",
    "\n",
    "flib = FigureLibrary(fig=fig, panels=panels)\n",
    "flib.panel_length = panel_length\n",
    "flib.panel_bt = panel_bt\n",
    "flib.xborder = xborder\n",
    "flib.yborder = yborder\n",
    "flib.has_cbar_col = False\n",
    "flib.figsize = [figwidth, figheight]"
   ]
  },
  {
   "cell_type": "code",
   "execution_count": 39,
   "metadata": {},
   "outputs": [],
   "source": [
    "keys_for_panels = np.empty((nrows,ncols), dtype=object)\n",
    "\n",
    "spaces = ['real', 'redshift']\n",
    "for i in range(nrows):\n",
    "    for j in range(ncols):\n",
    "        props = {'space':spaces[j]}\n",
    "        keys_for_panels[i,j] = get_match(props)"
   ]
  },
  {
   "cell_type": "code",
   "execution_count": 40,
   "metadata": {},
   "outputs": [
    {
     "data": {
      "text/plain": [
       "14"
      ]
     },
     "execution_count": 40,
     "metadata": {},
     "output_type": "execute_result"
    }
   ],
   "source": [
    "len(keys_for_panels[0,0])"
   ]
  },
  {
   "cell_type": "code",
   "execution_count": 41,
   "metadata": {},
   "outputs": [
    {
     "name": "stdout",
     "output_type": "stream",
     "text": [
      "(4, 692)\n",
      "(9, 692)\n",
      "(4, 692)\n",
      "(9, 692)\n"
     ]
    }
   ],
   "source": [
    "for i in range(nrows):\n",
    "    for j in range(ncols):\n",
    "        \n",
    "        idx = (i,j)\n",
    "        keys = keys_for_panels[idx]\n",
    "        \n",
    "        # plot hiptl\n",
    "        plot_pk = []\n",
    "        for k in keys:\n",
    "            wavenum = pkfile[k]\n",
    "            pk_key = k[:-1] + 'y'\n",
    "            pk = pkfile[pk_key]\n",
    "            if 'hiptl' in wavenum.attrs['fieldname']:\n",
    "                plot_wn = wavenum[:]\n",
    "                plot_pk.append(pk[:])\n",
    "        plot_pk = np.array(plot_pk)\n",
    "        print(plot_pk.shape)\n",
    "        flib.plotFillPanel(idx, plot_wn, plot_pk, label = 'Galaxy Particles', color='green')\n",
    "        \n",
    "        # plot hisubhalo\n",
    "        plot_pk = []\n",
    "        for k in keys:\n",
    "            wavenum = pkfile[k]\n",
    "            pk_key = k[:-1] + 'y'\n",
    "            pk = pkfile[pk_key]\n",
    "            if 'hisubhalo' in wavenum.attrs['fieldname']:\n",
    "                plot_wn = wavenum[:]\n",
    "                plot_pk.append(pk[:])\n",
    "        plot_pk = np.array(plot_pk)\n",
    "        print(plot_pk.shape)\n",
    "        flib.plotFillPanel(idx, plot_wn, plot_pk, label = 'Galaxies', color='darkorange')\n",
    "        \n",
    "        \n",
    "        # plot vn\n",
    "        for k in keys:\n",
    "            wavenum = pkfile[k]\n",
    "            pk_key = k[:-1] + 'y'\n",
    "            pk = pkfile[pk_key]\n",
    "            if 'vn' in wavenum.attrs['fieldname']:\n",
    "                plot_wn = wavenum[:]\n",
    "                flib.plotLinePanel(idx, plot_wn, pk, 'All Particles', color = 'purple')\n",
    "        "
   ]
  },
  {
   "cell_type": "code",
   "execution_count": 42,
   "metadata": {},
   "outputs": [
    {
     "data": {
      "image/png": "[encoded data removed]",
      "text/plain": [
       "<Figure size 583.2x360 with 2 Axes>"
      ]
     },
     "execution_count": 42,
     "metadata": {},
     "output_type": "execute_result"
    }
   ],
   "source": [
    "fig"
   ]
  },
  {
   "cell_type": "code",
   "execution_count": 43,
   "metadata": {},
   "outputs": [
    {
     "name": "stdout",
     "output_type": "stream",
     "text": [
      "P$_{\\rm{HI}}$ (k) (Mpc/h)$^{-3}$\n",
      "k (Mpc/h)$^{-1}$\n"
     ]
    }
   ],
   "source": [
    "box = head['BoxSize'] /1e3 * head['Time']\n",
    "mink = wavenum[0]\n",
    "# axis\n",
    "flib.logAxis()\n",
    "flib.xLimAdjustToNyquist(gridres=800, box = box, xleft = mink)\n",
    "flib.flushYAxisToData()\n",
    "flib.matchAxisLimits()\n",
    "\n",
    "# ticks\n",
    "flib.changeTickDirection()\n",
    "flib.removeDefaultTickLabels()\n",
    "\n",
    "# labels\n",
    "flib.addLegend()\n",
    "flib.axisLabel(\"P$_{\\\\rm{HI}}$ (k) (Mpc/h)$^{-3}$\", 'y', fsize = 14)\n",
    "flib.axisLabel(\"k (Mpc/h)$^{-1}$\", 'x', fsize = 14)\n",
    "flib.addColLabels(['Real Space', 'Redshift Space'], in_panel=True)\n"
   ]
  },
  {
   "cell_type": "code",
   "execution_count": 44,
   "metadata": {},
   "outputs": [
    {
     "data": {
      "image/png": "[encoded data removed]",
      "text/plain": [
       "<Figure size 583.2x360 with 2 Axes>"
      ]
     },
     "execution_count": 44,
     "metadata": {},
     "output_type": "execute_result"
    }
   ],
   "source": [
    "fig"
   ]
  },
  {
   "cell_type": "code",
   "execution_count": 45,
   "metadata": {},
   "outputs": [],
   "source": [
    "fig.savefig(\"HI_auto_methodology_new_colors.pdf\")"
   ]
  },
  {
   "cell_type": "code",
   "execution_count": null,
   "metadata": {},
   "outputs": [],
   "source": []
  }
 ],
 "metadata": {
  "kernelspec": {
   "display_name": "Python 3",
   "language": "python",
   "name": "python3"
  },
  "language_info": {
   "codemirror_mode": {
    "name": "ipython",
    "version": 3
   },
   "file_extension": ".py",
   "mimetype": "text/x-python",
   "name": "python",
   "nbconvert_exporter": "python",
   "pygments_lexer": "ipython3",
   "version": "3.7.7"
  }
 },
 "nbformat": 4,
 "nbformat_minor": 2
}
