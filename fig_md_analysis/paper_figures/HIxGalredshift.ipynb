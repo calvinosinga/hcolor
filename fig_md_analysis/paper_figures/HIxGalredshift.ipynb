{
 "cells": [
  {
   "cell_type": "code",
   "execution_count": 1,
   "metadata": {},
   "outputs": [],
   "source": [
    "import h5py as hp\n",
    "%matplotlib inline\n",
    "import matplotlib.pyplot as plt\n",
    "import numpy as np\n",
    "import illustris_python as il\n",
    "import matplotlib.gridspec as gspec\n",
    "import matplotlib as mpl\n",
    "import copy\n",
    "from hc_lib.plots.fig_lib import FigureLibrary\n",
    "tngpath = '/lustre/cosinga/L75n1820TNG/'\n",
    "basepath = '/lustre/cosinga/hcolor/fig_md_analysis/'"
   ]
  },
  {
   "cell_type": "code",
   "execution_count": 2,
   "metadata": {},
   "outputs": [],
   "source": [
    "fsr = hp.File(basepath+'HIXgalaxy/HIxGal_fieldnameR_spaceC_redshift.hdf5', 'r')\n",
    "rfc = hp.File(basepath+'HIXgalaxy/HIxGal_redshiftR_fieldnameC_color.hdf5', 'r')\n",
    "head = il.groupcat.loadHeader(tngpath+'output/', 99)\n"
   ]
  },
  {
   "cell_type": "code",
   "execution_count": 3,
   "metadata": {},
   "outputs": [],
   "source": [
    "def get_match(props):\n",
    "    keys = fsr.keys()\n",
    "    matches = []\n",
    "    for k in keys:\n",
    "        is_match = True\n",
    "        if 'x' in k:\n",
    "            for p,v in props.items():\n",
    "                try:\n",
    "                    lval = fsr[k].attrs[p]\n",
    "                    \n",
    "                    is_match = (is_match and v in lval)\n",
    "                except KeyError:\n",
    "                    continue\n",
    "            if is_match:\n",
    "                matches.append(k)\n",
    "    return matches"
   ]
  },
  {
   "cell_type": "code",
   "execution_count": 4,
   "metadata": {},
   "outputs": [
    {
     "data": {
      "image/png": "[encoded data removed]",
      "text/plain": [
       "<Figure size 806.4x1029.6 with 12 Axes>"
      ]
     },
     "metadata": {
      "needs_background": "light"
     },
     "output_type": "display_data"
    }
   ],
   "source": [
    "# redshift figure\n",
    "nrows = 4\n",
    "ncols = 3\n",
    "xborder = 1\n",
    "yborder = 1\n",
    "panel_bt = 0.1\n",
    "panel_length = 3\n",
    "\n",
    "\n",
    "# border input can be either a list or single number\n",
    "if isinstance(xborder, float) or isinstance(xborder, int):\n",
    "    xborder = [xborder, xborder]\n",
    "if isinstance(yborder, float) or isinstance(yborder, int):\n",
    "    yborder = [yborder, yborder]\n",
    "if isinstance(panel_bt, float) or isinstance(panel_bt, int):\n",
    "    panel_bt = [panel_bt, panel_bt]\n",
    "# creating Figure object\n",
    "\n",
    "figwidth = panel_length * ncols + panel_bt[0] * (ncols - 1) + \\\n",
    "        xborder[0] + xborder[1]\n",
    "figheight = panel_length * nrows + panel_bt[1] * (nrows - 1) + \\\n",
    "        yborder[0] + yborder[1]\n",
    "\n",
    "fig = plt.figure(figsize=(figwidth, figheight))\n",
    "\n",
    "# creating gridspec\n",
    "gs = gspec.GridSpec(nrows, ncols)\n",
    "plt.subplots_adjust(left= xborder[0]/figwidth, right=1-xborder[1]/figwidth,\n",
    "        top=1-yborder[1]/figheight, bottom=yborder[0]/figheight,\n",
    "        wspace=panel_bt[0]*ncols/figwidth, hspace=panel_bt[1]*nrows/figheight)\n",
    "\n",
    "# making panels list\n",
    "panels = []\n",
    "for i in range(nrows):\n",
    "    col_panels = []\n",
    "    for j in range(ncols):\n",
    "        col_panels.append(fig.add_subplot(gs[i, j]))\n",
    "\n",
    "    panels.append(col_panels)\n",
    "\n",
    "flib = FigureLibrary(fig=fig, panels=panels)\n",
    "flib.panel_length = panel_length\n",
    "flib.panel_bt = panel_bt\n",
    "flib.xborder = xborder\n",
    "flib.yborder = yborder\n",
    "flib.figsize = [figwidth, figheight]"
   ]
  },
  {
   "cell_type": "code",
   "execution_count": null,
   "metadata": {},
   "outputs": [],
   "source": []
  }
 ],
 "metadata": {
  "kernelspec": {
   "display_name": "Python 3",
   "language": "python",
   "name": "python3"
  },
  "language_info": {
   "codemirror_mode": {
    "name": "ipython",
    "version": 3
   },
   "file_extension": ".py",
   "mimetype": "text/x-python",
   "name": "python",
   "nbconvert_exporter": "python",
   "pygments_lexer": "ipython3",
   "version": "3.7.7"
  }
 },
 "nbformat": 4,
 "nbformat_minor": 2
}
