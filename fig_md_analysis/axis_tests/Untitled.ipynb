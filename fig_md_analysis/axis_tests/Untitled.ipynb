{
 "cells": [
  {
   "cell_type": "code",
   "execution_count": 1,
   "metadata": {},
   "outputs": [
    {
     "name": "stderr",
     "output_type": "stream",
     "text": [
      "/software/spack-software/2020.05.14/linux-rhel8-ivybridge/gcc-8.4.0/python-3.7.7-zgcjuclie3fiis4ljkrfp4c4j6fkoa62/lib/python3.7/site-packages/statsmodels/tools/_testing.py:19: FutureWarning: pandas.util.testing is deprecated. Use the functions in the public API at pandas.testing instead.\n",
      "  import pandas.util.testing as tm\n"
     ]
    }
   ],
   "source": [
    "import pickle as pkl\n",
    "from hc_lib.plots.figlib import FigureLibrary\n",
    "import numpy as np\n",
    "import seaborn as sbn\n",
    "import copy\n",
    "import matplotlib as mpl\n",
    "import matplotlib.pyplot as plt\n",
    "from hc_lib.plots.container import PostResult"
   ]
  },
  {
   "cell_type": "code",
   "execution_count": 2,
   "metadata": {},
   "outputs": [],
   "source": [
    "def make_plot(paths, ip, plot_f):\n",
    "    data0 = pkl.load(open(paths[0], 'rb'))\n",
    "    data1 = pkl.load(open(paths[1], 'rb'))\n",
    "    data2 = pkl.load(open(paths[2], 'rb'))\n",
    "    flib = FigureLibrary(data0, 'pk')\n",
    "    flib.addResults(data1)\n",
    "    flib.addResults(data2)\n",
    "    flib.createFigGrid(1, 1)\n",
    "    flib.arrangeResults(ip, 'snapshot', [99], 'space', ['redshift'], 'axis')\n",
    "    plot_f(flib)\n",
    "    return flib.getFig()\n",
    "    "
   ]
  },
  {
   "cell_type": "code",
   "execution_count": 3,
   "metadata": {},
   "outputs": [],
   "source": [
    "def vn_plot(flib):\n",
    "    flib.plotLine((0,0))\n",
    "    return\n",
    "base = '/lustre/cosinga/hcolor/output/'\n",
    "paths = [base + 'lowgr_tng100B_099S_0A_800R/results/']\n",
    "for axis in [1,2]:\n",
    "    paths.append(base + 'axis_test%d_tng100B_099S_%dA_800R/results'%axis)\n",
    "paths = [p + 'vngrid_tng100B_099S_800R']\n",
    "make_plot(paths)"
   ]
  },
  {
   "cell_type": "code",
   "execution_count": null,
   "metadata": {},
   "outputs": [],
   "source": []
  }
 ],
 "metadata": {
  "kernelspec": {
   "display_name": "Python 3",
   "language": "python",
   "name": "python3"
  },
  "language_info": {
   "codemirror_mode": {
    "name": "ipython",
    "version": 3
   },
   "file_extension": ".py",
   "mimetype": "text/x-python",
   "name": "python",
   "nbconvert_exporter": "python",
   "pygments_lexer": "ipython3",
   "version": "3.7.7"
  }
 },
 "nbformat": 4,
 "nbformat_minor": 2
}
