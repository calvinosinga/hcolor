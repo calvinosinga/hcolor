{
 "cells": [
  {
   "cell_type": "code",
   "execution_count": null,
   "id": "e9406542",
   "metadata": {},
   "outputs": [],
   "source": [
    "import pickle as pkl\n",
    "import pk_plot_library as pplib\n",
    "import numpy as np\n",
    "import matplotlib.pyplot as plt\n",
    "import matplotlib as mpl\n",
    "import copy\n",
    "from figrid.data_container import DataContainer\n",
    "\n",
    "pplib.imports()"
   ]
  },
  {
   "cell_type": "code",
   "execution_count": 74,
   "id": "e86fcb6c",
   "metadata": {},
   "outputs": [
    {
     "name": "stdout",
     "output_type": "stream",
     "text": [
      "['path', 'result_type', 'result_runtime', 'is_auto', 'box', 'simname', 'sim_resolution', 'num_part', 'grid_resolution', 'snapshot', 'redshift', 'axis', 'fieldname', 'is_hydrogen', 'is_atomic', 'is_molecular', 'is_particle', 'is_groupcat', 'is_matter', 'mas', 'space', 'compute_xi', 'compute_slice', 'color', 'gal_species', 'gal_res', 'color_cut', 'ptl_species', 'map', 'model', 'HI_fieldname', 'projection', 'HI_res', 'censat', 'post_process', 'numerator', 'denominator']\n"
     ]
    },
    {
     "data": {
      "text/plain": [
       "['no key found', 'theory_bias', 'obs_bias', 'corr_coef']"
      ]
     },
     "execution_count": 74,
     "metadata": {},
     "output_type": "execute_result"
    }
   ],
   "source": [
    "ds = pkl.load(open('/Users/cosinga/code/hcolor/fig_md_analysis/5-8_pkdatasort.pkl', 'rb'))\n",
    "print(ds.getAttrs())\n",
    "\n",
    "ds.tickArgs(direction = 'in', right = True, top = True, labelsize = 14)\n",
    "ds.legendArgs(frameon = False, loc = 'upper right', fontsize = 14, slc = (-1, -1))\n",
    "\n",
    "ds.axisLabelArgs('both', fontsize = 16)\n",
    "ds.rowLabelArgs(pos = [0.05, 0.05], fontsize = 16, ha = 'left', va = 'bottom')\n",
    "ds.colLabelArgs(pos = [0.5, 0.95], fontsize = 16, ha = 'center' , va = 'top')\n",
    "ds.axisArgs(xscale = 'log', yscale = 'log', xlim = [0.04, 20])\n",
    "\n",
    "ds.setOrder('space', ['real', 'redshift', 'rsd'])\n",
    "\n",
    "ds.displayAs('space', ['real', 'redshift', 'rsd'], ['Real Space', 'Redshift Space', 'Redshift Space\\nDistortions'])\n",
    "ds.displayAs('snapshot', [99, 67, 50], ['z = 0.0', 'z = 0.5', 'z = 1.0'])\n",
    "# ds.displayAs('color', ['blue', 'red', 'resolved'], \n",
    "#              ['HI $\\\\times$ Blue Bias', 'HI $\\\\times$ Red Bias', 'HI $\\\\times$ Galaxy Bias'])\n",
    "ds.displayAs('HI_fieldname', ['hisubhalo', 'vn', 'hiptl'], ['Galaxy Centers', 'All Particles', 'Particles in Galaxies'])\n",
    "\n",
    "ds.setColors('HI_fieldname', ['firebrick', 'saddlebrown', 'sandybrown'], ['vn', 'hiptl', 'hisubhalo'])\n",
    "ds.setColors('color', ['red', 'blue', 'gray'], ['red', 'blue', 'resolved'])\n",
    "\n",
    "ds.setXLabel(pplib.wnum())\n",
    "ds.getAttrVals('post_process')"
   ]
  },
  {
   "cell_type": "code",
   "execution_count": 75,
   "id": "2a457990",
   "metadata": {},
   "outputs": [],
   "source": [
    "def calc_obs_bias(ip):\n",
    "    ptlip = {'is_auto':True, 'fieldname':'ptl', 'ptl_species':'ptl', 'mas':ip['mas'],\n",
    "            'path':ip['path'], 'grid_resolution':ip['grid_resolution'],\n",
    "            'simname':ip['simname'], 'axis':0, 'snapshot':ip['snapshot'],\n",
    "            'space':ip['space']}\n",
    "    ptl_auto = ds.getMatching(ptlip)\n",
    "    if len(ptl_auto) > 1:\n",
    "        for i in ptl_auto:\n",
    "            print(i.attrs)\n",
    "    \n",
    "    ptl_auto = ptl_auto[0]\n",
    "    \n",
    "    auto = ds.getMatching(ip)\n",
    "    biases = []\n",
    "    for i in range(len(auto)):\n",
    "        \n",
    "        data = [auto[i].data[0], np.sqrt(auto[i].data[1] / ptl_auto.data[1])]\n",
    "        dc = DataContainer(data)\n",
    "        dc.update(copy.deepcopy(auto[i].attrs))\n",
    "        dc.add('post_process','obs_bias')\n",
    "        dc.add('is_auto', False)\n",
    "        dc.add('denominator', 'ptl')\n",
    "        biases.append(dc)\n",
    "    return biases\n",
    "    "
   ]
  },
  {
   "cell_type": "code",
   "execution_count": 78,
   "id": "7f68763d",
   "metadata": {},
   "outputs": [
    {
     "name": "stdout",
     "output_type": "stream",
     "text": [
      "\n",
      " tng100 50 real\n",
      "hi biases: 5\n",
      "galaxy biases: 3\n",
      "{'path': 'fiducial', 'result_type': 'pk', 'result_runtime': 24.09369921684265, 'is_auto': False, 'box': 75.0, 'simname': 'tng100', 'sim_resolution': 'high', 'num_part': 1733600704, 'grid_resolution': 800, 'snapshot': 50, 'redshift': 0.9972942257819404, 'axis': 0, 'fieldname': 'galaxy', 'is_hydrogen': False, 'is_atomic': False, 'is_molecular': False, 'is_particle': False, 'is_groupcat': True, 'is_matter': True, 'mas': 'CICW', 'space': 'real', 'compute_xi': False, 'compute_slice': True, 'color': 'blue', 'gal_species': 'stmass', 'gal_res': 'diemer', 'color_cut': '0.50', 'censat': 'both', 'post_process': 'obs_bias', 'denominator': 'ptl'}\n",
      "\n",
      " tng100 50 redshift\n",
      "hi biases: 5\n",
      "galaxy biases: 3\n",
      "{'path': 'fiducial', 'result_type': 'pk', 'result_runtime': 24.08233118057251, 'is_auto': False, 'box': 75.0, 'simname': 'tng100', 'sim_resolution': 'high', 'num_part': 1733600704, 'grid_resolution': 800, 'snapshot': 50, 'redshift': 0.9972942257819404, 'axis': 0, 'fieldname': 'galaxy', 'is_hydrogen': False, 'is_atomic': False, 'is_molecular': False, 'is_particle': False, 'is_groupcat': True, 'is_matter': True, 'mas': 'CICW', 'space': 'redshift', 'compute_xi': False, 'compute_slice': True, 'color': 'blue', 'gal_species': 'stmass', 'gal_res': 'diemer', 'color_cut': '0.50', 'censat': 'both', 'post_process': 'obs_bias', 'denominator': 'ptl'}\n",
      "\n",
      " tng100 67 real\n",
      "hi biases: 5\n",
      "galaxy biases: 3\n",
      "{'path': 'fiducial', 'result_type': 'pk', 'result_runtime': 24.12855076789856, 'is_auto': False, 'box': 75.0, 'simname': 'tng100', 'sim_resolution': 'high', 'num_part': 1733600704, 'grid_resolution': 800, 'snapshot': 67, 'redshift': 0.5030475232448832, 'axis': 0, 'fieldname': 'galaxy', 'is_hydrogen': False, 'is_atomic': False, 'is_molecular': False, 'is_particle': False, 'is_groupcat': True, 'is_matter': True, 'mas': 'CICW', 'space': 'real', 'compute_xi': False, 'compute_slice': True, 'color': 'blue', 'gal_species': 'stmass', 'gal_res': 'diemer', 'color_cut': '0.55', 'censat': 'both', 'post_process': 'obs_bias', 'denominator': 'ptl'}\n",
      "\n",
      " tng100 67 redshift\n",
      "hi biases: 5\n",
      "galaxy biases: 3\n",
      "{'path': 'fiducial', 'result_type': 'pk', 'result_runtime': 24.07558512687683, 'is_auto': False, 'box': 75.0, 'simname': 'tng100', 'sim_resolution': 'high', 'num_part': 1733600704, 'grid_resolution': 800, 'snapshot': 67, 'redshift': 0.5030475232448832, 'axis': 0, 'fieldname': 'galaxy', 'is_hydrogen': False, 'is_atomic': False, 'is_molecular': False, 'is_particle': False, 'is_groupcat': True, 'is_matter': True, 'mas': 'CICW', 'space': 'redshift', 'compute_xi': False, 'compute_slice': True, 'color': 'blue', 'gal_species': 'stmass', 'gal_res': 'diemer', 'color_cut': '0.55', 'censat': 'both', 'post_process': 'obs_bias', 'denominator': 'ptl'}\n",
      "\n",
      " tng100 99 real\n",
      "hi biases: 5\n",
      "galaxy biases: 3\n",
      "{'path': 'fiducial', 'result_type': 'pk', 'result_runtime': 44.47385120391846, 'is_auto': False, 'box': 75.0, 'simname': 'tng100', 'sim_resolution': 'high', 'num_part': 1733600704, 'grid_resolution': 800, 'snapshot': 99, 'redshift': 2.220446049250313e-16, 'axis': 0, 'fieldname': 'galaxy', 'is_hydrogen': False, 'is_atomic': False, 'is_molecular': False, 'is_particle': False, 'is_groupcat': True, 'is_matter': True, 'mas': 'CICW', 'space': 'real', 'compute_xi': False, 'compute_slice': True, 'color': 'blue', 'gal_species': 'stmass', 'gal_res': 'diemer', 'color_cut': '0.60', 'post_process': 'obs_bias', 'denominator': 'ptl'}\n",
      "\n",
      " tng100 99 redshift\n",
      "hi biases: 5\n",
      "galaxy biases: 3\n",
      "{'path': 'fiducial', 'result_type': 'pk', 'result_runtime': 44.41772484779358, 'is_auto': False, 'box': 75.0, 'simname': 'tng100', 'sim_resolution': 'high', 'num_part': 1733600704, 'grid_resolution': 800, 'snapshot': 99, 'redshift': 2.220446049250313e-16, 'axis': 0, 'fieldname': 'galaxy', 'is_hydrogen': False, 'is_atomic': False, 'is_molecular': False, 'is_particle': False, 'is_groupcat': True, 'is_matter': True, 'mas': 'CICW', 'space': 'redshift', 'compute_xi': False, 'compute_slice': True, 'color': 'blue', 'gal_species': 'stmass', 'gal_res': 'diemer', 'color_cut': '0.60', 'post_process': 'obs_bias', 'denominator': 'ptl'}\n",
      "\n",
      " tng300 50 real\n",
      "{'path': 'fiducial', 'result_type': 'pk', 'result_runtime': 24.703163862228394, 'is_auto': True, 'box': 205.0, 'simname': 'tng300', 'sim_resolution': 'high', 'num_part': 2740098112, 'grid_resolution': 800, 'snapshot': 50, 'redshift': 0.9972942257819404, 'axis': 0, 'fieldname': 'ptl', 'is_hydrogen': False, 'is_atomic': False, 'is_molecular': False, 'is_particle': True, 'is_groupcat': False, 'is_matter': True, 'mas': 'CICW', 'space': 'real', 'compute_xi': True, 'compute_slice': False, 'ptl_species': 'ptl'}\n",
      "{'path': 'fiducial', 'result_type': 'pk', 'result_runtime': 24.2175133228302, 'is_auto': True, 'box': 205.0, 'simname': 'tng300', 'sim_resolution': 'high', 'num_part': 2740098112, 'grid_resolution': 800, 'snapshot': 50, 'redshift': 0.9972942257819404, 'axis': 0, 'fieldname': 'ptl', 'is_hydrogen': False, 'is_atomic': False, 'is_molecular': False, 'is_particle': True, 'is_groupcat': False, 'is_matter': True, 'mas': 'CICW', 'space': 'real', 'compute_xi': True, 'compute_slice': False, 'ptl_species': 'ptl'}\n",
      "hi biases: 5\n",
      "{'path': 'fiducial', 'result_type': 'pk', 'result_runtime': 24.703163862228394, 'is_auto': True, 'box': 205.0, 'simname': 'tng300', 'sim_resolution': 'high', 'num_part': 2740098112, 'grid_resolution': 800, 'snapshot': 50, 'redshift': 0.9972942257819404, 'axis': 0, 'fieldname': 'ptl', 'is_hydrogen': False, 'is_atomic': False, 'is_molecular': False, 'is_particle': True, 'is_groupcat': False, 'is_matter': True, 'mas': 'CICW', 'space': 'real', 'compute_xi': True, 'compute_slice': False, 'ptl_species': 'ptl'}\n",
      "{'path': 'fiducial', 'result_type': 'pk', 'result_runtime': 24.2175133228302, 'is_auto': True, 'box': 205.0, 'simname': 'tng300', 'sim_resolution': 'high', 'num_part': 2740098112, 'grid_resolution': 800, 'snapshot': 50, 'redshift': 0.9972942257819404, 'axis': 0, 'fieldname': 'ptl', 'is_hydrogen': False, 'is_atomic': False, 'is_molecular': False, 'is_particle': True, 'is_groupcat': False, 'is_matter': True, 'mas': 'CICW', 'space': 'real', 'compute_xi': True, 'compute_slice': False, 'ptl_species': 'ptl'}\n",
      "galaxy biases: 3\n",
      "{'path': 'fiducial', 'result_type': 'pk', 'result_runtime': 24.098302602767944, 'is_auto': False, 'box': 205.0, 'simname': 'tng300', 'sim_resolution': 'high', 'num_part': 2740098112, 'grid_resolution': 800, 'snapshot': 50, 'redshift': 0.9972942257819404, 'axis': 0, 'fieldname': 'galaxy', 'is_hydrogen': False, 'is_atomic': False, 'is_molecular': False, 'is_particle': False, 'is_groupcat': True, 'is_matter': True, 'mas': 'CICW', 'space': 'real', 'compute_xi': True, 'compute_slice': False, 'color': 'blue', 'gal_species': 'stmass', 'gal_res': 'diemer', 'color_cut': '0.50', 'censat': 'both', 'post_process': 'obs_bias', 'denominator': 'ptl'}\n",
      "\n",
      " tng300 50 redshift\n",
      "{'path': 'fiducial', 'result_type': 'pk', 'result_runtime': 24.647356033325195, 'is_auto': True, 'box': 205.0, 'simname': 'tng300', 'sim_resolution': 'high', 'num_part': 2740098112, 'grid_resolution': 800, 'snapshot': 50, 'redshift': 0.9972942257819404, 'axis': 0, 'fieldname': 'ptl', 'is_hydrogen': False, 'is_atomic': False, 'is_molecular': False, 'is_particle': True, 'is_groupcat': False, 'is_matter': True, 'mas': 'CICW', 'space': 'redshift', 'compute_xi': True, 'compute_slice': False, 'ptl_species': 'ptl'}\n",
      "{'path': 'fiducial', 'result_type': 'pk', 'result_runtime': 24.08865261077881, 'is_auto': True, 'box': 205.0, 'simname': 'tng300', 'sim_resolution': 'high', 'num_part': 2740098112, 'grid_resolution': 800, 'snapshot': 50, 'redshift': 0.9972942257819404, 'axis': 0, 'fieldname': 'ptl', 'is_hydrogen': False, 'is_atomic': False, 'is_molecular': False, 'is_particle': True, 'is_groupcat': False, 'is_matter': True, 'mas': 'CICW', 'space': 'redshift', 'compute_xi': True, 'compute_slice': False, 'ptl_species': 'ptl'}\n",
      "hi biases: 5\n",
      "{'path': 'fiducial', 'result_type': 'pk', 'result_runtime': 24.647356033325195, 'is_auto': True, 'box': 205.0, 'simname': 'tng300', 'sim_resolution': 'high', 'num_part': 2740098112, 'grid_resolution': 800, 'snapshot': 50, 'redshift': 0.9972942257819404, 'axis': 0, 'fieldname': 'ptl', 'is_hydrogen': False, 'is_atomic': False, 'is_molecular': False, 'is_particle': True, 'is_groupcat': False, 'is_matter': True, 'mas': 'CICW', 'space': 'redshift', 'compute_xi': True, 'compute_slice': False, 'ptl_species': 'ptl'}\n",
      "{'path': 'fiducial', 'result_type': 'pk', 'result_runtime': 24.08865261077881, 'is_auto': True, 'box': 205.0, 'simname': 'tng300', 'sim_resolution': 'high', 'num_part': 2740098112, 'grid_resolution': 800, 'snapshot': 50, 'redshift': 0.9972942257819404, 'axis': 0, 'fieldname': 'ptl', 'is_hydrogen': False, 'is_atomic': False, 'is_molecular': False, 'is_particle': True, 'is_groupcat': False, 'is_matter': True, 'mas': 'CICW', 'space': 'redshift', 'compute_xi': True, 'compute_slice': False, 'ptl_species': 'ptl'}\n"
     ]
    },
    {
     "name": "stdout",
     "output_type": "stream",
     "text": [
      "galaxy biases: 3\n",
      "{'path': 'fiducial', 'result_type': 'pk', 'result_runtime': 24.191209316253662, 'is_auto': False, 'box': 205.0, 'simname': 'tng300', 'sim_resolution': 'high', 'num_part': 2740098112, 'grid_resolution': 800, 'snapshot': 50, 'redshift': 0.9972942257819404, 'axis': 0, 'fieldname': 'galaxy', 'is_hydrogen': False, 'is_atomic': False, 'is_molecular': False, 'is_particle': False, 'is_groupcat': True, 'is_matter': True, 'mas': 'CICW', 'space': 'redshift', 'compute_xi': True, 'compute_slice': False, 'color': 'blue', 'gal_species': 'stmass', 'gal_res': 'diemer', 'color_cut': '0.50', 'censat': 'both', 'post_process': 'obs_bias', 'denominator': 'ptl'}\n",
      "\n",
      " tng300 99 real\n",
      "hi biases: 5\n",
      "galaxy biases: 3\n",
      "{'path': 'fiducial', 'result_type': 'pk', 'result_runtime': 44.95251798629761, 'is_auto': False, 'box': 205.0, 'simname': 'tng300', 'sim_resolution': 'high', 'num_part': 2740098112, 'grid_resolution': 800, 'snapshot': 99, 'redshift': 2.220446049250313e-16, 'axis': 0, 'fieldname': 'galaxy', 'is_hydrogen': False, 'is_atomic': False, 'is_molecular': False, 'is_particle': False, 'is_groupcat': True, 'is_matter': True, 'mas': 'CICW', 'space': 'real', 'compute_xi': False, 'compute_slice': True, 'color': 'blue', 'gal_species': 'stmass', 'gal_res': 'diemer', 'color_cut': '0.60', 'censat': 'both', 'post_process': 'obs_bias', 'denominator': 'ptl'}\n",
      "\n",
      " tng300 99 redshift\n",
      "hi biases: 5\n",
      "galaxy biases: 3\n",
      "{'path': 'fiducial', 'result_type': 'pk', 'result_runtime': 45.21141791343689, 'is_auto': False, 'box': 205.0, 'simname': 'tng300', 'sim_resolution': 'high', 'num_part': 2740098112, 'grid_resolution': 800, 'snapshot': 99, 'redshift': 2.220446049250313e-16, 'axis': 0, 'fieldname': 'galaxy', 'is_hydrogen': False, 'is_atomic': False, 'is_molecular': False, 'is_particle': False, 'is_groupcat': True, 'is_matter': True, 'mas': 'CICW', 'space': 'redshift', 'compute_xi': False, 'compute_slice': True, 'color': 'blue', 'gal_species': 'stmass', 'gal_res': 'diemer', 'color_cut': '0.60', 'censat': 'both', 'post_process': 'obs_bias', 'denominator': 'ptl'}\n"
     ]
    }
   ],
   "source": [
    "simnames = ['tng100', 'tng300']\n",
    "snapshots = [50, 67, 99]\n",
    "spaces = ['real', 'redshift']\n",
    "\n",
    "for name in simnames:\n",
    "    for snap in snapshots:\n",
    "        for space in spaces:\n",
    "            \n",
    "            if not (snap == 67 and name == 'tng300'):\n",
    "                print(\"\\n\", name, snap, space)\n",
    "                hiip = {'is_auto':True, \"HI_fieldname\":['vn', 'hiptl'],      \n",
    "                  'axis':0, 'grid_resolution':800, 'simname': name,\n",
    "                  'mas':'CICW', 'snapshot':snap, 'space':space,\n",
    "                 'path':'fiducial', 'post_process':'no key found'}\n",
    "                obs_biases = calc_obs_bias(hiip)\n",
    "                print('hi biases:', len(obs_biases))\n",
    "                ds.extend(obs_biases)\n",
    "\n",
    "                galip = {'gal_res':'diemer',\n",
    "                          'gal_species':'stmass', 'sim_resolution':'high', \n",
    "                         'axis':0, 'grid_resolution':800,\n",
    "                          'censat':['no key found', 'both'], 'mas':'CICW', \n",
    "                         'color': ['blue', 'red', 'resolved'], 'fieldname':'galaxy',\n",
    "                         'path':'fiducial', 'simname':name, 'space':space,\n",
    "                        'snapshot':snap, 'post_process':'no key found'}\n",
    "                obs_biases = calc_obs_bias(galip)\n",
    "                print('galaxy biases:', len(obs_biases))\n",
    "                print(obs_biases[0].attrs)\n",
    "                ds.extend(obs_biases)"
   ]
  },
  {
   "cell_type": "code",
   "execution_count": 77,
   "id": "77dfd6fe",
   "metadata": {},
   "outputs": [
    {
     "name": "stdout",
     "output_type": "stream",
     "text": [
      "The row values for post_process: ['obs_bias']\n",
      "The column values for snapshot: [99, 67, 50]\n"
     ]
    },
    {
     "data": {
      "image/png": "[encoded data removed]",
      "text/plain": [
       "<Figure size 762.48x280.8 with 3 Axes>"
      ]
     },
     "metadata": {
      "needs_background": "light"
     },
     "output_type": "display_data"
    }
   ],
   "source": [
    "ip = {'is_auto':False, \n",
    "      'axis':0, 'grid_resolution':800, 'simname': ['tng100', 'tng300'], 'gal_res':'diemer',\n",
    "      'gal_species':'stmass', 'ptl_species':'ptl',\n",
    "      'censat':['no key found', 'both'], 'mas':'CICW', 'color': ['red', 'blue', 'resolved'],\n",
    "      'post_process':['obs_bias'], 'snapshot':[99, 67, 50], 'space':'real',\n",
    "     'path':'fiducial', 'denominator':'ptl'}\n",
    "gspec = {'wspace':0.1, 'xborder':[0.33, 0]}\n",
    "ds.displayAs('color', ['blue', 'red', 'resolved'], \n",
    "             ['Blue Gal.', 'Red Gal.', 'All Gal.'])\n",
    "bfg = ds.figrid(\"color\", 'post_process', 'snapshot', ip)\n",
    "fn = 'k'\n",
    "name1 = '\\\\mathrm{X}'\n",
    "name2 = '\\\\mathrm{m}'\n",
    "obsbias = '$\\\\sqrt{\\\\frac{\\\\mathrm{P}_{%s} (%s)}{\\\\mathrm{P}_{%s} (%s)}}$'%(name1, fn, name2, fn)\n",
    "thbias = '$\\\\frac{\\\\mathrm{P}_{%s \\\\times %s} (%s)}{\\\\mathrm{P}_{%s} (%s)}$'%(name1, name2, fn, name2, fn)\n",
    "\n",
    "\n",
    "bfg.rowLabels(['Bias with Respect\\nto Matter'])\n",
    "bfg.gspecArgs(yborder = [0.05, 0.25], **gspec)\n",
    "bfg.setDefaultTicksParams()\n",
    "bfg.axisArgs(ylim = (.1, 30))\n",
    "bfg.setYLabel(pplib.obsbiaslab('X', 'm'))\n",
    "bfg.setXLabel('')\n",
    "bfg.plotOnes()\n",
    "\n",
    "bfg.legendArgs(rm_legend = True)\n",
    "bfg.plot()"
   ]
  },
  {
   "cell_type": "code",
   "execution_count": 22,
   "id": "fb72a58c",
   "metadata": {},
   "outputs": [],
   "source": [
    "ds.printMatching({'simname':'tng300', 'path':'fiducial', 'snapshot':50, 'is_auto':True,\n",
    "                 'fieldname':'galaxy_ptl', 'denominator':'ptl'})"
   ]
  },
  {
   "cell_type": "code",
   "execution_count": 17,
   "id": "520edd47",
   "metadata": {},
   "outputs": [
    {
     "data": {
      "text/plain": [
       "['galaxy',\n",
       " 'hiptl_ptl',\n",
       " 'hiptl',\n",
       " 'vn_galaxy',\n",
       " 'hiptl_galaxy',\n",
       " 'galaxy_dust',\n",
       " 'vn_ptl',\n",
       " 'vn',\n",
       " 'ptl',\n",
       " 'hisubhalo_ptl',\n",
       " 'hisubhalo_galaxy',\n",
       " 'hisubhalo',\n",
       " 'galaxy_ptl',\n",
       " 'hisubhalo_galaxy_dust']"
      ]
     },
     "execution_count": 17,
     "metadata": {},
     "output_type": "execute_result"
    }
   ],
   "source": [
    "ds.getAttrVals('fieldname')"
   ]
  },
  {
   "cell_type": "code",
   "execution_count": null,
   "id": "67014143",
   "metadata": {},
   "outputs": [],
   "source": []
  }
 ],
 "metadata": {
  "kernelspec": {
   "display_name": "Python 3 (ipykernel)",
   "language": "python",
   "name": "python3"
  },
  "language_info": {
   "codemirror_mode": {
    "name": "ipython",
    "version": 3
   },
   "file_extension": ".py",
   "mimetype": "text/x-python",
   "name": "python",
   "nbconvert_exporter": "python",
   "pygments_lexer": "ipython3",
   "version": "3.8.9"
  }
 },
 "nbformat": 4,
 "nbformat_minor": 5
}
