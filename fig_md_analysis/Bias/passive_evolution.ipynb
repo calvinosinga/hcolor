{
 "cells": [
  {
   "cell_type": "code",
   "execution_count": 4,
   "id": "d32d96f9",
   "metadata": {},
   "outputs": [],
   "source": [
    "import pickle as pkl\n",
    "import pk_plot_library as pplib\n",
    "import numpy as np\n",
    "import matplotlib.pyplot as plt\n",
    "\n",
    "pplib.imports()\n",
    "WEBPATH = '/Users/cosinga/code/calvinosinga.github.io/hicolor/sup_analysis/'\n",
    "DRAFTPATH = '/Users/cosinga/overleaf/hi_cosmo/figures/'"
   ]
  },
  {
   "cell_type": "code",
   "execution_count": 5,
   "id": "5c5f0715",
   "metadata": {},
   "outputs": [
    {
     "name": "stdout",
     "output_type": "stream",
     "text": [
      "['path', 'result_type', 'result_runtime', 'is_auto', 'box', 'simname', 'sim_resolution', 'num_part', 'grid_resolution', 'snapshot', 'redshift', 'axis', 'fieldname', 'is_hydrogen', 'is_atomic', 'is_molecular', 'is_particle', 'is_groupcat', 'is_matter', 'mas', 'space', 'compute_xi', 'compute_slice', 'color', 'gal_species', 'gal_res', 'color_cut', 'ptl_species', 'map', 'model', 'HI_fieldname', 'projection', 'HI_res', 'censat', 'post_process', 'numerator', 'denominator']\n"
     ]
    },
    {
     "data": {
      "text/plain": [
       "['no key found', 'theory_bias', 'obs_bias', 'corr_coef']"
      ]
     },
     "execution_count": 5,
     "metadata": {},
     "output_type": "execute_result"
    }
   ],
   "source": [
    "ds = pkl.load(open('/Users/cosinga/code/hcolor/fig_md_analysis/2-10_pkdatasort.pkl', 'rb'))\n",
    "print(ds.getAttrs())\n",
    "\n",
    "ds.tickArgs(direction = 'in', right = True, top = True, labelsize = 14)\n",
    "ds.legendArgs(frameon = False, loc = 'upper right', fontsize = 14, slc = (-1, -1))\n",
    "\n",
    "ds.axisLabelArgs('both', fontsize = 16)\n",
    "ds.rowLabelArgs(pos = [0.05, 0.05], fontsize = 16, ha = 'left', va = 'bottom')\n",
    "ds.colLabelArgs(pos = [0.5, 0.95], fontsize = 16, ha = 'center' , va = 'top')\n",
    "ds.axisArgs(xscale = 'log', yscale = 'log', xlim = [0.11866199299595938, 20])\n",
    "\n",
    "ds.setOrder('space', ['real', 'redshift', 'rsd'])\n",
    "\n",
    "ds.displayAs('space', ['real', 'redshift', 'rsd'], ['Real Space', 'Redshift Space', 'Redshift Space\\nDistortions'])\n",
    "ds.displayAs('snapshot', [99, 67, 50], ['z = 0.0', 'z = 0.5', 'z = 1.0'])\n",
    "# ds.displayAs('color', ['blue', 'red', 'resolved'], \n",
    "#              ['HI $\\\\times$ Blue Bias', 'HI $\\\\times$ Red Bias', 'HI $\\\\times$ Galaxy Bias'])\n",
    "ds.displayAs('HI_fieldname', ['hisubhalo', 'vn', 'hiptl'], ['Galaxy Centers', 'All Particles', 'Particles in Galaxies'])\n",
    "\n",
    "ds.setColors('HI_fieldname', ['firebrick', 'saddlebrown', 'sandybrown'], ['vn', 'hiptl', 'hisubhalo'])\n",
    "ds.setColors('color', ['red', 'blue', 'gray'], ['red', 'blue', 'resolved'])\n",
    "\n",
    "ds.setXLabel(pplib.wnum())\n",
    "ds.getAttrVals('post_process')"
   ]
  },
  {
   "cell_type": "code",
   "execution_count": 6,
   "id": "a4cdcfb4",
   "metadata": {},
   "outputs": [],
   "source": [
    "from figrid.data_container import DataContainer\n",
    "ptlip = {'fieldname':'ptl', \n",
    "      'axis':0, 'grid_resolution':800, 'simname': 'tng100', 'ptl_species':'ptl',\n",
    "         'mas':'CICW', 'path':'fiducial', 'simname':'tng100'}\n",
    "galip = {'color_cut':'None', 'gal_res':'diemer',\n",
    "      'gal_species':'stmass', 'sim_resolution':'high', 'axis':0, 'grid_resolution':800,\n",
    "      'censat':['no key found', 'both'], 'mas':'CICW', 'color': 'resolved', 'fieldname':'galaxy',\n",
    "     'path':'fiducial', 'simname':'tng100'}\n",
    "resolved_biases = []\n",
    "for s in ds.getAttrVals('snapshot'):\n",
    "    for rss in ['real', 'redshift']:\n",
    "        \n",
    "        ptlip['snapshot'] = s\n",
    "        galip['snapshot'] = s\n",
    "        ptlip['space'] = rss\n",
    "        galip['space'] = rss\n",
    "        ptls = ds.getMatching(ptlip)\n",
    "        gals = ds.getMatching(galip)\n",
    "        if len(ptls) > 1:\n",
    "            ds.printMatching(ptlip)\n",
    "\n",
    "        if len(gals) > 1:\n",
    "            ds.printMatching(galip)\n",
    "\n",
    "        xdata = ptls[0].getData()[0]\n",
    "        ydata = gals[0].getData()[1]/ ptls[0].getData()[1]\n",
    "        ydata = np.sqrt(ydata)\n",
    "        dc = DataContainer([xdata, ydata])\n",
    "        dc.update(ptlip)\n",
    "        dc.update(galip)\n",
    "        dc.update({'censat':'both'})\n",
    "        dc.add('post_process', 'obs_bias')\n",
    "        dc.add('is_auto', False)\n",
    "        dc.add('denominator', 'ptl')\n",
    "        dc.add('numerator', 'galaxy')\n",
    "        resolved_biases.append(dc)\n",
    "\n",
    "\n",
    "ds.extend(resolved_biases)\n",
    "    "
   ]
  },
  {
   "cell_type": "code",
   "execution_count": 10,
   "id": "c67b6be1",
   "metadata": {},
   "outputs": [],
   "source": [
    "# taking from Dodelson eq. 8.77\n",
    "from scipy.integrate import quad\n",
    "\n",
    "HUBBLE = 67.74\n",
    "OMEGA_M = 0.3089\n",
    "\n",
    "def hubble(a):\n",
    "    return HUBBLE * OMEGA_M ** 0.5 * a ** -1.5\n",
    "\n",
    "def D_plus(a):\n",
    "    \n",
    "    def integrand(a_prime):\n",
    "        return (a_prime * hubble(a_prime) / HUBBLE)**-3\n",
    "    \n",
    "    coef = hubble(a) * 5 / 2 * OMEGA_M / HUBBLE\n",
    "    \n",
    "    res = quad(integrand, 0, a)\n",
    "    return coef * res[0]\n",
    "    "
   ]
  },
  {
   "cell_type": "code",
   "execution_count": 23,
   "id": "1b962cb6",
   "metadata": {},
   "outputs": [],
   "source": [
    "BHI_0 = [0.78, 1.11, 1.43]\n",
    "BRED = [1.88, 2.23, 2.78]\n",
    "BBLUE = [1.1, 1.64, 1.99]\n",
    "BGAL = []\n",
    "zs = np.linspace(0, 1, 100)\n",
    "d_plus = np.zeros_like(zs)\n",
    "for i in range(len(zs)):\n",
    "    d_plus[i] = D_plus(1 / (1 + zs[i]))\n",
    "\n",
    "bhi_passive = 1 + ((BHI_0[0] - 1) / d_plus)\n",
    "bred_passive = 1 + ((BRED[0] - 1) / d_plus)\n",
    "bblue_passive = 1 + ((BBLUE[0] - 1) / d_plus)"
   ]
  },
  {
   "cell_type": "code",
   "execution_count": 24,
   "id": "89db0e7a",
   "metadata": {},
   "outputs": [
    {
     "data": {
      "text/plain": [
       "Text(0.5, 0, 'z')"
      ]
     },
     "execution_count": 24,
     "metadata": {},
     "output_type": "execute_result"
    },
    {
     "data": {
      "image/png": "[encoded data removed]",
      "text/plain": [
       "<Figure size 432x288 with 1 Axes>"
      ]
     },
     "metadata": {
      "needs_background": "light"
     },
     "output_type": "display_data"
    }
   ],
   "source": [
    "plt.plot(zs, d_plus)\n",
    "plt.ylabel(\"$D_+ (z)$\")\n",
    "plt.xlabel(\"z\")"
   ]
  },
  {
   "cell_type": "code",
   "execution_count": 27,
   "id": "70facfd6",
   "metadata": {},
   "outputs": [
    {
     "data": {
      "text/plain": [
       "Text(0.5, 0, '$z$')"
      ]
     },
     "execution_count": 27,
     "metadata": {},
     "output_type": "execute_result"
    },
    {
     "data": {
      "image/png": "[encoded data removed]",
      "text/plain": [
       "<Figure size 432x288 with 1 Axes>"
      ]
     },
     "metadata": {
      "needs_background": "light"
     },
     "output_type": "display_data"
    }
   ],
   "source": [
    "plt.plot(zs, bhi_passive, label = '$b_{\\\\mathrm{HI}} (z)$', linestyle = 'dashed', color = 'brown')\n",
    "plt.plot(zs, bblue_passive, label = '$b_{\\\\mathrm{blue}} (z)$', linestyle = 'dashed', color = 'blue')\n",
    "plt.plot(zs, bred_passive, label = '$b_{\\\\mathrm{red}} (z)$', linestyle = 'dashed', color = 'red')\n",
    "\n",
    "snapshot_zs = [0, 0.5, 1]\n",
    "plt.scatter(snapshot_zs, BHI_0, color = 'brown', label = 'TNG100')\n",
    "plt.scatter(snapshot_zs, BRED, color = 'red')\n",
    "plt.scatter(snapshot_zs, BBLUE, color = 'blue')\n",
    "plt.legend(loc = 'upper left', frameon = False)\n",
    "plt.ylabel('$b (z)$')\n",
    "plt.xlabel('$z$')\n",
    "\n",
    "plt.savefig(DRAFTPATH + \"passive_evo_placeholder.png\")"
   ]
  },
  {
   "cell_type": "code",
   "execution_count": null,
   "id": "dfae1dd2",
   "metadata": {},
   "outputs": [],
   "source": []
  }
 ],
 "metadata": {
  "kernelspec": {
   "display_name": "Python 3 (ipykernel)",
   "language": "python",
   "name": "python3"
  },
  "language_info": {
   "codemirror_mode": {
    "name": "ipython",
    "version": 3
   },
   "file_extension": ".py",
   "mimetype": "text/x-python",
   "name": "python",
   "nbconvert_exporter": "python",
   "pygments_lexer": "ipython3",
   "version": "3.8.9"
  }
 },
 "nbformat": 4,
 "nbformat_minor": 5
}
