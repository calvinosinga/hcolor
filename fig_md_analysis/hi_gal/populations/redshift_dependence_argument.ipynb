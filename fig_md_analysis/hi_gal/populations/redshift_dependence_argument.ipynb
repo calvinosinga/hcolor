{
 "cells": [
  {
   "cell_type": "code",
   "execution_count": 10,
   "id": "c9a81ade",
   "metadata": {},
   "outputs": [],
   "source": [
    "import illustris_python as il\n",
    "import numpy as np\n",
    "path = \"/Users/cosinga/illustris/L75n1820TNG/output/\""
   ]
  },
  {
   "cell_type": "code",
   "execution_count": 18,
   "id": "b1b747b3",
   "metadata": {},
   "outputs": [],
   "source": [
    "gmass = il.groupcat.loadHalos(path, 99, ['GroupMass'])*1e10/.6774\n",
    "sub = il.groupcat.loadSubhalos(path, 99, ['SubhaloMassType', 'SubhaloStellarPhotometrics', 'SubhaloGrNr', 'SubhaloParent'])\n",
    "\n"
   ]
  },
  {
   "cell_type": "code",
   "execution_count": 28,
   "id": "2c7b3156",
   "metadata": {},
   "outputs": [],
   "source": [
    "# remove unresolved and blue galaxies\n",
    "gr = sub['SubhaloStellarPhotometrics'][:, 4] - sub['SubhaloStellarPhotometrics'][:, 5]\n",
    "stmass = sub['SubhaloMassType'][:, 4] * 1e10 / .6774\n",
    "\n",
    "red_mask = (gr > 0.6) & (stmass > 2e8)\n",
    "\n",
    "blue_mask = (gr <= 0.6) & (stmass > 2e8)\n",
    "\n",
    "cen_mask = np.ma.masked_not_equal(sub['SubhaloParent'][:], 0)\n",
    "sat_mask = ~cen_mask\n",
    "\n",
    "cen_mask = cen_mask & (stmass > 2e8)\n",
    "sat_mask = sat_mask & (stmass > 2e8)\n",
    "\n",
    "gmass_mask = (gmass > 5e10)\n",
    "gmass = gmass[gmass_mask]"
   ]
  },
  {
   "cell_type": "code",
   "execution_count": 29,
   "id": "93af26c0",
   "metadata": {},
   "outputs": [
    {
     "name": "stdout",
     "output_type": "stream",
     "text": [
      "31111\n"
     ]
    }
   ],
   "source": [
    "print(len(gmass))"
   ]
  },
  {
   "cell_type": "code",
   "execution_count": 37,
   "id": "89baabd7",
   "metadata": {},
   "outputs": [
    {
     "name": "stdout",
     "output_type": "stream",
     "text": [
      "0.00 percent finished\n",
      "1.00 percent finished\n",
      "2.00 percent finished\n",
      "3.00 percent finished\n",
      "4.00 percent finished\n",
      "5.00 percent finished\n",
      "6.00 percent finished\n",
      "7.00 percent finished\n",
      "8.00 percent finished\n",
      "9.00 percent finished\n",
      "10.00 percent finished\n",
      "11.00 percent finished\n",
      "12.00 percent finished\n",
      "13.00 percent finished\n",
      "14.00 percent finished\n",
      "15.00 percent finished\n",
      "16.00 percent finished\n",
      "17.00 percent finished\n",
      "18.00 percent finished\n",
      "19.00 percent finished\n",
      "20.00 percent finished\n",
      "21.00 percent finished\n",
      "22.00 percent finished\n",
      "23.00 percent finished\n",
      "24.00 percent finished\n",
      "25.00 percent finished\n",
      "26.00 percent finished\n",
      "27.00 percent finished\n",
      "28.00 percent finished\n",
      "29.00 percent finished\n",
      "30.00 percent finished\n",
      "31.00 percent finished\n",
      "32.00 percent finished\n",
      "33.00 percent finished\n",
      "34.00 percent finished\n",
      "35.00 percent finished\n",
      "36.00 percent finished\n",
      "37.00 percent finished\n",
      "38.00 percent finished\n",
      "39.00 percent finished\n",
      "40.00 percent finished\n",
      "41.00 percent finished\n",
      "42.00 percent finished\n",
      "43.00 percent finished\n",
      "44.00 percent finished\n",
      "45.00 percent finished\n",
      "46.00 percent finished\n",
      "47.00 percent finished\n",
      "48.00 percent finished\n",
      "49.00 percent finished\n",
      "50.00 percent finished\n",
      "51.00 percent finished\n",
      "52.00 percent finished\n",
      "53.00 percent finished\n",
      "54.00 percent finished\n",
      "55.00 percent finished\n",
      "56.00 percent finished\n",
      "57.00 percent finished\n",
      "58.00 percent finished\n",
      "59.00 percent finished\n",
      "60.00 percent finished\n",
      "61.00 percent finished\n",
      "62.00 percent finished\n",
      "63.00 percent finished\n",
      "64.00 percent finished\n",
      "65.00 percent finished\n",
      "66.00 percent finished\n",
      "67.00 percent finished\n",
      "68.00 percent finished\n",
      "69.00 percent finished\n",
      "70.00 percent finished\n",
      "71.00 percent finished\n",
      "72.00 percent finished\n",
      "73.00 percent finished\n",
      "74.00 percent finished\n",
      "75.00 percent finished\n",
      "76.00 percent finished\n",
      "77.00 percent finished\n",
      "78.00 percent finished\n",
      "79.00 percent finished\n",
      "80.00 percent finished\n",
      "81.00 percent finished\n",
      "82.00 percent finished\n",
      "83.00 percent finished\n",
      "84.00 percent finished\n",
      "85.00 percent finished\n",
      "86.00 percent finished\n",
      "87.00 percent finished\n",
      "88.00 percent finished\n",
      "89.00 percent finished\n",
      "90.00 percent finished\n",
      "91.00 percent finished\n",
      "92.00 percent finished\n",
      "93.00 percent finished\n",
      "94.00 percent finished\n",
      "95.00 percent finished\n",
      "96.00 percent finished\n",
      "97.00 percent finished\n",
      "98.00 percent finished\n",
      "99.00 percent finished\n"
     ]
    }
   ],
   "source": [
    "cdict = {\n",
    "    'num':np.zeros_like(gmass),\n",
    "    'num_resolved':np.zeros_like(gmass),\n",
    "    'red':np.zeros_like(gmass),\n",
    "    'blue':np.zeros_like(gmass),\n",
    "    'red_central':np.zeros_like(gmass),\n",
    "    'blue_central':np.zeros_like(gmass)\n",
    "}\n",
    "prog = 0\n",
    "for idx in range(len(gmass)):\n",
    "    if idx/len(gmass) > prog:\n",
    "        print(\"%.2f percent finished\"%(prog * 100))\n",
    "        prog += 0.01\n",
    "    gih = np.ma.masked_not_equal(sub['SubhaloGrNr'], idx)\n",
    "    cdict['num'][idx] = np.sum(gih)\n",
    "    cdict['red'][idx] = np.sum(red_mask & gih)\n",
    "    cdict['blue'][idx] = np.sum(blue_mask & gih)\n",
    "    cdict['num_resolved'][idx] = np.sum(gih & (stmass > 2e8))\n",
    "    cdict['blue_central'][idx] = np.sum(gih & blue_mask & cen_mask)\n",
    "    cdict['red_central'][idx] = np.sum(gih & red_mask & cen_mask)"
   ]
  },
  {
   "cell_type": "code",
   "execution_count": 38,
   "id": "2ae68b1d",
   "metadata": {},
   "outputs": [],
   "source": [
    "import pickle as pkl\n",
    "pkl.dump(cdict, open('count_dict_zdep.pkl', 'wb'), pkl.HIGHEST_PROTOCOL)"
   ]
  },
  {
   "cell_type": "code",
   "execution_count": null,
   "id": "0eddf3b5",
   "metadata": {},
   "outputs": [],
   "source": []
  }
 ],
 "metadata": {
  "kernelspec": {
   "display_name": "Python 3 (ipykernel)",
   "language": "python",
   "name": "python3"
  },
  "language_info": {
   "codemirror_mode": {
    "name": "ipython",
    "version": 3
   },
   "file_extension": ".py",
   "mimetype": "text/x-python",
   "name": "python",
   "nbconvert_exporter": "python",
   "pygments_lexer": "ipython3",
   "version": "3.8.9"
  }
 },
 "nbformat": 4,
 "nbformat_minor": 5
}
