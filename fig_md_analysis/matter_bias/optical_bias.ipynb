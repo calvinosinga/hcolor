{
 "cells": [
  {
   "cell_type": "code",
   "execution_count": 1,
   "id": "c495534c",
   "metadata": {},
   "outputs": [],
   "source": [
    "import site\n",
    "import pickle as pkl\n",
    "import h5py as hp\n",
    "import numpy as np\n",
    "import matplotlib.pyplot as plt\n",
    "import matplotlib as mpl\n",
    "import copy\n",
    "\n",
    "def siteFG():\n",
    "    FGPATH = '/home/cosinga/figrid/'\n",
    "    site.addsitedir(FGPATH)\n",
    "    return\n",
    "\n",
    "def trgba(attr, value, alpha = 1.0):\n",
    "    return mpl.colors.to_rgba(ds.attr_args[attr][value]['color'], alpha)\n",
    "siteFG()\n",
    "from figrid.data_sort import DataSort\n",
    "from figrid.data_container import DataContainer\n",
    "plt.rcParams['mathtext.fontset'] = 'dejavuserif'\n",
    "plt.rcParams['font.family'] = 'serif'\n",
    "THBIAS = r'$b_{\\mathrm{HI}} (k) = P_{\\mathrm{HI-m}} (k) / P_{\\mathrm{m}} (k)$'\n",
    "OBSBIAS = r\"$b_{\\mathrm{HI}} (k) = \\sqrt{P_{\\mathrm{HI}} (k) / P_{\\mathrm{m}} (k)}$\"\n",
    "CORRCOEF = r'r (k) = $\\frac{\\mathrm{P}_{\\mathrm{HI-m}}(k)}{\\sqrt{\\mathrm{P}_{\\mathrm{HI}}(k) \\mathrm{P}_{\\mathrm{m}}(k)}}$'\n",
    "XLAB = 'k (cMpc/h)$^{-1}$'\n",
    "YLAB = 'P$_{%s}$ (k) (cMpc/h)$^{-3}$'"
   ]
  },
  {
   "cell_type": "code",
   "execution_count": 5,
   "id": "08c9a4be",
   "metadata": {},
   "outputs": [
    {
     "name": "stdout",
     "output_type": "stream",
     "text": [
      "['path', 'result_runtime', 'is_auto', 'box', 'simname', 'sim_resolution', 'num_part', 'grid_resolution', 'snapshot', 'redshift', 'axis', 'fieldname', 'is_hydrogen', 'is_atomic', 'is_molecular', 'is_particle', 'is_groupcat', 'is_matter', 'mas', 'space', 'compute_xi', 'compute_slice', 'map', 'model', 'HI_fieldname', 'color', 'gal_species', 'gal_res', 'color_cut', 'ptl_species', 'projection', 'HI_res', 'censat', 'post_process', 'numerator', 'denominator']\n"
     ]
    }
   ],
   "source": [
    "ds = pkl.load(open('/home/cosinga/hcolor/fig_md_analysis/bias_results.pkl', 'rb'))\n",
    "print(ds.getAttrs())\n",
    "ds.tickArgs(direction = 'in', labelsize = 12)\n",
    "ds.legendArgs(frameon = False, fontsize = 12, slc = (0,0))\n",
    "ds.rowLabelArgs(pos = [0.05, 0.05], txtkw = {'fontsize':14, 'ha':'left', 'va':'bottom'})\n",
    "ds.colLabelArgs(pos = [0.5, 0.95], txtkw = {'fontsize':14, 'ha':'center', 'va':'top'})\n",
    "ds.axisArgs(xlim = [0.11866199299595938, 20], yscale = 'log', xscale = 'log')\n",
    "ds.axisLabelArgs('both', {'fontsize':14})\n",
    "ds.setOrder('space', ['real', 'redshift', 'rsd'])\n",
    "ds.setOrder('snapshot', [99, 67])\n",
    "ds.displayAs('space', ['real', 'redshift', 'rsd'], ['Real Space', 'Redshift Space', 'Redshift Space\\nDistortions'])\n",
    "ds.displayAs('HI_fieldname', ['hisubhalo', 'vn', 'hiptl'], ['Galaxy Centers', 'All Particles', 'Galaxies by Particle'])\n",
    "ds.displayAs('fieldname', ['hisubhalo', 'vn', 'hiptl', 'ptl'], ['Galaxy Centers', 'All Particles', 'Galaxies by Particle', 'Matter'])\n",
    "ds.displayAs('snapshot', [99, 67], ['z = 0.0', 'z = 0.5'])\n",
    "ds.displayAs('color', ['red', 'blue', 'resolved', 'ratio'],\n",
    "            [r'Red Galaxy Bias', r'Blue Galaxy Bias',\n",
    "            r'Galaxy Bias', r'Color Ratio'])\n",
    "ds.plotArgs('color', 'red', {'color':'red'})\n",
    "ds.plotArgs('color', 'blue', {'color':'blue'})\n",
    "ds.plotArgs('space', 'real', {'color':'green'})\n",
    "ds.plotArgs('space', 'redshift', {'color':'orange'})\n",
    "ds.plotArgs('HI_fieldname', 'hiptl', {'color':'saddlebrown'})\n",
    "ds.plotArgs('HI_fieldname', 'vn', {'color':'firebrick'})\n",
    "ds.plotArgs('HI_fieldname', 'hisubhalo', {'color':'sandybrown'})\n",
    "ds.plotArgs('fieldname', 'hiptl', {'color':'saddlebrown'})\n",
    "ds.plotArgs('fieldname', 'vn', {'color':'firebrick'})\n",
    "ds.plotArgs('fieldname', 'hisubhalo', {'color':'sandybrown'})"
   ]
  },
  {
   "cell_type": "code",
   "execution_count": null,
   "id": "0aa24f3a",
   "metadata": {},
   "outputs": [],
   "source": [
    "ip = {'HI_fieldname':'vn'}\n",
    "biases = ds.getMatching()"
   ]
  }
 ],
 "metadata": {
  "kernelspec": {
   "display_name": "Python 3 (ipykernel)",
   "language": "python",
   "name": "python3"
  },
  "language_info": {
   "codemirror_mode": {
    "name": "ipython",
    "version": 3
   },
   "file_extension": ".py",
   "mimetype": "text/x-python",
   "name": "python",
   "nbconvert_exporter": "python",
   "pygments_lexer": "ipython3",
   "version": "3.8.9"
  }
 },
 "nbformat": 4,
 "nbformat_minor": 5
}
