{
 "cells": [
  {
   "cell_type": "code",
   "execution_count": 1,
   "metadata": {},
   "outputs": [
    {
     "name": "stderr",
     "output_type": "stream",
     "text": [
      "/software/spack-software/2020.05.14/linux-rhel8-ivybridge/gcc-8.4.0/python-3.7.7-zgcjuclie3fiis4ljkrfp4c4j6fkoa62/lib/python3.7/site-packages/statsmodels/tools/_testing.py:19: FutureWarning: pandas.util.testing is deprecated. Use the functions in the public API at pandas.testing instead.\n",
      "  import pandas.util.testing as tm\n"
     ]
    }
   ],
   "source": [
    "from hc_lib.plots import figlib\n",
    "figlib.siteFG()\n",
    "from figrid.data_sort import DataSort"
   ]
  },
  {
   "cell_type": "code",
   "execution_count": 2,
   "metadata": {},
   "outputs": [
    {
     "name": "stdout",
     "output_type": "stream",
     "text": [
      "['/lustre/cosinga/hcolor/output/fiducial_tng100B_099S_0A_800R/results/hiptlgrid_tng100B_099S_0A_800R.pkl_rlib.pkl', '/lustre/cosinga/hcolor/output/fiducial_tng100B_099S_0A_800R/results/galaxygrid_tng100B_099S_0A_800R.pkl_rlib.pkl', '/lustre/cosinga/hcolor/output/fiducial_tng100B_099S_0A_800R/results/ptlgrid_tng100B_099S_0A_800R.pkl_rlib.pkl', '/lustre/cosinga/hcolor/output/fiducial_tng100B_099S_0A_800R/results/hisubhaloXptl_tng100B_099S_0A_800R.pkl_rlib.pkl', '/lustre/cosinga/hcolor/output/fiducial_tng100B_099S_0A_800R/results/hisubhalogrid_tng100B_099S_0A_800R.pkl_rlib.pkl', '/lustre/cosinga/hcolor/output/fiducial_tng100B_099S_0A_800R/results/vnXgalaxy_tng100B_099S_0A_800R.pkl_rlib.pkl', '/lustre/cosinga/hcolor/output/fiducial_tng100B_099S_0A_800R/results/hiptlXgalaxy_tng100B_099S_0A_800R.pkl_rlib.pkl', '/lustre/cosinga/hcolor/output/fiducial_tng100B_099S_0A_800R/results/vngrid_tng100B_099S_0A_800R.pkl_rlib.pkl', '/lustre/cosinga/hcolor/output/fiducial_tng100B_099S_0A_800R/results/hiptlXgalaxy_dust_tng100B_099S_0A_800R.pkl_rlib.pkl', '/lustre/cosinga/hcolor/output/fiducial_tng100B_099S_0A_800R/results/hisubhaloXgalaxy_dust_tng100B_099S_0A_800R.pkl_rlib.pkl', '/lustre/cosinga/hcolor/output/fiducial_tng100B_099S_0A_800R/results/vnXgalaxy_dust_tng100B_099S_0A_800R.pkl_rlib.pkl', '/lustre/cosinga/hcolor/output/fiducial_tng100B_099S_0A_800R/results/hisubhaloXgalaxy_tng100B_099S_0A_800R.pkl_rlib.pkl', '/lustre/cosinga/hcolor/output/fiducial_tng100B_099S_0A_800R/results/galaxyXgalaxy_tng100B_099S_0A_800R.pkl_rlib.pkl', '/lustre/cosinga/hcolor/output/fiducial_tng100B_099S_0A_800R/results/galaxy_dustgrid_tng100B_099S_0A_800R.pkl_rlib.pkl', '/lustre/cosinga/hcolor/output/fiducial_tng100B_099S_0A_800R/results/vnXptl_tng100B_099S_0A_800R.pkl_rlib.pkl', '/lustre/cosinga/hcolor/output/fiducial_tng100B_099S_0A_800R/results/galaxyXptl_tng100B_099S_0A_800R.pkl_rlib.pkl', '/lustre/cosinga/hcolor/output/fiducial_tng100B_099S_0A_800R/results/hiptlXptl_tng100B_099S_0A_800R.pkl_rlib.pkl', '/lustre/cosinga/hcolor/output/midgr_tng100B_099S_0A_1200R/results/hiptlXptl_tng100B_099S_0A_1200R.pkl_rlib.pkl', '/lustre/cosinga/hcolor/output/midgr_tng100B_099S_0A_1200R/results/galaxyXgalaxy_tng100B_099S_0A_1200R.pkl_rlib.pkl', '/lustre/cosinga/hcolor/output/midgr_tng100B_099S_0A_1200R/results/hisubhalogrid_tng100B_099S_0A_1200R.pkl_rlib.pkl', '/lustre/cosinga/hcolor/output/midgr_tng100B_099S_0A_1200R/results/vnXgalaxy_tng100B_099S_0A_1200R.pkl_rlib.pkl', '/lustre/cosinga/hcolor/output/midgr_tng100B_099S_0A_1200R/results/hiptlXgalaxy_dust_tng100B_099S_0A_1200R.pkl_rlib.pkl', '/lustre/cosinga/hcolor/output/midgr_tng100B_099S_0A_1200R/results/hiptlXgalaxy_tng100B_099S_0A_1200R.pkl_rlib.pkl', '/lustre/cosinga/hcolor/output/midgr_tng100B_099S_0A_1200R/results/hisubhaloXgalaxy_dust_tng100B_099S_0A_1200R.pkl_rlib.pkl', '/lustre/cosinga/hcolor/output/midgr_tng100B_099S_0A_1200R/results/galaxygrid_tng100B_099S_0A_1200R.pkl_rlib.pkl', '/lustre/cosinga/hcolor/output/midgr_tng100B_099S_0A_1200R/results/hisubhaloXgalaxy_tng100B_099S_0A_1200R.pkl_rlib.pkl', '/lustre/cosinga/hcolor/output/midgr_tng100B_099S_0A_1200R/results/vnXptl_tng100B_099S_0A_1200R.pkl_rlib.pkl', '/lustre/cosinga/hcolor/output/midgr_tng100B_099S_0A_1200R/results/galaxy_dustgrid_tng100B_099S_0A_1200R.pkl_rlib.pkl', '/lustre/cosinga/hcolor/output/midgr_tng100B_099S_0A_1200R/results/hiptlgrid_tng100B_099S_0A_1200R.pkl_rlib.pkl', '/lustre/cosinga/hcolor/output/midgr_tng100B_099S_0A_1200R/results/vnXgalaxy_dust_tng100B_099S_0A_1200R.pkl_rlib.pkl', '/lustre/cosinga/hcolor/output/midgr_tng100B_099S_0A_1200R/results/galaxyXptl_tng100B_099S_0A_1200R.pkl_rlib.pkl', '/lustre/cosinga/hcolor/output/midgr_tng100B_099S_0A_1200R/results/vngrid_tng100B_099S_0A_1200R.pkl_rlib.pkl', '/lustre/cosinga/hcolor/output/midgr_tng100B_099S_0A_1200R/results/hisubhaloXptl_tng100B_099S_0A_1200R.pkl_rlib.pkl', '/lustre/cosinga/hcolor/output/midgr_tng100B_099S_0A_1200R/results/ptlgrid_tng100B_099S_0A_1200R.pkl_rlib.pkl', '/lustre/cosinga/hcolor/output/HIbt_tng100B_099S_0A_800R/results/galaxygrid_tng100B_099S_0A_800R.pkl_rlib.pkl', '/lustre/cosinga/hcolor/output/HIbt_tng100B_099S_0A_800R/results/ptlgrid_tng100B_099S_0A_800R.pkl_rlib.pkl', '/lustre/cosinga/hcolor/output/HIbt_tng100B_099S_0A_800R/results/galaxyXgalaxy_tng100B_099S_0A_800R.pkl_rlib.pkl', '/lustre/cosinga/hcolor/output/HIbt_tng100B_099S_0A_800R/results/galaxyXptl_tng100B_099S_0A_800R.pkl_rlib.pkl', '/lustre/cosinga/hcolor/output/all_gals_tng100B_099S_0A_800R/results/galaxygrid_tng100B_099S_0A_800R.pkl_rlib.pkl', '/lustre/cosinga/hcolor/output/all_gals_tng100B_099S_0A_800R/results/galaxyXgalaxy_tng100B_099S_0A_800R.pkl_rlib.pkl', '/lustre/cosinga/hcolor/output/colordef_tng100B_067S_0A_800R/results/galaxygrid_tng100B_067S_0A_800R.pkl_rlib.pkl', '/lustre/cosinga/hcolor/output/colordef_tng100B_067S_0A_800R/results/galaxyXgalaxy_tng100B_067S_0A_800R.pkl_rlib.pkl', '/lustre/cosinga/hcolor/output/fiducial_tng100B_067S_0A_800R/results/hisubhaloXgalaxy_tng100B_067S_0A_800R.pkl_rlib.pkl', '/lustre/cosinga/hcolor/output/fiducial_tng100B_067S_0A_800R/results/hiptlXgalaxy_dust_tng100B_067S_0A_800R.pkl_rlib.pkl', '/lustre/cosinga/hcolor/output/fiducial_tng100B_067S_0A_800R/results/ptlgrid_tng100B_067S_0A_800R.pkl_rlib.pkl', '/lustre/cosinga/hcolor/output/fiducial_tng100B_067S_0A_800R/results/galaxygrid_tng100B_067S_0A_800R.pkl_rlib.pkl', '/lustre/cosinga/hcolor/output/fiducial_tng100B_067S_0A_800R/results/hisubhalogrid_tng100B_067S_0A_800R.pkl_rlib.pkl', '/lustre/cosinga/hcolor/output/fiducial_tng100B_067S_0A_800R/results/hisubhaloXgalaxy_dust_tng100B_067S_0A_800R.pkl_rlib.pkl', '/lustre/cosinga/hcolor/output/fiducial_tng100B_067S_0A_800R/results/vnXgalaxy_tng100B_067S_0A_800R.pkl_rlib.pkl', '/lustre/cosinga/hcolor/output/fiducial_tng100B_067S_0A_800R/results/galaxyXptl_tng100B_067S_0A_800R.pkl_rlib.pkl', '/lustre/cosinga/hcolor/output/fiducial_tng100B_067S_0A_800R/results/vngrid_tng100B_067S_0A_800R.pkl_rlib.pkl', '/lustre/cosinga/hcolor/output/fiducial_tng100B_067S_0A_800R/results/vnXgalaxy_dust_tng100B_067S_0A_800R.pkl_rlib.pkl', '/lustre/cosinga/hcolor/output/fiducial_tng100B_067S_0A_800R/results/galaxyXgalaxy_tng100B_067S_0A_800R.pkl_rlib.pkl', '/lustre/cosinga/hcolor/output/fiducial_tng100B_067S_0A_800R/results/hiptlgrid_tng100B_067S_0A_800R.pkl_rlib.pkl', '/lustre/cosinga/hcolor/output/fiducial_tng100B_067S_0A_800R/results/hisubhaloXptl_tng100B_067S_0A_800R.pkl_rlib.pkl', '/lustre/cosinga/hcolor/output/fiducial_tng100B_067S_0A_800R/results/vnXptl_tng100B_067S_0A_800R.pkl_rlib.pkl', '/lustre/cosinga/hcolor/output/fiducial_tng100B_067S_0A_800R/results/hiptlXgalaxy_tng100B_067S_0A_800R.pkl_rlib.pkl', '/lustre/cosinga/hcolor/output/fiducial_tng100B_067S_0A_800R/results/hiptlXptl_tng100B_067S_0A_800R.pkl_rlib.pkl', '/lustre/cosinga/hcolor/output/fiducial_tng100B_067S_0A_800R/results/galaxy_dustgrid_tng100B_067S_0A_800R.pkl_rlib.pkl', '/lustre/cosinga/hcolor/output/axis_test2_tng100B_099S_2A_800R/results/vnXgalaxy_dust_tng100B_099S_2A_800R.pkl_rlib.pkl', '/lustre/cosinga/hcolor/output/axis_test2_tng100B_099S_2A_800R/results/hisubhaloXptl_tng100B_099S_2A_800R.pkl_rlib.pkl', '/lustre/cosinga/hcolor/output/axis_test2_tng100B_099S_2A_800R/results/hisubhaloXgalaxy_tng100B_099S_2A_800R.pkl_rlib.pkl', '/lustre/cosinga/hcolor/output/axis_test2_tng100B_099S_2A_800R/results/vnXptl_tng100B_099S_2A_800R.pkl_rlib.pkl', '/lustre/cosinga/hcolor/output/axis_test2_tng100B_099S_2A_800R/results/hisubhalogrid_tng100B_099S_2A_800R.pkl_rlib.pkl', '/lustre/cosinga/hcolor/output/axis_test2_tng100B_099S_2A_800R/results/hiptlXgalaxy_tng100B_099S_2A_800R.pkl_rlib.pkl', '/lustre/cosinga/hcolor/output/axis_test2_tng100B_099S_2A_800R/results/hisubhaloXgalaxy_dust_tng100B_099S_2A_800R.pkl_rlib.pkl', '/lustre/cosinga/hcolor/output/axis_test2_tng100B_099S_2A_800R/results/galaxy_dustgrid_tng100B_099S_2A_800R.pkl_rlib.pkl', '/lustre/cosinga/hcolor/output/axis_test2_tng100B_099S_2A_800R/results/galaxygrid_tng100B_099S_2A_800R.pkl_rlib.pkl', '/lustre/cosinga/hcolor/output/axis_test2_tng100B_099S_2A_800R/results/vnXgalaxy_tng100B_099S_2A_800R.pkl_rlib.pkl', '/lustre/cosinga/hcolor/output/axis_test2_tng100B_099S_2A_800R/results/hiptlXgalaxy_dust_tng100B_099S_2A_800R.pkl_rlib.pkl', '/lustre/cosinga/hcolor/output/axis_test2_tng100B_099S_2A_800R/results/galaxyXgalaxy_tng100B_099S_2A_800R.pkl_rlib.pkl', '/lustre/cosinga/hcolor/output/axis_test2_tng100B_099S_2A_800R/results/vngrid_tng100B_099S_2A_800R.pkl_rlib.pkl', '/lustre/cosinga/hcolor/output/axis_test2_tng100B_099S_2A_800R/results/hiptlXptl_tng100B_099S_2A_800R.pkl_rlib.pkl', '/lustre/cosinga/hcolor/output/axis_test2_tng100B_099S_2A_800R/results/hiptlgrid_tng100B_099S_2A_800R.pkl_rlib.pkl', '/lustre/cosinga/hcolor/output/axis_test2_tng100B_099S_2A_800R/results/galaxyXptl_tng100B_099S_2A_800R.pkl_rlib.pkl', '/lustre/cosinga/hcolor/output/axis_test2_tng100B_099S_2A_800R/results/ptlgrid_tng100B_099S_2A_800R.pkl_rlib.pkl', '/lustre/cosinga/hcolor/output/colordef_tng100B_099S_0A_800R/results/galaxygrid_tng100B_099S_0A_800R.pkl_rlib.pkl', '/lustre/cosinga/hcolor/output/colordef_tng100B_099S_0A_800R/results/galaxyXgalaxy_tng100B_099S_0A_800R.pkl_rlib.pkl', '/lustre/cosinga/hcolor/output/MAS_tng100B_099S_0A_800R/results/galaxygrid_tng100B_099S_0A_800R.pkl_rlib.pkl', '/lustre/cosinga/hcolor/output/MAS_tng100B_099S_0A_800R/results/hisubhalogrid_tng100B_099S_0A_800R.pkl_rlib.pkl', '/lustre/cosinga/hcolor/output/MAS_tng100B_099S_0A_800R/results/hisubhaloXgalaxy_tng100B_099S_0A_800R.pkl_rlib.pkl', '/lustre/cosinga/hcolor/output/MAS_tng100B_099S_0A_800R/results/galaxyXgalaxy_tng100B_099S_0A_800R.pkl_rlib.pkl', '/lustre/cosinga/hcolor/output/axis_test1_tng100B_099S_1A_800R/results/galaxygrid_tng100B_099S_1A_800R.pkl_rlib.pkl', '/lustre/cosinga/hcolor/output/axis_test1_tng100B_099S_1A_800R/results/hiptlXgalaxy_dust_tng100B_099S_1A_800R.pkl_rlib.pkl', '/lustre/cosinga/hcolor/output/axis_test1_tng100B_099S_1A_800R/results/vnXgalaxy_tng100B_099S_1A_800R.pkl_rlib.pkl', '/lustre/cosinga/hcolor/output/axis_test1_tng100B_099S_1A_800R/results/vnXptl_tng100B_099S_1A_800R.pkl_rlib.pkl', '/lustre/cosinga/hcolor/output/axis_test1_tng100B_099S_1A_800R/results/galaxyXptl_tng100B_099S_1A_800R.pkl_rlib.pkl', '/lustre/cosinga/hcolor/output/axis_test1_tng100B_099S_1A_800R/results/galaxy_dustgrid_tng100B_099S_1A_800R.pkl_rlib.pkl', '/lustre/cosinga/hcolor/output/axis_test1_tng100B_099S_1A_800R/results/hiptlXptl_tng100B_099S_1A_800R.pkl_rlib.pkl', '/lustre/cosinga/hcolor/output/axis_test1_tng100B_099S_1A_800R/results/vnXgalaxy_dust_tng100B_099S_1A_800R.pkl_rlib.pkl', '/lustre/cosinga/hcolor/output/axis_test1_tng100B_099S_1A_800R/results/hiptlgrid_tng100B_099S_1A_800R.pkl_rlib.pkl', '/lustre/cosinga/hcolor/output/axis_test1_tng100B_099S_1A_800R/results/hisubhaloXptl_tng100B_099S_1A_800R.pkl_rlib.pkl', '/lustre/cosinga/hcolor/output/axis_test1_tng100B_099S_1A_800R/results/ptlgrid_tng100B_099S_1A_800R.pkl_rlib.pkl', '/lustre/cosinga/hcolor/output/axis_test1_tng100B_099S_1A_800R/results/hisubhaloXgalaxy_dust_tng100B_099S_1A_800R.pkl_rlib.pkl', '/lustre/cosinga/hcolor/output/axis_test1_tng100B_099S_1A_800R/results/hisubhaloXgalaxy_tng100B_099S_1A_800R.pkl_rlib.pkl', '/lustre/cosinga/hcolor/output/axis_test1_tng100B_099S_1A_800R/results/galaxyXgalaxy_tng100B_099S_1A_800R.pkl_rlib.pkl', '/lustre/cosinga/hcolor/output/axis_test1_tng100B_099S_1A_800R/results/hiptlXgalaxy_tng100B_099S_1A_800R.pkl_rlib.pkl', '/lustre/cosinga/hcolor/output/axis_test1_tng100B_099S_1A_800R/results/vngrid_tng100B_099S_1A_800R.pkl_rlib.pkl', '/lustre/cosinga/hcolor/output/axis_test1_tng100B_099S_1A_800R/results/hisubhalogrid_tng100B_099S_1A_800R.pkl_rlib.pkl', '/lustre/cosinga/hcolor/output/convtest_tng100B_099S_0A_1000R/results/vngrid_tng100B_099S_0A_1000R.pkl_rlib.pkl', '/lustre/cosinga/hcolor/output/convtest_tng100B_099S_0A_1000R/results/hisubhalogrid_tng100B_099S_0A_1000R.pkl_rlib.pkl', '/lustre/cosinga/hcolor/output/convtest_tng100B_099S_0A_1000R/results/vnXptl_tng100B_099S_0A_1000R.pkl_rlib.pkl', '/lustre/cosinga/hcolor/output/convtest_tng100B_099S_0A_1000R/results/galaxyXptl_tng100B_099S_0A_1000R.pkl_rlib.pkl', '/lustre/cosinga/hcolor/output/convtest_tng100B_099S_0A_1000R/results/hisubhaloXgalaxy_tng100B_099S_0A_1000R.pkl_rlib.pkl', '/lustre/cosinga/hcolor/output/convtest_tng100B_099S_0A_1000R/results/galaxyXgalaxy_tng100B_099S_0A_1000R.pkl_rlib.pkl', '/lustre/cosinga/hcolor/output/convtest_tng100B_099S_0A_1000R/results/galaxygrid_tng100B_099S_0A_1000R.pkl_rlib.pkl', '/lustre/cosinga/hcolor/output/convtest_tng100B_099S_0A_1000R/results/hiptlXgalaxy_tng100B_099S_0A_1000R.pkl_rlib.pkl', '/lustre/cosinga/hcolor/output/convtest_tng100B_099S_0A_1000R/results/hisubhaloXptl_tng100B_099S_0A_1000R.pkl_rlib.pkl', '/lustre/cosinga/hcolor/output/convtest_tng100B_099S_0A_1000R/results/hiptlgrid_tng100B_099S_0A_1000R.pkl_rlib.pkl', '/lustre/cosinga/hcolor/output/convtest_tng100B_099S_0A_1000R/results/hiptlXptl_tng100B_099S_0A_1000R.pkl_rlib.pkl', '/lustre/cosinga/hcolor/output/convtest_tng100B_099S_0A_1000R/results/vnXgalaxy_tng100B_099S_0A_1000R.pkl_rlib.pkl', '/lustre/cosinga/hcolor/output/convtest_tng100B_099S_0A_1000R/results/ptlgrid_tng100B_099S_0A_1000R.pkl_rlib.pkl', '/lustre/cosinga/hcolor/output/species_tng100B_099S_0A_800R/results/galaxygrid_tng100B_099S_0A_800R.pkl_rlib.pkl', '/lustre/cosinga/hcolor/output/species_tng100B_099S_0A_800R/results/galaxyXgalaxy_tng100B_099S_0A_800R.pkl_rlib.pkl', '/lustre/cosinga/hcolor/output/MAS_tng100B_067S_0A_800R/results/hisubhaloXgalaxy_tng100B_067S_0A_800R.pkl_rlib.pkl', '/lustre/cosinga/hcolor/output/MAS_tng100B_067S_0A_800R/results/galaxygrid_tng100B_067S_0A_800R.pkl_rlib.pkl', '/lustre/cosinga/hcolor/output/MAS_tng100B_067S_0A_800R/results/hisubhalogrid_tng100B_067S_0A_800R.pkl_rlib.pkl', '/lustre/cosinga/hcolor/output/MAS_tng100B_067S_0A_800R/results/galaxyXgalaxy_tng100B_067S_0A_800R.pkl_rlib.pkl', '/lustre/cosinga/hcolor/output/HIbt_tng100B_067S_0A_800R/results/ptlgrid_tng100B_067S_0A_800R.pkl_rlib.pkl', '/lustre/cosinga/hcolor/output/HIbt_tng100B_067S_0A_800R/results/galaxygrid_tng100B_067S_0A_800R.pkl_rlib.pkl', '/lustre/cosinga/hcolor/output/HIbt_tng100B_067S_0A_800R/results/galaxyXptl_tng100B_067S_0A_800R.pkl_rlib.pkl', '/lustre/cosinga/hcolor/output/HIbt_tng100B_067S_0A_800R/results/galaxyXgalaxy_tng100B_067S_0A_800R.pkl_rlib.pkl', '/lustre/cosinga/hcolor/output/low-2_tng100-2B_099S_0A_800R/results/hisubhalogrid_tng100-2B_099S_0A_800R.pkl_rlib.pkl', '/lustre/cosinga/hcolor/output/low-2_tng100-2B_099S_0A_800R/results/hiptlgrid_tng100-2B_099S_0A_800R.pkl_rlib.pkl', '/lustre/cosinga/hcolor/output/low-2_tng100-2B_099S_0A_800R/results/hisubhaloXptl_tng100-2B_099S_0A_800R.pkl_rlib.pkl', '/lustre/cosinga/hcolor/output/low-2_tng100-2B_099S_0A_800R/results/galaxyXgalaxy_tng100-2B_099S_0A_800R.pkl_rlib.pkl', '/lustre/cosinga/hcolor/output/low-2_tng100-2B_099S_0A_800R/results/ptlgrid_tng100-2B_099S_0A_800R.pkl_rlib.pkl', '/lustre/cosinga/hcolor/output/low-2_tng100-2B_099S_0A_800R/results/hiptlXptl_tng100-2B_099S_0A_800R.pkl_rlib.pkl', '/lustre/cosinga/hcolor/output/low-2_tng100-2B_099S_0A_800R/results/hisubhaloXgalaxy_tng100-2B_099S_0A_800R.pkl_rlib.pkl', '/lustre/cosinga/hcolor/output/low-2_tng100-2B_099S_0A_800R/results/galaxyXptl_tng100-2B_099S_0A_800R.pkl_rlib.pkl', '/lustre/cosinga/hcolor/output/low-2_tng100-2B_099S_0A_800R/results/hiptlXgalaxy_tng100-2B_099S_0A_800R.pkl_rlib.pkl', '/lustre/cosinga/hcolor/output/low-2_tng100-2B_099S_0A_800R/results/galaxygrid_tng100-2B_099S_0A_800R.pkl_rlib.pkl', '/lustre/cosinga/hcolor/output/galbt_tng100B_099S_0A_800R/results/hiptlgrid_tng100B_099S_0A_800R.pkl_rlib.pkl', '/lustre/cosinga/hcolor/output/galbt_tng100B_099S_0A_800R/results/galaxygrid_tng100B_099S_0A_800R.pkl_rlib.pkl', '/lustre/cosinga/hcolor/output/galbt_tng100B_099S_0A_800R/results/hisubhalogrid_tng100B_099S_0A_800R.pkl_rlib.pkl', '/lustre/cosinga/hcolor/output/galbt_tng100B_099S_0A_800R/results/vnXgalaxy_tng100B_099S_0A_800R.pkl_rlib.pkl', '/lustre/cosinga/hcolor/output/galbt_tng100B_099S_0A_800R/results/hiptlXgalaxy_tng100B_099S_0A_800R.pkl_rlib.pkl', '/lustre/cosinga/hcolor/output/galbt_tng100B_099S_0A_800R/results/vngrid_tng100B_099S_0A_800R.pkl_rlib.pkl', '/lustre/cosinga/hcolor/output/galbt_tng100B_099S_0A_800R/results/hisubhaloXgalaxy_tng100B_099S_0A_800R.pkl_rlib.pkl', '/lustre/cosinga/hcolor/output/galbt_tng100B_099S_0A_800R/results/galaxyXgalaxy_tng100B_099S_0A_800R.pkl_rlib.pkl', '/lustre/cosinga/hcolor/output/galbt_tng100B_067S_0A_800R/results/hisubhaloXgalaxy_tng100B_067S_0A_800R.pkl_rlib.pkl', '/lustre/cosinga/hcolor/output/galbt_tng100B_067S_0A_800R/results/galaxygrid_tng100B_067S_0A_800R.pkl_rlib.pkl', '/lustre/cosinga/hcolor/output/galbt_tng100B_067S_0A_800R/results/hisubhalogrid_tng100B_067S_0A_800R.pkl_rlib.pkl', '/lustre/cosinga/hcolor/output/galbt_tng100B_067S_0A_800R/results/vnXgalaxy_tng100B_067S_0A_800R.pkl_rlib.pkl', '/lustre/cosinga/hcolor/output/galbt_tng100B_067S_0A_800R/results/vngrid_tng100B_067S_0A_800R.pkl_rlib.pkl', '/lustre/cosinga/hcolor/output/galbt_tng100B_067S_0A_800R/results/galaxyXgalaxy_tng100B_067S_0A_800R.pkl_rlib.pkl', '/lustre/cosinga/hcolor/output/galbt_tng100B_067S_0A_800R/results/hiptlgrid_tng100B_067S_0A_800R.pkl_rlib.pkl', '/lustre/cosinga/hcolor/output/galbt_tng100B_067S_0A_800R/results/hiptlXgalaxy_tng100B_067S_0A_800R.pkl_rlib.pkl', '/lustre/cosinga/hcolor/output/low-3_tng100-3B_099S_0A_800R/results/hiptlgrid_tng100-3B_099S_0A_800R.pkl_rlib.pkl', '/lustre/cosinga/hcolor/output/low-3_tng100-3B_099S_0A_800R/results/hisubhalogrid_tng100-3B_099S_0A_800R.pkl_rlib.pkl', '/lustre/cosinga/hcolor/output/low-3_tng100-3B_099S_0A_800R/results/galaxyXptl_tng100-3B_099S_0A_800R.pkl_rlib.pkl', '/lustre/cosinga/hcolor/output/low-3_tng100-3B_099S_0A_800R/results/galaxygrid_tng100-3B_099S_0A_800R.pkl_rlib.pkl', '/lustre/cosinga/hcolor/output/low-3_tng100-3B_099S_0A_800R/results/hiptlXptl_tng100-3B_099S_0A_800R.pkl_rlib.pkl', '/lustre/cosinga/hcolor/output/low-3_tng100-3B_099S_0A_800R/results/galaxyXgalaxy_tng100-3B_099S_0A_800R.pkl_rlib.pkl', '/lustre/cosinga/hcolor/output/low-3_tng100-3B_099S_0A_800R/results/hisubhaloXptl_tng100-3B_099S_0A_800R.pkl_rlib.pkl', '/lustre/cosinga/hcolor/output/low-3_tng100-3B_099S_0A_800R/results/ptlgrid_tng100-3B_099S_0A_800R.pkl_rlib.pkl', '/lustre/cosinga/hcolor/output/low-3_tng100-3B_099S_0A_800R/results/hisubhaloXgalaxy_tng100-3B_099S_0A_800R.pkl_rlib.pkl', '/lustre/cosinga/hcolor/output/low-3_tng100-3B_099S_0A_800R/results/hiptlXgalaxy_tng100-3B_099S_0A_800R.pkl_rlib.pkl']\n"
     ]
    }
   ],
   "source": [
    "ds = DataSort()\n",
    "ds = figlib.loadpks(ds)"
   ]
  },
  {
   "cell_type": "code",
   "execution_count": null,
   "metadata": {},
   "outputs": [],
   "source": []
  },
  {
   "cell_type": "code",
   "execution_count": 3,
   "metadata": {},
   "outputs": [
    {
     "name": "stderr",
     "output_type": "stream",
     "text": [
      "ERROR:root:Internal Python error in the inspect module.\n",
      "Below is the traceback from this internal error.\n",
      "\n"
     ]
    },
    {
     "name": "stdout",
     "output_type": "stream",
     "text": [
      "Traceback (most recent call last):\n",
      "  File \"/software/spack-software/2020.05.14/linux-rhel8-ivybridge/gcc-8.4.0/python-3.7.7-zgcjuclie3fiis4ljkrfp4c4j6fkoa62/lib/python3.7/site-packages/IPython/core/interactiveshell.py\", line 3291, in run_code\n",
      "    exec(code_obj, self.user_global_ns, self.user_ns)\n",
      "  File \"<ipython-input-3-b83e32c00693>\", line 1, in <module>\n",
      "    import h5p\n",
      "ModuleNotFoundError: No module named 'h5p'\n",
      "\n",
      "During handling of the above exception, another exception occurred:\n",
      "\n",
      "Traceback (most recent call last):\n",
      "  File \"/software/spack-software/2020.05.14/linux-rhel8-ivybridge/gcc-8.4.0/python-3.7.7-zgcjuclie3fiis4ljkrfp4c4j6fkoa62/lib/python3.7/site-packages/IPython/core/interactiveshell.py\", line 2033, in showtraceback\n",
      "    stb = value._render_traceback_()\n",
      "AttributeError: 'ModuleNotFoundError' object has no attribute '_render_traceback_'\n",
      "\n",
      "During handling of the above exception, another exception occurred:\n",
      "\n",
      "Traceback (most recent call last):\n",
      "  File \"/software/spack-software/2020.05.14/linux-rhel8-ivybridge/gcc-8.4.0/python-3.7.7-zgcjuclie3fiis4ljkrfp4c4j6fkoa62/lib/python3.7/site-packages/IPython/core/ultratb.py\", line 1095, in get_records\n",
      "    return _fixed_getinnerframes(etb, number_of_lines_of_context, tb_offset)\n",
      "  File \"/software/spack-software/2020.05.14/linux-rhel8-ivybridge/gcc-8.4.0/python-3.7.7-zgcjuclie3fiis4ljkrfp4c4j6fkoa62/lib/python3.7/site-packages/IPython/core/ultratb.py\", line 313, in wrapped\n",
      "    return f(*args, **kwargs)\n",
      "  File \"/software/spack-software/2020.05.14/linux-rhel8-ivybridge/gcc-8.4.0/python-3.7.7-zgcjuclie3fiis4ljkrfp4c4j6fkoa62/lib/python3.7/site-packages/IPython/core/ultratb.py\", line 347, in _fixed_getinnerframes\n",
      "    records = fix_frame_records_filenames(inspect.getinnerframes(etb, context))\n",
      "  File \"/software/spack-software/2020.05.14/linux-rhel8-ivybridge/gcc-8.4.0/python-3.7.7-zgcjuclie3fiis4ljkrfp4c4j6fkoa62/lib/python3.7/inspect.py\", line 1502, in getinnerframes\n",
      "    frameinfo = (tb.tb_frame,) + getframeinfo(tb, context)\n",
      "  File \"/software/spack-software/2020.05.14/linux-rhel8-ivybridge/gcc-8.4.0/python-3.7.7-zgcjuclie3fiis4ljkrfp4c4j6fkoa62/lib/python3.7/inspect.py\", line 1460, in getframeinfo\n",
      "    filename = getsourcefile(frame) or getfile(frame)\n",
      "  File \"/software/spack-software/2020.05.14/linux-rhel8-ivybridge/gcc-8.4.0/python-3.7.7-zgcjuclie3fiis4ljkrfp4c4j6fkoa62/lib/python3.7/inspect.py\", line 696, in getsourcefile\n",
      "    if getattr(getmodule(object, filename), '__loader__', None) is not None:\n",
      "  File \"/software/spack-software/2020.05.14/linux-rhel8-ivybridge/gcc-8.4.0/python-3.7.7-zgcjuclie3fiis4ljkrfp4c4j6fkoa62/lib/python3.7/inspect.py\", line 742, in getmodule\n",
      "    os.path.realpath(f)] = module.__name__\n",
      "  File \"/software/spack-software/2020.05.14/linux-rhel8-ivybridge/gcc-8.4.0/python-3.7.7-zgcjuclie3fiis4ljkrfp4c4j6fkoa62/lib/python3.7/posixpath.py\", line 395, in realpath\n",
      "    path, ok = _joinrealpath(filename[:0], filename, {})\n",
      "  File \"/software/spack-software/2020.05.14/linux-rhel8-ivybridge/gcc-8.4.0/python-3.7.7-zgcjuclie3fiis4ljkrfp4c4j6fkoa62/lib/python3.7/posixpath.py\", line 429, in _joinrealpath\n",
      "    if not islink(newpath):\n",
      "  File \"/software/spack-software/2020.05.14/linux-rhel8-ivybridge/gcc-8.4.0/python-3.7.7-zgcjuclie3fiis4ljkrfp4c4j6fkoa62/lib/python3.7/posixpath.py\", line 171, in islink\n",
      "    st = os.lstat(path)\n",
      "KeyboardInterrupt\n"
     ]
    },
    {
     "ename": "ModuleNotFoundError",
     "evalue": "No module named 'h5p'",
     "output_type": "error",
     "traceback": [
      "\u001b[0;31m---------------------------------------------------------------------------\u001b[0m"
     ]
    }
   ],
   "source": [
    "import h5py as hp"
   ]
  }
 ],
 "metadata": {
  "kernelspec": {
   "display_name": "Python 3",
   "language": "python",
   "name": "python3"
  },
  "language_info": {
   "codemirror_mode": {
    "name": "ipython",
    "version": 3
   },
   "file_extension": ".py",
   "mimetype": "text/x-python",
   "name": "python",
   "nbconvert_exporter": "python",
   "pygments_lexer": "ipython3",
   "version": "3.7.7"
  }
 },
 "nbformat": 4,
 "nbformat_minor": 2
}
