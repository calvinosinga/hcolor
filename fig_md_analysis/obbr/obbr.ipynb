{
 "cells": [
  {
   "cell_type": "code",
   "execution_count": 10,
   "id": "3bcb8a24",
   "metadata": {},
   "outputs": [],
   "source": [
    "import pickle as pkl\n",
    "import pk_plot_library as pplib\n",
    "import numpy as np\n",
    "import matplotlib.pyplot as plt\n",
    "DRAFTPATH = '/Users/cosinga/code/hicolor_draft_two/figures/'\n",
    "SAVEPATH = '/Users/cosinga/code/hcolor/fig_md_analysis/rvb/'\n",
    "WEBPATH = '/Users/cosinga/code/calvinosinga.github.io/hicolor/sup_analysis/'\n",
    "pplib.imports()\n",
    "\n",
    "def fill_mean(ax, data, kwargs):\n",
    "    x = data[0]\n",
    "    y = np.mean(np.array([data[1], data[2]]), axis = 0)\n",
    "    kwargs['alpha'] = 1\n",
    "    ax.plot(x, y, **kwargs)\n",
    "    return\n",
    "def max_min(ys):\n",
    "\n",
    "    for i in range(len(ys)):\n",
    "        data = ys[i]\n",
    "        if i == 0:\n",
    "            maxs = np.ones_like(data) * data\n",
    "            mins = np.ones_like(maxs) * data\n",
    "        else:\n",
    "            mins = np.minimum(data, mins)\n",
    "            maxs = np.maximum(data, maxs)\n",
    "    return mins, maxs\n",
    "    \n",
    "    "
   ]
  },
  {
   "cell_type": "code",
   "execution_count": 2,
   "id": "b0a8090f",
   "metadata": {},
   "outputs": [],
   "source": [
    "ds = pkl.load(open('/Users/cosinga/code/hcolor/fig_md_analysis/2-10_pkdatasort.pkl', 'rb'))\n",
    "\n",
    "ds.tickArgs(direction = 'in', labelsize = 14)\n",
    "ds.legendArgs(frameon = False, loc = 'upper right', fontsize = 12, slc = (-1, -1))\n",
    "\n",
    "ds.rowLabelArgs(pos = [0.05, 0.05], fontsize = 16, ha = 'left', va = 'bottom')\n",
    "ds.colLabelArgs(pos = [0.5, 0.95], fontsize = 16, ha = 'center', va = 'top')\n",
    "\n",
    "ds.axisArgs(xscale = 'log', yscale = 'log', xlim = [0.11866199299595938, 20])\n",
    "ds.axisLabelArgs('both', fontsize = 16)\n",
    "ds.setOrder('space', ['real', 'redshift', 'rsd'])\n",
    "ds.setOrder('snapshot', [99, 67, 50])\n",
    "\n",
    "ds.displayAs('space', ['real', 'redshift', 'rsd'], ['Real Space', 'Redshift Space', 'Redshift Space\\nDistortions'])\n",
    "ds.displayAs('HI_fieldname', ['hisubhalo', 'vn', 'hiptl'], ['Galaxy Centers', 'All Particles', 'Particles in Galaxies'])\n",
    "ds.displayAs('snapshot', [99, 67, 50], ['z = 0.0', 'z = 0.5', 'z = 1.0'])\n",
    "ds.displayAs('color', ['red', 'blue', 'resolved', 'ratio'],\n",
    "            ['HI $\\\\times$ Red\\nCross-Power', 'HI $\\\\times$ Blue\\nCross-Power',\n",
    "            'HI $\\\\times$ Galaxy\\nCross-Power', r'Color Ratio'])\n",
    "ds.displayAs('post_process', ['corr_coef', 'theory_bias', 'obs_bias'], \n",
    "             ['r', '$b_{\\\\mathrm{th}}$', '$b_{\\\\mathrm{obs}}$'])\n",
    "\n",
    "ds.setColors('post_process', ['pink', 'lime', 'cyan'], ['corr_coef', 'theory_bias', 'obs_bias'])\n",
    "ds.setColors('color', ['red', 'blue', 'gray'], ['red', 'blue', 'resolved'])\n",
    "ds.setColors('space', ['green', 'orange'], ['real', 'redshift'])\n",
    "ds.setColors('HI_fieldname', ['firebrick', 'saddlebrown', 'sandybrown'], ['vn', 'hiptl', 'hisubhalo'])\n",
    "snapshots = ds.getAttrVals('snapshot')\n",
    "snapshots.sort()\n",
    "snapshots.reverse()\n",
    "ds.setColors('snapshot', 'viridis', snapshots)\n",
    "\n",
    "ds.setXLabel(pplib.wnum())"
   ]
  },
  {
   "cell_type": "code",
   "execution_count": 16,
   "id": "fe814114",
   "metadata": {},
   "outputs": [],
   "source": [
    "def get_bbr(SNAP, SPACE, SIM, COLOR, MODEL):\n",
    "    \n",
    "\n",
    "    HIip = {'is_auto':False, \"HI_fieldname\":['vn', 'hiptl'],      \n",
    "          'axis':0, 'grid_resolution':800, 'simname': SIM,\n",
    "          'sim_resolution':'high', 'ptl_species':'ptl',\n",
    "          'mas':'CICW', 'model':MODEL,\n",
    "          'post_process':['obs_bias'], 'snapshot':SNAP, 'space':SPACE,\n",
    "         'path':'fiducial', 'denominator':'ptl'}\n",
    "\n",
    "    galip = {'is_auto':False, 'ptl_species':'ptl', \n",
    "          'axis':0, 'grid_resolution':800, 'simname': SIM, 'gal_res':'diemer',\n",
    "          'gal_species':'stmass', 'sim_resolution':'high', 'mas':'CICW', 'color': COLOR,\n",
    "          'post_process':'obs_bias', 'snapshot':SNAP, 'space':SPACE,\n",
    "         'path':'fiducial', 'denominator':'ptl'}\n",
    "    \n",
    "    rip = {'is_auto':False, 'post_process':'corr_coef', 'HI_fieldname':['vn', 'hiptl'], 'space':SPACE, 'gal_res':'diemer',\n",
    "          'gal_species':'stmass', 'snapshot':SNAP, 'simname':SIM,\n",
    "          'censat':['no key found', 'both'], 'mas':'CICW', 'color': COLOR,\n",
    "         'path':'fiducial', 'model':MODEL}\n",
    "    bhis = ds.getMatching(HIip)\n",
    "    bgal = ds.getMatching(galip)\n",
    "    rhigal = ds.getMatching(rip)\n",
    "    if len(bhis) == 1:\n",
    "        bhis = ds.getMatching(HIip)[0].getData()\n",
    "    else:\n",
    "        print('too many bhi',len(bhis))\n",
    "    if len(bgal) == 1:\n",
    "        bgal = ds.getMatching(galip)[0].getData()\n",
    "    else:\n",
    "        print('too many bgal',len(bgal))\n",
    "        print(bgal)\n",
    "    if len(rhigal) == 1:\n",
    "        rhigal = ds.getMatching(rip)[0].getData()\n",
    "    else:\n",
    "        print('too many r', len(rhigal))\n",
    "    \n",
    "    return bhis[0], bhis[1] * bgal[1] * rhigal[1]"
   ]
  },
  {
   "cell_type": "code",
   "execution_count": 49,
   "id": "961afa89",
   "metadata": {},
   "outputs": [
    {
     "data": {
      "image/png": "[encoded data removed]",
      "text/plain": [
       "<Figure size 288x288 with 1 Axes>"
      ]
     },
     "metadata": {
      "needs_background": "light"
     },
     "output_type": "display_data"
    }
   ],
   "source": [
    "colors = ['blue', 'red']\n",
    "pltcols = ['blue', 'red', 'gray']\n",
    "labels = ['HI $\\\\times$ Blue', 'HI $\\\\times$ Red', 'All Gal.']\n",
    "models = ds.getAttrVals('model')[:5]\n",
    "# fig, axes = plt.subplots(1, 3)\n",
    "plt.figure(figsize = (4,4))\n",
    "for i, col in enumerate(colors):\n",
    "    bbrs = []\n",
    "    for j, mod in enumerate(models):\n",
    "        \n",
    "        ks, bbr = get_bbr(50, 'redshift', 'tng100', col, mod)\n",
    "        bbr = np.abs(bbr[0] - bbr) / bbr[0]\n",
    "        bbrs.append(bbr)\n",
    "    mins, maxs = max_min(bbrs)\n",
    "    plt.fill_between(ks, mins * 100, maxs * 100, color = pltcols[i], label = labels[i], alpha = 0.6)\n",
    "    \n",
    "    \n",
    "plt.xscale('log')\n",
    "plt.xlim(ks[0], 2)\n",
    "plt.ylim(-0, 200)\n",
    "\n",
    "ax = plt.gca()\n",
    "ax.tick_params(which = 'both', direction = 'in', labelsize = 12, right = True, top = True)\n",
    "plt.text(0.05, 0.5, 'z = 1', fontsize = 12, ha = 'left', va = 'center', transform = ax.transAxes)\n",
    "plt.legend(loc = 'upper left', frameon = False, fontsize = 12)\n",
    "plt.ylabel(r'$\\frac{\\Omega b b r (k_{\\mathrm{max}}) - \\Omega b b r (k)}{\\Omega b b r (k_{\\mathrm{max}})} \\times 100$', fontsize = 18)\n",
    "plt.xlabel('k (h / cMpc)', fontsize = 18)\n",
    "plt.savefig(DRAFTPATH + 'obbr_error.pdf', dpi = 150)"
   ]
  },
  {
   "cell_type": "code",
   "execution_count": null,
   "id": "9d0f7b79",
   "metadata": {},
   "outputs": [],
   "source": []
  }
 ],
 "metadata": {
  "kernelspec": {
   "display_name": "Python 3 (ipykernel)",
   "language": "python",
   "name": "python3"
  },
  "language_info": {
   "codemirror_mode": {
    "name": "ipython",
    "version": 3
   },
   "file_extension": ".py",
   "mimetype": "text/x-python",
   "name": "python",
   "nbconvert_exporter": "python",
   "pygments_lexer": "ipython3",
   "version": "3.8.9"
  }
 },
 "nbformat": 4,
 "nbformat_minor": 5
}
